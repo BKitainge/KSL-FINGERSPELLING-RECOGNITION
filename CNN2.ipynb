{
 "cells": [
  {
   "cell_type": "markdown",
   "metadata": {},
   "source": [
    "## **KSL FINGERSPELLING RECOGNITION** "
   ]
  },
  {
   "cell_type": "markdown",
   "metadata": {},
   "source": [
    "### INTRODUCTION"
   ]
  },
  {
   "attachments": {},
   "cell_type": "markdown",
   "metadata": {},
   "source": [
    "<img src=\"ksl.png\" />"
   ]
  },
  {
   "cell_type": "markdown",
   "metadata": {},
   "source": [
    "### Overview\n",
    "- Fingerspelling is a technique that makes use of hand formations to represent words and letters. Using fingerspelling, one can communicate information such as phone numbers, names, and even addresses. However, hearing impaired individuals find it difficult to merge the current technological advancements, such as, smartphones with fingerspelling because they happen to do it a lot faster than their devices. Therefore, there is need to bridge the gap between fingerspelling and typing on smartphones.\n",
    "- Fingerspelling has grown to become one of the most crucial manual communication systems in the world. For deaf and individuals with hearing impairment issues, fingerspelling is one of the ways that they can communicate with those around them. However, few people are able to discern figerspelling and this leads to communication breakdowns. The use of machine learning technology can help to merge fingerspelling with exact letters and symbols to help enhance communication. "
   ]
  },
  {
   "cell_type": "markdown",
   "metadata": {},
   "source": [
    "### Problem Statement\n",
    "- The deaf and hearing impaired community faces significant communication barriers with the rest of the society. This is because sign language is not widely understood by everyone else around them, and this can lead to difficulties in communication or communication breakdowns. To address this issue, this project aims to develop a Convolutional Neural Network (CNN) model specifically designed for fingerspelling recognition, allowing for accurate identification of individual letters and complete words in different sign languages. By improving the recognition of fingerspelling gestures, the model seeks to enhance communication accessibility for individuals who are deaf or hard of hearing, promoting inclusivity and fostering effective communication with the broader society."
   ]
  },
  {
   "attachments": {},
   "cell_type": "markdown",
   "metadata": {},
   "source": [
    "### Objectives\n",
    "- Our objective is to create an innovative machine learning model that acts as a vital bridge, connecting the deaf and mute community with the wider society.\n",
    "\n",
    "This model will have the capability to translate various sign languages, including American Sign Language (ASL) and Kenyan Sign Language (KSL), into their corresponding individual letters, enabling the broader community to learn and understand sign language for improved communication with their deaf loved ones. Additionally, this development will empower the deaf and mute community to communicate effectively amongst themselves, fostering inclusivity and enhancing overall interactions. Through this project, we aspire to facilitate seamless communication, foster understanding, and promote inclusiveness between these communities."
   ]
  },
  {
   "attachments": {},
   "cell_type": "markdown",
   "metadata": {},
   "source": [
    "#### Specific Objectives\n",
    "1. Develop a Convolutional Neural Network (CNN) model specifically designed for fingerspelling recognition in different sign languages.\n",
    "2. Train the model using a large dataset of fingerspelling gestures in various sign languages, ensuring accuracy and reliability in recognizing individual letters and complete words.\n",
    "3. Conduct extensive testing and evaluation to assess the model's performance and accuracy in recognizing fingerspelling gestures across different sign languages.\n",
    "4. Deploy the model."
   ]
  },
  {
   "attachments": {},
   "cell_type": "markdown",
   "metadata": {},
   "source": [
    "### Data Understanding\n",
    "- The dataset is publicly available on Kaggle which we then added 379 images taken by the group members doing the fingerspelling.\n",
    "- The signs provided are based on the Kenyan Sign Language letter database which is made up of 24 classes of letters with the exclusion of `J` and `Z`. The two letters have been excluded because they require the use of motion. \n",
    "- Further, the dataset is divided into train and test sets each with 27455 and 7172 cases, respectively. The total number of columns for both is 784. "
   ]
  },
  {
   "attachments": {},
   "cell_type": "markdown",
   "metadata": {},
   "source": [
    "### DATA PREPROCESSING"
   ]
  },
  {
   "cell_type": "code",
   "execution_count": 11,
   "metadata": {},
   "outputs": [],
   "source": [
    "#importing necessary libraries\n",
    "import pandas as pd\n",
    "import numpy as np\n",
    "import seaborn as sns\n",
    "import matplotlib.pyplot as plt\n",
    "from PIL import Image\n",
    "import joblib\n",
    "import os\n",
    "from os import listdir\n",
    "from sklearn.model_selection import train_test_split\n",
    "from keras.preprocessing.image import ImageDataGenerator\n",
    "from tensorflow.keras.utils import array_to_img, img_to_array\n",
    "from keras.models import Sequential\n",
    "from keras import layers, initializers, optimizers, regularizers\n",
    "from tensorflow.keras.utils import to_categorical\n",
    "import cv2\n",
    "\n",
    "np.random.seed(180)\n",
    "plt.style.use(\"ggplot\")"
   ]
  },
  {
   "attachments": {},
   "cell_type": "markdown",
   "metadata": {},
   "source": [
    "#### Kaggle Dataset"
   ]
  },
  {
   "cell_type": "code",
   "execution_count": 325,
   "metadata": {},
   "outputs": [
    {
     "data": {
      "text/html": [
       "<div>\n",
       "<style scoped>\n",
       "    .dataframe tbody tr th:only-of-type {\n",
       "        vertical-align: middle;\n",
       "    }\n",
       "\n",
       "    .dataframe tbody tr th {\n",
       "        vertical-align: top;\n",
       "    }\n",
       "\n",
       "    .dataframe thead th {\n",
       "        text-align: right;\n",
       "    }\n",
       "</style>\n",
       "<table border=\"1\" class=\"dataframe\">\n",
       "  <thead>\n",
       "    <tr style=\"text-align: right;\">\n",
       "      <th></th>\n",
       "      <th>label</th>\n",
       "      <th>pixel1</th>\n",
       "      <th>pixel2</th>\n",
       "      <th>pixel3</th>\n",
       "      <th>pixel4</th>\n",
       "      <th>pixel5</th>\n",
       "      <th>pixel6</th>\n",
       "      <th>pixel7</th>\n",
       "      <th>pixel8</th>\n",
       "      <th>pixel9</th>\n",
       "      <th>...</th>\n",
       "      <th>pixel775</th>\n",
       "      <th>pixel776</th>\n",
       "      <th>pixel777</th>\n",
       "      <th>pixel778</th>\n",
       "      <th>pixel779</th>\n",
       "      <th>pixel780</th>\n",
       "      <th>pixel781</th>\n",
       "      <th>pixel782</th>\n",
       "      <th>pixel783</th>\n",
       "      <th>pixel784</th>\n",
       "    </tr>\n",
       "  </thead>\n",
       "  <tbody>\n",
       "    <tr>\n",
       "      <th>0</th>\n",
       "      <td>3</td>\n",
       "      <td>107</td>\n",
       "      <td>118</td>\n",
       "      <td>127</td>\n",
       "      <td>134</td>\n",
       "      <td>139</td>\n",
       "      <td>143</td>\n",
       "      <td>146</td>\n",
       "      <td>150</td>\n",
       "      <td>153</td>\n",
       "      <td>...</td>\n",
       "      <td>207</td>\n",
       "      <td>207</td>\n",
       "      <td>207</td>\n",
       "      <td>207</td>\n",
       "      <td>206</td>\n",
       "      <td>206</td>\n",
       "      <td>206</td>\n",
       "      <td>204</td>\n",
       "      <td>203</td>\n",
       "      <td>202</td>\n",
       "    </tr>\n",
       "    <tr>\n",
       "      <th>1</th>\n",
       "      <td>6</td>\n",
       "      <td>155</td>\n",
       "      <td>157</td>\n",
       "      <td>156</td>\n",
       "      <td>156</td>\n",
       "      <td>156</td>\n",
       "      <td>157</td>\n",
       "      <td>156</td>\n",
       "      <td>158</td>\n",
       "      <td>158</td>\n",
       "      <td>...</td>\n",
       "      <td>69</td>\n",
       "      <td>149</td>\n",
       "      <td>128</td>\n",
       "      <td>87</td>\n",
       "      <td>94</td>\n",
       "      <td>163</td>\n",
       "      <td>175</td>\n",
       "      <td>103</td>\n",
       "      <td>135</td>\n",
       "      <td>149</td>\n",
       "    </tr>\n",
       "    <tr>\n",
       "      <th>2</th>\n",
       "      <td>2</td>\n",
       "      <td>187</td>\n",
       "      <td>188</td>\n",
       "      <td>188</td>\n",
       "      <td>187</td>\n",
       "      <td>187</td>\n",
       "      <td>186</td>\n",
       "      <td>187</td>\n",
       "      <td>188</td>\n",
       "      <td>187</td>\n",
       "      <td>...</td>\n",
       "      <td>202</td>\n",
       "      <td>201</td>\n",
       "      <td>200</td>\n",
       "      <td>199</td>\n",
       "      <td>198</td>\n",
       "      <td>199</td>\n",
       "      <td>198</td>\n",
       "      <td>195</td>\n",
       "      <td>194</td>\n",
       "      <td>195</td>\n",
       "    </tr>\n",
       "    <tr>\n",
       "      <th>3</th>\n",
       "      <td>2</td>\n",
       "      <td>211</td>\n",
       "      <td>211</td>\n",
       "      <td>212</td>\n",
       "      <td>212</td>\n",
       "      <td>211</td>\n",
       "      <td>210</td>\n",
       "      <td>211</td>\n",
       "      <td>210</td>\n",
       "      <td>210</td>\n",
       "      <td>...</td>\n",
       "      <td>235</td>\n",
       "      <td>234</td>\n",
       "      <td>233</td>\n",
       "      <td>231</td>\n",
       "      <td>230</td>\n",
       "      <td>226</td>\n",
       "      <td>225</td>\n",
       "      <td>222</td>\n",
       "      <td>229</td>\n",
       "      <td>163</td>\n",
       "    </tr>\n",
       "    <tr>\n",
       "      <th>4</th>\n",
       "      <td>13</td>\n",
       "      <td>164</td>\n",
       "      <td>167</td>\n",
       "      <td>170</td>\n",
       "      <td>172</td>\n",
       "      <td>176</td>\n",
       "      <td>179</td>\n",
       "      <td>180</td>\n",
       "      <td>184</td>\n",
       "      <td>185</td>\n",
       "      <td>...</td>\n",
       "      <td>92</td>\n",
       "      <td>105</td>\n",
       "      <td>105</td>\n",
       "      <td>108</td>\n",
       "      <td>133</td>\n",
       "      <td>163</td>\n",
       "      <td>157</td>\n",
       "      <td>163</td>\n",
       "      <td>164</td>\n",
       "      <td>179</td>\n",
       "    </tr>\n",
       "  </tbody>\n",
       "</table>\n",
       "<p>5 rows × 785 columns</p>\n",
       "</div>"
      ],
      "text/plain": [
       "   label  pixel1  pixel2  pixel3  pixel4  pixel5  pixel6  pixel7  pixel8  \\\n",
       "0      3     107     118     127     134     139     143     146     150   \n",
       "1      6     155     157     156     156     156     157     156     158   \n",
       "2      2     187     188     188     187     187     186     187     188   \n",
       "3      2     211     211     212     212     211     210     211     210   \n",
       "4     13     164     167     170     172     176     179     180     184   \n",
       "\n",
       "   pixel9  ...  pixel775  pixel776  pixel777  pixel778  pixel779  pixel780  \\\n",
       "0     153  ...       207       207       207       207       206       206   \n",
       "1     158  ...        69       149       128        87        94       163   \n",
       "2     187  ...       202       201       200       199       198       199   \n",
       "3     210  ...       235       234       233       231       230       226   \n",
       "4     185  ...        92       105       105       108       133       163   \n",
       "\n",
       "   pixel781  pixel782  pixel783  pixel784  \n",
       "0       206       204       203       202  \n",
       "1       175       103       135       149  \n",
       "2       198       195       194       195  \n",
       "3       225       222       229       163  \n",
       "4       157       163       164       179  \n",
       "\n",
       "[5 rows x 785 columns]"
      ]
     },
     "execution_count": 325,
     "metadata": {},
     "output_type": "execute_result"
    }
   ],
   "source": [
    "# Reading train and test dataset\n",
    "train = pd.read_csv(\"sign_mnist_train.csv\")\n",
    "test = pd.read_csv(\"sign_mnist_test.csv\")\n",
    "\n",
    "# printing first five rows of the train data \n",
    "train.head()"
   ]
  },
  {
   "cell_type": "code",
   "execution_count": 326,
   "metadata": {},
   "outputs": [],
   "source": [
    "# a class to decribe the dataset\n",
    "class Describer:\n",
    "\n",
    "    #initialize an object\n",
    "    def __init__(self, df):\n",
    "        self.df = df\n",
    " \n",
    "    #checking the shape of the data\n",
    "    def shape(self, name):\n",
    "        return print(f\"The {name} dataset has {self.df.shape[0]} entries and {self.df.shape[1]} columns\")"
   ]
  },
  {
   "cell_type": "code",
   "execution_count": 327,
   "metadata": {},
   "outputs": [
    {
     "name": "stdout",
     "output_type": "stream",
     "text": [
      "The train dataset has 27455 entries and 785 columns\n"
     ]
    }
   ],
   "source": [
    "#Viewing the shape of the train dataset\n",
    "data = Describer(train)\n",
    "data.shape(\"train\")"
   ]
  },
  {
   "cell_type": "code",
   "execution_count": 328,
   "metadata": {},
   "outputs": [
    {
     "name": "stdout",
     "output_type": "stream",
     "text": [
      "The test dataset has 7172 entries and 785 columns\n"
     ]
    }
   ],
   "source": [
    "#Viewing the shape of the test dataset\n",
    "data = Describer(test)\n",
    "data.shape(\"test\")"
   ]
  },
  {
   "cell_type": "code",
   "execution_count": 329,
   "metadata": {},
   "outputs": [
    {
     "data": {
      "text/plain": [
       "Index(['label', 'pixel1', 'pixel2', 'pixel3', 'pixel4', 'pixel5', 'pixel6',\n",
       "       'pixel7', 'pixel8', 'pixel9',\n",
       "       ...\n",
       "       'pixel775', 'pixel776', 'pixel777', 'pixel778', 'pixel779', 'pixel780',\n",
       "       'pixel781', 'pixel782', 'pixel783', 'pixel784'],\n",
       "      dtype='object', length=785)"
      ]
     },
     "execution_count": 329,
     "metadata": {},
     "output_type": "execute_result"
    }
   ],
   "source": [
    "# Displaying the column names\n",
    "train.columns"
   ]
  },
  {
   "attachments": {},
   "cell_type": "markdown",
   "metadata": {},
   "source": [
    "* The pixel columns represent the pixel intensity of an image and the label column represents what letter the image stands for from 0-23."
   ]
  },
  {
   "cell_type": "code",
   "execution_count": 330,
   "metadata": {},
   "outputs": [
    {
     "name": "stdout",
     "output_type": "stream",
     "text": [
      "Found 2531 images belonging to 24 classes.\n"
     ]
    }
   ],
   "source": [
    "# reading the collected raw images\n",
    "train_generator = ImageDataGenerator().flow_from_directory(\"train\", target_size=(28,28),\n",
    "                                                           batch_size=2000)"
   ]
  },
  {
   "cell_type": "code",
   "execution_count": 331,
   "metadata": {},
   "outputs": [],
   "source": [
    "#Getting all images and labels\n",
    "train_images, train_labels = next(train_generator)"
   ]
  },
  {
   "cell_type": "code",
   "execution_count": 332,
   "metadata": {},
   "outputs": [],
   "source": [
    "#Flattening images into lists of pixels\n",
    "images_list = []\n",
    "for img_array in train_images:\n",
    "    gray = cv2.cvtColor(img_array, cv2.COLOR_BGR2GRAY)\n",
    "    gray = np.expand_dims(gray, 2)\n",
    "    images_list.append(gray.reshape(-1, 784).flatten().tolist())"
   ]
  },
  {
   "cell_type": "code",
   "execution_count": 334,
   "metadata": {},
   "outputs": [
    {
     "data": {
      "text/html": [
       "<div>\n",
       "<style scoped>\n",
       "    .dataframe tbody tr th:only-of-type {\n",
       "        vertical-align: middle;\n",
       "    }\n",
       "\n",
       "    .dataframe tbody tr th {\n",
       "        vertical-align: top;\n",
       "    }\n",
       "\n",
       "    .dataframe thead th {\n",
       "        text-align: right;\n",
       "    }\n",
       "</style>\n",
       "<table border=\"1\" class=\"dataframe\">\n",
       "  <thead>\n",
       "    <tr style=\"text-align: right;\">\n",
       "      <th></th>\n",
       "      <th>0</th>\n",
       "      <th>1</th>\n",
       "      <th>2</th>\n",
       "      <th>3</th>\n",
       "      <th>4</th>\n",
       "      <th>5</th>\n",
       "      <th>6</th>\n",
       "      <th>7</th>\n",
       "      <th>8</th>\n",
       "      <th>9</th>\n",
       "      <th>...</th>\n",
       "      <th>774</th>\n",
       "      <th>775</th>\n",
       "      <th>776</th>\n",
       "      <th>777</th>\n",
       "      <th>778</th>\n",
       "      <th>779</th>\n",
       "      <th>780</th>\n",
       "      <th>781</th>\n",
       "      <th>782</th>\n",
       "      <th>783</th>\n",
       "    </tr>\n",
       "  </thead>\n",
       "  <tbody>\n",
       "    <tr>\n",
       "      <th>0</th>\n",
       "      <td>203.149994</td>\n",
       "      <td>205.623001</td>\n",
       "      <td>205.623001</td>\n",
       "      <td>204.623001</td>\n",
       "      <td>204.623001</td>\n",
       "      <td>205.623001</td>\n",
       "      <td>204.623001</td>\n",
       "      <td>203.623001</td>\n",
       "      <td>205.623001</td>\n",
       "      <td>205.623001</td>\n",
       "      <td>...</td>\n",
       "      <td>87.579002</td>\n",
       "      <td>79.106003</td>\n",
       "      <td>0.527000</td>\n",
       "      <td>71.481003</td>\n",
       "      <td>81.980003</td>\n",
       "      <td>77.712997</td>\n",
       "      <td>53.649998</td>\n",
       "      <td>34.014000</td>\n",
       "      <td>30.449001</td>\n",
       "      <td>36.324001</td>\n",
       "    </tr>\n",
       "    <tr>\n",
       "      <th>1</th>\n",
       "      <td>181.812012</td>\n",
       "      <td>184.410004</td>\n",
       "      <td>186.410004</td>\n",
       "      <td>186.410004</td>\n",
       "      <td>188.811996</td>\n",
       "      <td>188.811996</td>\n",
       "      <td>188.811996</td>\n",
       "      <td>190.811996</td>\n",
       "      <td>190.811996</td>\n",
       "      <td>189.812012</td>\n",
       "      <td>...</td>\n",
       "      <td>34.482002</td>\n",
       "      <td>44.368004</td>\n",
       "      <td>50.855999</td>\n",
       "      <td>57.008999</td>\n",
       "      <td>54.324997</td>\n",
       "      <td>68.018997</td>\n",
       "      <td>177.858994</td>\n",
       "      <td>182.033005</td>\n",
       "      <td>185.032990</td>\n",
       "      <td>186.033005</td>\n",
       "    </tr>\n",
       "    <tr>\n",
       "      <th>2</th>\n",
       "      <td>207.552002</td>\n",
       "      <td>206.149994</td>\n",
       "      <td>197.791000</td>\n",
       "      <td>198.584000</td>\n",
       "      <td>196.153992</td>\n",
       "      <td>194.556000</td>\n",
       "      <td>189.556000</td>\n",
       "      <td>190.072006</td>\n",
       "      <td>183.072006</td>\n",
       "      <td>178.712997</td>\n",
       "      <td>...</td>\n",
       "      <td>77.278000</td>\n",
       "      <td>71.637001</td>\n",
       "      <td>60.278000</td>\n",
       "      <td>75.387001</td>\n",
       "      <td>165.072006</td>\n",
       "      <td>169.072006</td>\n",
       "      <td>168.039993</td>\n",
       "      <td>193.709000</td>\n",
       "      <td>186.779999</td>\n",
       "      <td>189.779999</td>\n",
       "    </tr>\n",
       "    <tr>\n",
       "      <th>3</th>\n",
       "      <td>197.776001</td>\n",
       "      <td>198.776001</td>\n",
       "      <td>197.776001</td>\n",
       "      <td>198.166992</td>\n",
       "      <td>199.166992</td>\n",
       "      <td>198.166992</td>\n",
       "      <td>201.167007</td>\n",
       "      <td>198.166992</td>\n",
       "      <td>199.166992</td>\n",
       "      <td>200.167007</td>\n",
       "      <td>...</td>\n",
       "      <td>26.789000</td>\n",
       "      <td>67.077003</td>\n",
       "      <td>55.604000</td>\n",
       "      <td>91.746002</td>\n",
       "      <td>77.387001</td>\n",
       "      <td>63.789001</td>\n",
       "      <td>87.990997</td>\n",
       "      <td>200.776016</td>\n",
       "      <td>204.776001</td>\n",
       "      <td>202.776001</td>\n",
       "    </tr>\n",
       "    <tr>\n",
       "      <th>4</th>\n",
       "      <td>159.013992</td>\n",
       "      <td>162.014008</td>\n",
       "      <td>160.014008</td>\n",
       "      <td>162.014008</td>\n",
       "      <td>164.014008</td>\n",
       "      <td>168.014008</td>\n",
       "      <td>168.014008</td>\n",
       "      <td>170.025009</td>\n",
       "      <td>172.024994</td>\n",
       "      <td>175.025009</td>\n",
       "      <td>...</td>\n",
       "      <td>202.000000</td>\n",
       "      <td>204.402008</td>\n",
       "      <td>205.402008</td>\n",
       "      <td>209.402008</td>\n",
       "      <td>212.391006</td>\n",
       "      <td>210.917999</td>\n",
       "      <td>212.917999</td>\n",
       "      <td>211.917999</td>\n",
       "      <td>211.619003</td>\n",
       "      <td>211.619003</td>\n",
       "    </tr>\n",
       "  </tbody>\n",
       "</table>\n",
       "<p>5 rows × 784 columns</p>\n",
       "</div>"
      ],
      "text/plain": [
       "          0           1           2           3           4           5    \\\n",
       "0  203.149994  205.623001  205.623001  204.623001  204.623001  205.623001   \n",
       "1  181.812012  184.410004  186.410004  186.410004  188.811996  188.811996   \n",
       "2  207.552002  206.149994  197.791000  198.584000  196.153992  194.556000   \n",
       "3  197.776001  198.776001  197.776001  198.166992  199.166992  198.166992   \n",
       "4  159.013992  162.014008  160.014008  162.014008  164.014008  168.014008   \n",
       "\n",
       "          6           7           8           9    ...         774  \\\n",
       "0  204.623001  203.623001  205.623001  205.623001  ...   87.579002   \n",
       "1  188.811996  190.811996  190.811996  189.812012  ...   34.482002   \n",
       "2  189.556000  190.072006  183.072006  178.712997  ...   77.278000   \n",
       "3  201.167007  198.166992  199.166992  200.167007  ...   26.789000   \n",
       "4  168.014008  170.025009  172.024994  175.025009  ...  202.000000   \n",
       "\n",
       "          775         776         777         778         779         780  \\\n",
       "0   79.106003    0.527000   71.481003   81.980003   77.712997   53.649998   \n",
       "1   44.368004   50.855999   57.008999   54.324997   68.018997  177.858994   \n",
       "2   71.637001   60.278000   75.387001  165.072006  169.072006  168.039993   \n",
       "3   67.077003   55.604000   91.746002   77.387001   63.789001   87.990997   \n",
       "4  204.402008  205.402008  209.402008  212.391006  210.917999  212.917999   \n",
       "\n",
       "          781         782         783  \n",
       "0   34.014000   30.449001   36.324001  \n",
       "1  182.033005  185.032990  186.033005  \n",
       "2  193.709000  186.779999  189.779999  \n",
       "3  200.776016  204.776001  202.776001  \n",
       "4  211.917999  211.619003  211.619003  \n",
       "\n",
       "[5 rows x 784 columns]"
      ]
     },
     "execution_count": 334,
     "metadata": {},
     "output_type": "execute_result"
    }
   ],
   "source": [
    "#converting the images to a DataFrame\n",
    "raw_img_df = pd.DataFrame(images_list)\n",
    "raw_img_df.head()"
   ]
  },
  {
   "cell_type": "code",
   "execution_count": 335,
   "metadata": {},
   "outputs": [],
   "source": [
    "# Generating the labels\n",
    "train_labels = pd.Series([np.argmax(label) for label in train_labels])"
   ]
  },
  {
   "cell_type": "code",
   "execution_count": 337,
   "metadata": {},
   "outputs": [
    {
     "data": {
      "text/html": [
       "<div>\n",
       "<style scoped>\n",
       "    .dataframe tbody tr th:only-of-type {\n",
       "        vertical-align: middle;\n",
       "    }\n",
       "\n",
       "    .dataframe tbody tr th {\n",
       "        vertical-align: top;\n",
       "    }\n",
       "\n",
       "    .dataframe thead th {\n",
       "        text-align: right;\n",
       "    }\n",
       "</style>\n",
       "<table border=\"1\" class=\"dataframe\">\n",
       "  <thead>\n",
       "    <tr style=\"text-align: right;\">\n",
       "      <th></th>\n",
       "      <th>label</th>\n",
       "      <th>pixel1</th>\n",
       "      <th>pixel2</th>\n",
       "      <th>pixel3</th>\n",
       "      <th>pixel4</th>\n",
       "      <th>pixel5</th>\n",
       "      <th>pixel6</th>\n",
       "      <th>pixel7</th>\n",
       "      <th>pixel8</th>\n",
       "      <th>pixel9</th>\n",
       "      <th>...</th>\n",
       "      <th>pixel775</th>\n",
       "      <th>pixel776</th>\n",
       "      <th>pixel777</th>\n",
       "      <th>pixel778</th>\n",
       "      <th>pixel779</th>\n",
       "      <th>pixel780</th>\n",
       "      <th>pixel781</th>\n",
       "      <th>pixel782</th>\n",
       "      <th>pixel783</th>\n",
       "      <th>pixel784</th>\n",
       "    </tr>\n",
       "  </thead>\n",
       "  <tbody>\n",
       "    <tr>\n",
       "      <th>0</th>\n",
       "      <td>11</td>\n",
       "      <td>203.149994</td>\n",
       "      <td>205.623001</td>\n",
       "      <td>205.623001</td>\n",
       "      <td>204.623001</td>\n",
       "      <td>204.623001</td>\n",
       "      <td>205.623001</td>\n",
       "      <td>204.623001</td>\n",
       "      <td>203.623001</td>\n",
       "      <td>205.623001</td>\n",
       "      <td>...</td>\n",
       "      <td>87.579002</td>\n",
       "      <td>79.106003</td>\n",
       "      <td>0.527000</td>\n",
       "      <td>71.481003</td>\n",
       "      <td>81.980003</td>\n",
       "      <td>77.712997</td>\n",
       "      <td>53.649998</td>\n",
       "      <td>34.014000</td>\n",
       "      <td>30.449001</td>\n",
       "      <td>36.324001</td>\n",
       "    </tr>\n",
       "    <tr>\n",
       "      <th>1</th>\n",
       "      <td>18</td>\n",
       "      <td>181.812012</td>\n",
       "      <td>184.410004</td>\n",
       "      <td>186.410004</td>\n",
       "      <td>186.410004</td>\n",
       "      <td>188.811996</td>\n",
       "      <td>188.811996</td>\n",
       "      <td>188.811996</td>\n",
       "      <td>190.811996</td>\n",
       "      <td>190.811996</td>\n",
       "      <td>...</td>\n",
       "      <td>34.482002</td>\n",
       "      <td>44.368004</td>\n",
       "      <td>50.855999</td>\n",
       "      <td>57.008999</td>\n",
       "      <td>54.324997</td>\n",
       "      <td>68.018997</td>\n",
       "      <td>177.858994</td>\n",
       "      <td>182.033005</td>\n",
       "      <td>185.032990</td>\n",
       "      <td>186.033005</td>\n",
       "    </tr>\n",
       "    <tr>\n",
       "      <th>2</th>\n",
       "      <td>0</td>\n",
       "      <td>207.552002</td>\n",
       "      <td>206.149994</td>\n",
       "      <td>197.791000</td>\n",
       "      <td>198.584000</td>\n",
       "      <td>196.153992</td>\n",
       "      <td>194.556000</td>\n",
       "      <td>189.556000</td>\n",
       "      <td>190.072006</td>\n",
       "      <td>183.072006</td>\n",
       "      <td>...</td>\n",
       "      <td>77.278000</td>\n",
       "      <td>71.637001</td>\n",
       "      <td>60.278000</td>\n",
       "      <td>75.387001</td>\n",
       "      <td>165.072006</td>\n",
       "      <td>169.072006</td>\n",
       "      <td>168.039993</td>\n",
       "      <td>193.709000</td>\n",
       "      <td>186.779999</td>\n",
       "      <td>189.779999</td>\n",
       "    </tr>\n",
       "    <tr>\n",
       "      <th>3</th>\n",
       "      <td>13</td>\n",
       "      <td>197.776001</td>\n",
       "      <td>198.776001</td>\n",
       "      <td>197.776001</td>\n",
       "      <td>198.166992</td>\n",
       "      <td>199.166992</td>\n",
       "      <td>198.166992</td>\n",
       "      <td>201.167007</td>\n",
       "      <td>198.166992</td>\n",
       "      <td>199.166992</td>\n",
       "      <td>...</td>\n",
       "      <td>26.789000</td>\n",
       "      <td>67.077003</td>\n",
       "      <td>55.604000</td>\n",
       "      <td>91.746002</td>\n",
       "      <td>77.387001</td>\n",
       "      <td>63.789001</td>\n",
       "      <td>87.990997</td>\n",
       "      <td>200.776016</td>\n",
       "      <td>204.776001</td>\n",
       "      <td>202.776001</td>\n",
       "    </tr>\n",
       "    <tr>\n",
       "      <th>4</th>\n",
       "      <td>15</td>\n",
       "      <td>159.013992</td>\n",
       "      <td>162.014008</td>\n",
       "      <td>160.014008</td>\n",
       "      <td>162.014008</td>\n",
       "      <td>164.014008</td>\n",
       "      <td>168.014008</td>\n",
       "      <td>168.014008</td>\n",
       "      <td>170.025009</td>\n",
       "      <td>172.024994</td>\n",
       "      <td>...</td>\n",
       "      <td>202.000000</td>\n",
       "      <td>204.402008</td>\n",
       "      <td>205.402008</td>\n",
       "      <td>209.402008</td>\n",
       "      <td>212.391006</td>\n",
       "      <td>210.917999</td>\n",
       "      <td>212.917999</td>\n",
       "      <td>211.917999</td>\n",
       "      <td>211.619003</td>\n",
       "      <td>211.619003</td>\n",
       "    </tr>\n",
       "  </tbody>\n",
       "</table>\n",
       "<p>5 rows × 785 columns</p>\n",
       "</div>"
      ],
      "text/plain": [
       "   label      pixel1      pixel2      pixel3      pixel4      pixel5  \\\n",
       "0     11  203.149994  205.623001  205.623001  204.623001  204.623001   \n",
       "1     18  181.812012  184.410004  186.410004  186.410004  188.811996   \n",
       "2      0  207.552002  206.149994  197.791000  198.584000  196.153992   \n",
       "3     13  197.776001  198.776001  197.776001  198.166992  199.166992   \n",
       "4     15  159.013992  162.014008  160.014008  162.014008  164.014008   \n",
       "\n",
       "       pixel6      pixel7      pixel8      pixel9  ...    pixel775  \\\n",
       "0  205.623001  204.623001  203.623001  205.623001  ...   87.579002   \n",
       "1  188.811996  188.811996  190.811996  190.811996  ...   34.482002   \n",
       "2  194.556000  189.556000  190.072006  183.072006  ...   77.278000   \n",
       "3  198.166992  201.167007  198.166992  199.166992  ...   26.789000   \n",
       "4  168.014008  168.014008  170.025009  172.024994  ...  202.000000   \n",
       "\n",
       "     pixel776    pixel777    pixel778    pixel779    pixel780    pixel781  \\\n",
       "0   79.106003    0.527000   71.481003   81.980003   77.712997   53.649998   \n",
       "1   44.368004   50.855999   57.008999   54.324997   68.018997  177.858994   \n",
       "2   71.637001   60.278000   75.387001  165.072006  169.072006  168.039993   \n",
       "3   67.077003   55.604000   91.746002   77.387001   63.789001   87.990997   \n",
       "4  204.402008  205.402008  209.402008  212.391006  210.917999  212.917999   \n",
       "\n",
       "     pixel782    pixel783    pixel784  \n",
       "0   34.014000   30.449001   36.324001  \n",
       "1  182.033005  185.032990  186.033005  \n",
       "2  193.709000  186.779999  189.779999  \n",
       "3  200.776016  204.776001  202.776001  \n",
       "4  211.917999  211.619003  211.619003  \n",
       "\n",
       "[5 rows x 785 columns]"
      ]
     },
     "execution_count": 337,
     "metadata": {},
     "output_type": "execute_result"
    }
   ],
   "source": [
    "# Concatenating the labels and the raw picture dataframe\n",
    "raw_df = pd.concat([train_labels, raw_img_df], axis=1)\n",
    "raw_df.columns = train.columns\n",
    "\n",
    "#Displaying the first 5 rows of the raw images dataframe\n",
    "raw_df.head()"
   ]
  },
  {
   "cell_type": "code",
   "execution_count": 338,
   "metadata": {},
   "outputs": [],
   "source": [
    "#splitting the raw df to train and test dataframes \n",
    "train_df, test_df = train_test_split(raw_df, test_size=0.01, random_state=180)"
   ]
  },
  {
   "attachments": {},
   "cell_type": "markdown",
   "metadata": {},
   "source": [
    "#### Combining Datasets\n",
    "The kaggle dataset labels are from 0-24 with 9 and 25 missing which represent the j and z letters that have been excluded but the raw dataset labels are from 0-23. For the two datasets to be merged, the labels should be similar."
   ]
  },
  {
   "cell_type": "code",
   "execution_count": 339,
   "metadata": {},
   "outputs": [],
   "source": [
    "# mapping the labels into correct labels\n",
    "mapping_dict = {0: 0, 1: 1, 2: 2, 3: 3, 4: 4, 5: 5, 6: 6, 7: 7, 8: 8, 10: 9, 11: 10,\n",
    "                12: 11, 13: 12, 14: 13, 15: 14, 16: 15, 17: 16, 18: 17, 19: 18, 20: 19,\n",
    "                21: 20, 22: 21, 23: 22, 24: 23}\n",
    "\n",
    "train[\"label\"] = train[\"label\"].map(mapping_dict)\n",
    "test[\"label\"] = test[\"label\"].map(mapping_dict)"
   ]
  },
  {
   "cell_type": "code",
   "execution_count": 340,
   "metadata": {},
   "outputs": [
    {
     "data": {
      "text/html": [
       "<div>\n",
       "<style scoped>\n",
       "    .dataframe tbody tr th:only-of-type {\n",
       "        vertical-align: middle;\n",
       "    }\n",
       "\n",
       "    .dataframe tbody tr th {\n",
       "        vertical-align: top;\n",
       "    }\n",
       "\n",
       "    .dataframe thead th {\n",
       "        text-align: right;\n",
       "    }\n",
       "</style>\n",
       "<table border=\"1\" class=\"dataframe\">\n",
       "  <thead>\n",
       "    <tr style=\"text-align: right;\">\n",
       "      <th></th>\n",
       "      <th>label</th>\n",
       "      <th>pixel1</th>\n",
       "      <th>pixel2</th>\n",
       "      <th>pixel3</th>\n",
       "      <th>pixel4</th>\n",
       "      <th>pixel5</th>\n",
       "      <th>pixel6</th>\n",
       "      <th>pixel7</th>\n",
       "      <th>pixel8</th>\n",
       "      <th>pixel9</th>\n",
       "      <th>...</th>\n",
       "      <th>pixel775</th>\n",
       "      <th>pixel776</th>\n",
       "      <th>pixel777</th>\n",
       "      <th>pixel778</th>\n",
       "      <th>pixel779</th>\n",
       "      <th>pixel780</th>\n",
       "      <th>pixel781</th>\n",
       "      <th>pixel782</th>\n",
       "      <th>pixel783</th>\n",
       "      <th>pixel784</th>\n",
       "    </tr>\n",
       "  </thead>\n",
       "  <tbody>\n",
       "    <tr>\n",
       "      <th>0</th>\n",
       "      <td>3</td>\n",
       "      <td>107.0</td>\n",
       "      <td>118.0</td>\n",
       "      <td>127.0</td>\n",
       "      <td>134.0</td>\n",
       "      <td>139.0</td>\n",
       "      <td>143.0</td>\n",
       "      <td>146.0</td>\n",
       "      <td>150.0</td>\n",
       "      <td>153.0</td>\n",
       "      <td>...</td>\n",
       "      <td>207.0</td>\n",
       "      <td>207.0</td>\n",
       "      <td>207.0</td>\n",
       "      <td>207.0</td>\n",
       "      <td>206.0</td>\n",
       "      <td>206.0</td>\n",
       "      <td>206.0</td>\n",
       "      <td>204.0</td>\n",
       "      <td>203.0</td>\n",
       "      <td>202.0</td>\n",
       "    </tr>\n",
       "    <tr>\n",
       "      <th>1</th>\n",
       "      <td>6</td>\n",
       "      <td>155.0</td>\n",
       "      <td>157.0</td>\n",
       "      <td>156.0</td>\n",
       "      <td>156.0</td>\n",
       "      <td>156.0</td>\n",
       "      <td>157.0</td>\n",
       "      <td>156.0</td>\n",
       "      <td>158.0</td>\n",
       "      <td>158.0</td>\n",
       "      <td>...</td>\n",
       "      <td>69.0</td>\n",
       "      <td>149.0</td>\n",
       "      <td>128.0</td>\n",
       "      <td>87.0</td>\n",
       "      <td>94.0</td>\n",
       "      <td>163.0</td>\n",
       "      <td>175.0</td>\n",
       "      <td>103.0</td>\n",
       "      <td>135.0</td>\n",
       "      <td>149.0</td>\n",
       "    </tr>\n",
       "    <tr>\n",
       "      <th>2</th>\n",
       "      <td>2</td>\n",
       "      <td>187.0</td>\n",
       "      <td>188.0</td>\n",
       "      <td>188.0</td>\n",
       "      <td>187.0</td>\n",
       "      <td>187.0</td>\n",
       "      <td>186.0</td>\n",
       "      <td>187.0</td>\n",
       "      <td>188.0</td>\n",
       "      <td>187.0</td>\n",
       "      <td>...</td>\n",
       "      <td>202.0</td>\n",
       "      <td>201.0</td>\n",
       "      <td>200.0</td>\n",
       "      <td>199.0</td>\n",
       "      <td>198.0</td>\n",
       "      <td>199.0</td>\n",
       "      <td>198.0</td>\n",
       "      <td>195.0</td>\n",
       "      <td>194.0</td>\n",
       "      <td>195.0</td>\n",
       "    </tr>\n",
       "    <tr>\n",
       "      <th>3</th>\n",
       "      <td>2</td>\n",
       "      <td>211.0</td>\n",
       "      <td>211.0</td>\n",
       "      <td>212.0</td>\n",
       "      <td>212.0</td>\n",
       "      <td>211.0</td>\n",
       "      <td>210.0</td>\n",
       "      <td>211.0</td>\n",
       "      <td>210.0</td>\n",
       "      <td>210.0</td>\n",
       "      <td>...</td>\n",
       "      <td>235.0</td>\n",
       "      <td>234.0</td>\n",
       "      <td>233.0</td>\n",
       "      <td>231.0</td>\n",
       "      <td>230.0</td>\n",
       "      <td>226.0</td>\n",
       "      <td>225.0</td>\n",
       "      <td>222.0</td>\n",
       "      <td>229.0</td>\n",
       "      <td>163.0</td>\n",
       "    </tr>\n",
       "    <tr>\n",
       "      <th>4</th>\n",
       "      <td>12</td>\n",
       "      <td>164.0</td>\n",
       "      <td>167.0</td>\n",
       "      <td>170.0</td>\n",
       "      <td>172.0</td>\n",
       "      <td>176.0</td>\n",
       "      <td>179.0</td>\n",
       "      <td>180.0</td>\n",
       "      <td>184.0</td>\n",
       "      <td>185.0</td>\n",
       "      <td>...</td>\n",
       "      <td>92.0</td>\n",
       "      <td>105.0</td>\n",
       "      <td>105.0</td>\n",
       "      <td>108.0</td>\n",
       "      <td>133.0</td>\n",
       "      <td>163.0</td>\n",
       "      <td>157.0</td>\n",
       "      <td>163.0</td>\n",
       "      <td>164.0</td>\n",
       "      <td>179.0</td>\n",
       "    </tr>\n",
       "  </tbody>\n",
       "</table>\n",
       "<p>5 rows × 785 columns</p>\n",
       "</div>"
      ],
      "text/plain": [
       "   label  pixel1  pixel2  pixel3  pixel4  pixel5  pixel6  pixel7  pixel8  \\\n",
       "0      3   107.0   118.0   127.0   134.0   139.0   143.0   146.0   150.0   \n",
       "1      6   155.0   157.0   156.0   156.0   156.0   157.0   156.0   158.0   \n",
       "2      2   187.0   188.0   188.0   187.0   187.0   186.0   187.0   188.0   \n",
       "3      2   211.0   211.0   212.0   212.0   211.0   210.0   211.0   210.0   \n",
       "4     12   164.0   167.0   170.0   172.0   176.0   179.0   180.0   184.0   \n",
       "\n",
       "   pixel9  ...  pixel775  pixel776  pixel777  pixel778  pixel779  pixel780  \\\n",
       "0   153.0  ...     207.0     207.0     207.0     207.0     206.0     206.0   \n",
       "1   158.0  ...      69.0     149.0     128.0      87.0      94.0     163.0   \n",
       "2   187.0  ...     202.0     201.0     200.0     199.0     198.0     199.0   \n",
       "3   210.0  ...     235.0     234.0     233.0     231.0     230.0     226.0   \n",
       "4   185.0  ...      92.0     105.0     105.0     108.0     133.0     163.0   \n",
       "\n",
       "   pixel781  pixel782  pixel783  pixel784  \n",
       "0     206.0     204.0     203.0     202.0  \n",
       "1     175.0     103.0     135.0     149.0  \n",
       "2     198.0     195.0     194.0     195.0  \n",
       "3     225.0     222.0     229.0     163.0  \n",
       "4     157.0     163.0     164.0     179.0  \n",
       "\n",
       "[5 rows x 785 columns]"
      ]
     },
     "execution_count": 340,
     "metadata": {},
     "output_type": "execute_result"
    }
   ],
   "source": [
    "# Concatenating the collected images and the train dataset\n",
    "train = pd.concat([train, train_df])\n",
    "train.reset_index(drop=True, inplace=True)\n",
    "\n",
    "# Displaying the first five rows\n",
    "train.head()"
   ]
  },
  {
   "attachments": {},
   "cell_type": "markdown",
   "metadata": {},
   "source": [
    "### EDA"
   ]
  },
  {
   "cell_type": "code",
   "execution_count": 341,
   "metadata": {},
   "outputs": [
    {
     "data": {
      "image/png": "[encoded data removed]",
      "text/plain": [
       "<Figure size 800x1000 with 10 Axes>"
      ]
     },
     "metadata": {},
     "output_type": "display_data"
    }
   ],
   "source": [
    "#displaying images\n",
    "# Extract pixel values and labels\n",
    "pixel_columns = train.columns[1:]  # Exclude the label column\n",
    "pixel_values = train[pixel_columns].values\n",
    "labels = train['label'].values\n",
    "\n",
    "# Display images\n",
    "fig, axes = plt.subplots(5, 2, figsize=(8, 10))\n",
    "fig.tight_layout()\n",
    "\n",
    "# Display images\n",
    "for i in range(10):\n",
    "    row = i // 2  # Calculate the row index\n",
    "    col = i % 2   # Calculate the column index\n",
    "    pixel_array = pixel_values[i].reshape(28, 28)  # Assuming the original image size is 28x28\n",
    "    # Display image on the corresponding subplot\n",
    "    axes[row, col].imshow(pixel_array, cmap='gray')\n",
    "    axes[row, col].set_title('Label: ' + str(labels[i]))\n",
    "    axes[row, col].axis('off')\n",
    "    \n",
    "# Show the plot\n",
    "plt.show()"
   ]
  },
  {
   "cell_type": "code",
   "execution_count": 342,
   "metadata": {},
   "outputs": [
    {
     "data": {
      "image/png": "[encoded data removed]",
      "text/plain": [
       "<Figure size 800x1000 with 10 Axes>"
      ]
     },
     "metadata": {},
     "output_type": "display_data"
    }
   ],
   "source": [
    "# Displaying the last 10 images\n",
    "pixel_columns = train.columns[1:]  # Exclude the label column\n",
    "pixel_values = train[pixel_columns].values\n",
    "labels = train['label'].values\n",
    "\n",
    "# Get the last 10 images\n",
    "last_10_images = pixel_values[-10:]\n",
    "last_10_labels = labels[-10:]\n",
    "\n",
    "# Create subplots\n",
    "fig, axes = plt.subplots(nrows=5, ncols=2, figsize=(8, 10))\n",
    "\n",
    "# Display images\n",
    "for i, ax in enumerate(axes.flat):\n",
    "    pixel_array = last_10_images[i].reshape(28, 28)  # Assuming the original image size is 28x28\n",
    "    ax.imshow(pixel_array, cmap='gray')\n",
    "    ax.set_title('Label: ' + str(last_10_labels[i]))\n",
    "    ax.axis('off')\n",
    "plt.tight_layout()\n",
    "plt.show()"
   ]
  },
  {
   "cell_type": "code",
   "execution_count": 343,
   "metadata": {},
   "outputs": [
    {
     "data": {
      "image/png": "[encoded data removed]",
      "text/plain": [
       "<Figure size 640x480 with 1 Axes>"
      ]
     },
     "metadata": {},
     "output_type": "display_data"
    }
   ],
   "source": [
    "\n",
    "# Distribution of the labels column train dataset\n",
    "def check_distribution(data, col, name):\n",
    "  sns.countplot(data=data, x=col, color=\"blue\")\n",
    "  plt.xlabel('labels')\n",
    "  plt.ylabel('proportion')\n",
    "  plt.title(f\"Frequency Distribution of Alphabets {(name)}\")\n",
    "  plt.show();\n",
    "\n",
    "check_distribution(train, 'label', \"train\")"
   ]
  },
  {
   "attachments": {},
   "cell_type": "markdown",
   "metadata": {},
   "source": [
    "*  In the analysis conducted, it was found that the label column exhibits a fairly distributed class distribution with no notable class imbalances. All classes display similar proportions, indicating a well-balanced dataset. This characteristic ensures that the model will have an equal opportunity to learn from and make accurate predictions across all classes."
   ]
  },
  {
   "cell_type": "code",
   "execution_count": 344,
   "metadata": {},
   "outputs": [
    {
     "data": {
      "image/png": "[encoded data removed]",
      "text/plain": [
       "<Figure size 640x480 with 1 Axes>"
      ]
     },
     "metadata": {},
     "output_type": "display_data"
    }
   ],
   "source": [
    "\n",
    "# Distribution of the labels column test dataset\n",
    "check_distribution(test, 'label', \"test\")"
   ]
  },
  {
   "attachments": {},
   "cell_type": "markdown",
   "metadata": {},
   "source": [
    "### MODELLING"
   ]
  },
  {
   "cell_type": "code",
   "execution_count": 345,
   "metadata": {},
   "outputs": [],
   "source": [
    "# Splitting the train and test datasets\n",
    "train_X = train.iloc[:, 1:]\n",
    "train_y = train.label\n",
    "\n",
    "test_X = test.iloc[:, 1:]\n",
    "test_y = test.label"
   ]
  },
  {
   "cell_type": "code",
   "execution_count": 346,
   "metadata": {},
   "outputs": [],
   "source": [
    "#onehot encoding the train and test labels\n",
    "train_y = to_categorical(train_y)\n",
    "test_y = to_categorical(test_y)"
   ]
  },
  {
   "cell_type": "code",
   "execution_count": 347,
   "metadata": {},
   "outputs": [],
   "source": [
    "# Normalizing our train and test data\n",
    "train_X /= 255\n",
    "test_X /= 255"
   ]
  },
  {
   "cell_type": "code",
   "execution_count": 348,
   "metadata": {},
   "outputs": [],
   "source": [
    "train_X_reshaped = np.array(train_X).reshape(-1, 28, 28, 1)\n",
    "test_X_reshaped = np.array(test_X).reshape(-1, 28, 28, 1)"
   ]
  },
  {
   "cell_type": "code",
   "execution_count": 351,
   "metadata": {},
   "outputs": [
    {
     "name": "stderr",
     "output_type": "stream",
     "text": [
      "/home/james/anaconda3/envs/myenv/lib/python3.11/site-packages/skimage/_shared/utils.py:316: UserWarning: This might be a color image. The histogram will be computed on the flattened image. You can instead apply this function to each color channel, or set channel_axis.\n",
      "  return func(*args, **kwargs)\n"
     ]
    }
   ],
   "source": [
    "def preprocess_images(images):\n",
    "    preprocessed_images = []\n",
    "    for image in images:\n",
    "        image = skimage.filters.gaussian(image, sigma=2)\n",
    "        image = exposure.equalize_hist(image)\n",
    "        # blurred = cv2.GaussianBlur(image, (3,3), 0)\n",
    "        preprocessed_images.append(image)\n",
    "    return np.array(preprocessed_images).reshape(-1, 28, 28, 1)\n",
    "train_X_reshaped = preprocess_images(train_X_reshaped)\n",
    "test_X_reshaped = preprocess_images(test_X_reshaped)"
   ]
  },
  {
   "cell_type": "code",
   "execution_count": 352,
   "metadata": {},
   "outputs": [
    {
     "name": "stdout",
     "output_type": "stream",
     "text": [
      "Epoch 1/10\n",
      "221/221 [==============================] - 79s 349ms/step - loss: 0.4720 - acc: 0.8636 - val_loss: 6.3511 - val_acc: 0.0466\n",
      "Epoch 2/10\n",
      "221/221 [==============================] - 76s 343ms/step - loss: 0.0491 - acc: 0.9889 - val_loss: 4.1565 - val_acc: 0.2579\n",
      "Epoch 3/10\n",
      "221/221 [==============================] - 78s 354ms/step - loss: 0.0271 - acc: 0.9945 - val_loss: 2.4515 - val_acc: 0.7380\n",
      "Epoch 4/10\n",
      "221/221 [==============================] - 75s 340ms/step - loss: 0.0237 - acc: 0.9957 - val_loss: 6.0308 - val_acc: 0.4391\n",
      "Epoch 5/10\n",
      "221/221 [==============================] - 76s 342ms/step - loss: 0.0182 - acc: 0.9961 - val_loss: 3.6192 - val_acc: 0.7557\n",
      "Epoch 6/10\n",
      "221/221 [==============================] - 77s 349ms/step - loss: 0.0148 - acc: 0.9975 - val_loss: 3.7021 - val_acc: 0.6782\n",
      "Epoch 7/10\n",
      "221/221 [==============================] - 77s 350ms/step - loss: 0.0115 - acc: 0.9984 - val_loss: 3.2643 - val_acc: 0.7368\n",
      "Epoch 8/10\n",
      "221/221 [==============================] - 75s 339ms/step - loss: 0.0145 - acc: 0.9974 - val_loss: 3.8122 - val_acc: 0.7343\n",
      "Epoch 9/10\n",
      "221/221 [==============================] - 76s 343ms/step - loss: 0.0104 - acc: 0.9985 - val_loss: 3.1590 - val_acc: 0.7600\n",
      "Epoch 10/10\n",
      "221/221 [==============================] - 77s 350ms/step - loss: 0.0096 - acc: 0.9984 - val_loss: 3.8328 - val_acc: 0.7596\n"
     ]
    }
   ],
   "source": [
    "#Checking raw plus kaggle data\n",
    "raw_model = Sequential()\n",
    "raw_model.add(layers.Conv2D(32, (3,3), activation=\"relu\", kernel_regularizer=regularizers.l2(0.005),\n",
    "                            input_shape=(28,28,1), padding=\"same\"))\n",
    "raw_model.add(layers.BatchNormalization())\n",
    "raw_model.add(layers.Conv2D(64, (3,3), activation=\"relu\"))\n",
    "raw_model.add(layers.MaxPooling2D((2,2)))\n",
    "raw_model.add(layers.Conv2D(128, (3,3), activation=\"relu\"))\n",
    "raw_model.add(layers.MaxPooling2D((2,2)))\n",
    "raw_model.add(layers.Flatten())\n",
    "raw_model.add(layers.Dense(512, activation=\"relu\"))\n",
    "raw_model.add(layers.BatchNormalization())\n",
    "raw_model.add(layers.Dropout(0.25))\n",
    "raw_model.add(layers.Dense(128, activation=\"relu\"))\n",
    "raw_model.add(layers.Dropout(0.25))\n",
    "raw_model.add(layers.Dense(24, activation=\"softmax\"))\n",
    "\n",
    "#Compiling the model\n",
    "optimizer = optimizers.RMSprop(learning_rate=0.001)\n",
    "raw_model.compile(loss=\"categorical_crossentropy\",\n",
    "                  optimizer=optimizer,\n",
    "                  metrics=[\"acc\"])\n",
    "\n",
    "#Fitting the model\n",
    "raw_model_results = raw_model.fit(train_X_reshaped, train_y,\n",
    "                                  epochs=10, batch_size=100, validation_split=0.25)"
   ]
  },
  {
   "cell_type": "code",
   "execution_count": 353,
   "metadata": {},
   "outputs": [
    {
     "name": "stdout",
     "output_type": "stream",
     "text": [
      "raw model train data accuracy: \n",
      "920/920 [==============================] - 23s 25ms/step - loss: 0.9623 - acc: 0.9394\n",
      "[0.9622743725776672, 0.9394258260726929]\n",
      "\n",
      "raw model test data accuracy: \n",
      "225/225 [==============================] - 6s 25ms/step - loss: 0.3079 - acc: 0.9246\n",
      "[0.30793964862823486, 0.9245677590370178]\n"
     ]
    }
   ],
   "source": [
    "print(\"raw model train data accuracy: \")\n",
    "print(raw_model.evaluate(train_X_reshaped, train_y))\n",
    "print()\n",
    "print(\"raw model test data accuracy: \")\n",
    "print(raw_model.evaluate(test_X_reshaped, test_y))"
   ]
  },
  {
   "cell_type": "code",
   "execution_count": 354,
   "metadata": {},
   "outputs": [],
   "source": [
    "raw_test_X = test_df.iloc[:, 1:]\n",
    "raw_test_y = to_categorical(test_df.label)\n",
    "\n",
    "#scaling\n",
    "raw_test_X /= 255"
   ]
  },
  {
   "cell_type": "code",
   "execution_count": 355,
   "metadata": {},
   "outputs": [],
   "source": [
    "raw_test_X_reshaped = np.array(raw_test_X).reshape(-1, 28, 28, 1)"
   ]
  },
  {
   "cell_type": "code",
   "execution_count": 356,
   "metadata": {},
   "outputs": [
    {
     "data": {
      "text/plain": [
       "(20, 28, 28, 1)"
      ]
     },
     "execution_count": 356,
     "metadata": {},
     "output_type": "execute_result"
    }
   ],
   "source": [
    "raw_test_X_reshaped.shape"
   ]
  },
  {
   "cell_type": "code",
   "execution_count": 357,
   "metadata": {},
   "outputs": [],
   "source": [
    "raw_test_X_reshaped = preprocess_images(raw_test_X_reshaped)"
   ]
  },
  {
   "cell_type": "code",
   "execution_count": 359,
   "metadata": {},
   "outputs": [
    {
     "name": "stdout",
     "output_type": "stream",
     "text": [
      "1/1 [==============================] - 0s 57ms/step - loss: 15.1305 - acc: 0.1000\n"
     ]
    },
    {
     "data": {
      "text/plain": [
       "[15.130505561828613, 0.10000000149011612]"
      ]
     },
     "execution_count": 359,
     "metadata": {},
     "output_type": "execute_result"
    }
   ],
   "source": [
    "raw_model.evaluate(raw_test_X_reshaped, raw_test_y)"
   ]
  },
  {
   "cell_type": "code",
   "execution_count": 360,
   "metadata": {},
   "outputs": [
    {
     "data": {
      "text/plain": [
       "0"
      ]
     },
     "execution_count": 360,
     "metadata": {},
     "output_type": "execute_result"
    }
   ],
   "source": [
    "np.argmax(raw_test_y[2])"
   ]
  },
  {
   "cell_type": "code",
   "execution_count": 361,
   "metadata": {},
   "outputs": [
    {
     "data": {
      "text/plain": [
       "<matplotlib.image.AxesImage at 0x7f3bb4fdbf90>"
      ]
     },
     "execution_count": 361,
     "metadata": {},
     "output_type": "execute_result"
    },
    {
     "data": {
      "image/png": "[encoded data removed]",
      "text/plain": [
       "<Figure size 640x480 with 1 Axes>"
      ]
     },
     "metadata": {},
     "output_type": "display_data"
    }
   ],
   "source": [
    "plt.imshow(raw_test_X_reshaped[2])"
   ]
  },
  {
   "cell_type": "code",
   "execution_count": null,
   "metadata": {},
   "outputs": [],
   "source": []
  },
  {
   "attachments": {},
   "cell_type": "markdown",
   "metadata": {},
   "source": [
    "#### Baseline Model (Densely connected model)"
   ]
  },
  {
   "cell_type": "code",
   "execution_count": null,
   "metadata": {},
   "outputs": [],
   "source": [
    "# from tensorflow.keras.wrappers.scikit_learn import KerasClassifier\n",
    "# def create_model():\n",
    "#     model = Sequential()\n",
    "#     model.add(layers.Dense(64, activation='relu', input_shape=(784,)))\n",
    "#     model.add(layers.Dense(32, activation=\"relu\"))\n",
    "#     model.add(layers.Dense(24, activation='softmax'))\n",
    "#     model.compile(optimizer='sgd', loss='categorical_crossentropy', metrics=['accuracy'])\n",
    "#     return model\n",
    "\n",
    "# # Create a KerasClassifier wrapper for scikit-learn compatibility\n",
    "# model = KerasClassifier(build_fn=create_model)"
   ]
  },
  {
   "cell_type": "code",
   "execution_count": null,
   "metadata": {},
   "outputs": [],
   "source": [
    "# # Define the hyperparameter grid\n",
    "# from sklearn.model_selection import GridSearchCV, KFold\n",
    "\n",
    "# param_grid = {\n",
    "#     'epochs': [150, 200, 250],       # Specify different epoch values to evaluate\n",
    "#     'batch_size': [100, 150, 200]    # Specify different batch size values to evaluate\n",
    "# }\n",
    "\n",
    "# # Perform grid search with cross-validation\n",
    "# kfold = KFold(n_splits=3, shuffle=True)  # Adjust the number of splits as needed\n",
    "# baseline_grid = GridSearchCV(estimator=model, param_grid=param_grid, cv=kfold, verbose=1,\n",
    "#                              scoring=\"accuracy\")\n",
    "# baseline_grid_result = baseline_grid.fit(train_X, train_y)\n",
    "\n",
    "# #Best Params\n",
    "# print(\"Best Parameters:\")\n",
    "# print(baseline_grid_result.best_params_)\n",
    "# print()\n",
    "# print(baseline_grid_result.best_score_)"
   ]
  },
  {
   "attachments": {},
   "cell_type": "markdown",
   "metadata": {},
   "source": [
    "* Did a GridSearch to get the optimal values of epochs and batchsize which were epochs=150 and batch_size=100"
   ]
  },
  {
   "cell_type": "code",
   "execution_count": 24,
   "metadata": {},
   "outputs": [
    {
     "name": "stderr",
     "output_type": "stream",
     "text": [
      "2023-07-06 22:55:23.125075: E tensorflow/compiler/xla/stream_executor/cuda/cuda_driver.cc:266] failed call to cuInit: CUDA_ERROR_NO_DEVICE: no CUDA-capable device is detected\n",
      "2023-07-06 22:55:23.588691: W tensorflow/tsl/framework/cpu_allocator_impl.cc:83] Allocation of 130915456 exceeds 10% of free system memory.\n"
     ]
    },
    {
     "name": "stdout",
     "output_type": "stream",
     "text": [
      "Epoch 1/150\n",
      "209/209 [==============================] - 3s 7ms/step - loss: 3.1264 - acc: 0.0786 - val_loss: 3.0757 - val_acc: 0.1200\n",
      "Epoch 2/150\n",
      "209/209 [==============================] - 2s 7ms/step - loss: 3.0134 - acc: 0.1379 - val_loss: 2.9563 - val_acc: 0.1641\n",
      "Epoch 3/150\n",
      "209/209 [==============================] - 2s 7ms/step - loss: 2.8468 - acc: 0.1835 - val_loss: 2.7629 - val_acc: 0.2101\n",
      "Epoch 4/150\n",
      "209/209 [==============================] - 1s 6ms/step - loss: 2.6070 - acc: 0.2538 - val_loss: 2.5296 - val_acc: 0.2716\n",
      "Epoch 5/150\n",
      "209/209 [==============================] - 2s 7ms/step - loss: 2.3671 - acc: 0.3177 - val_loss: 2.3350 - val_acc: 0.3321\n",
      "Epoch 6/150\n",
      "209/209 [==============================] - 2s 8ms/step - loss: 2.1736 - acc: 0.3715 - val_loss: 2.1924 - val_acc: 0.3656\n",
      "Epoch 7/150\n",
      "209/209 [==============================] - 2s 8ms/step - loss: 2.0162 - acc: 0.4119 - val_loss: 2.0476 - val_acc: 0.4270\n",
      "Epoch 8/150\n",
      "209/209 [==============================] - 2s 7ms/step - loss: 1.8747 - acc: 0.4465 - val_loss: 1.9447 - val_acc: 0.4596\n",
      "Epoch 9/150\n",
      "209/209 [==============================] - 1s 6ms/step - loss: 1.7537 - acc: 0.4798 - val_loss: 1.8457 - val_acc: 0.4943\n",
      "Epoch 10/150\n",
      "209/209 [==============================] - 1s 6ms/step - loss: 1.6435 - acc: 0.5096 - val_loss: 1.7595 - val_acc: 0.5226\n",
      "Epoch 11/150\n",
      "209/209 [==============================] - 1s 6ms/step - loss: 1.5470 - acc: 0.5319 - val_loss: 1.6906 - val_acc: 0.5124\n",
      "Epoch 12/150\n",
      "209/209 [==============================] - 1s 7ms/step - loss: 1.4618 - acc: 0.5551 - val_loss: 1.6809 - val_acc: 0.5154\n",
      "Epoch 13/150\n",
      "209/209 [==============================] - 1s 6ms/step - loss: 1.3827 - acc: 0.5768 - val_loss: 1.6123 - val_acc: 0.5447\n",
      "Epoch 14/150\n",
      "209/209 [==============================] - 1s 6ms/step - loss: 1.3167 - acc: 0.5959 - val_loss: 1.5226 - val_acc: 0.5834\n",
      "Epoch 15/150\n",
      "209/209 [==============================] - 1s 6ms/step - loss: 1.2561 - acc: 0.6084 - val_loss: 1.5646 - val_acc: 0.5615\n",
      "Epoch 16/150\n",
      "209/209 [==============================] - 1s 6ms/step - loss: 1.1941 - acc: 0.6272 - val_loss: 1.4432 - val_acc: 0.5953\n",
      "Epoch 17/150\n",
      "209/209 [==============================] - 1s 6ms/step - loss: 1.1472 - acc: 0.6423 - val_loss: 1.4530 - val_acc: 0.6092\n",
      "Epoch 18/150\n",
      "209/209 [==============================] - 1s 6ms/step - loss: 1.1007 - acc: 0.6545 - val_loss: 1.3625 - val_acc: 0.6440\n",
      "Epoch 19/150\n",
      "209/209 [==============================] - 1s 6ms/step - loss: 1.0633 - acc: 0.6671 - val_loss: 1.3342 - val_acc: 0.6498\n",
      "Epoch 20/150\n",
      "209/209 [==============================] - 1s 5ms/step - loss: 1.0249 - acc: 0.6801 - val_loss: 1.4064 - val_acc: 0.6007\n",
      "Epoch 21/150\n",
      "209/209 [==============================] - 1s 6ms/step - loss: 0.9887 - acc: 0.6926 - val_loss: 1.2880 - val_acc: 0.6746\n",
      "Epoch 22/150\n",
      "209/209 [==============================] - 1s 5ms/step - loss: 0.9599 - acc: 0.7001 - val_loss: 1.3825 - val_acc: 0.6178\n",
      "Epoch 23/150\n",
      "209/209 [==============================] - 1s 6ms/step - loss: 0.9267 - acc: 0.7110 - val_loss: 1.2272 - val_acc: 0.6933\n",
      "Epoch 24/150\n",
      "209/209 [==============================] - 1s 5ms/step - loss: 0.8957 - acc: 0.7228 - val_loss: 1.4001 - val_acc: 0.6250\n",
      "Epoch 25/150\n",
      "209/209 [==============================] - 1s 5ms/step - loss: 0.8822 - acc: 0.7248 - val_loss: 1.2876 - val_acc: 0.6673\n",
      "Epoch 26/150\n",
      "209/209 [==============================] - 1s 5ms/step - loss: 0.8483 - acc: 0.7382 - val_loss: 1.2816 - val_acc: 0.6574\n",
      "Epoch 27/150\n",
      "209/209 [==============================] - 1s 5ms/step - loss: 0.8099 - acc: 0.7482 - val_loss: 1.2212 - val_acc: 0.6821\n",
      "Epoch 28/150\n",
      "209/209 [==============================] - 1s 6ms/step - loss: 0.7939 - acc: 0.7526 - val_loss: 1.2030 - val_acc: 0.7177\n",
      "Epoch 29/150\n",
      "209/209 [==============================] - 1s 5ms/step - loss: 0.7725 - acc: 0.7581 - val_loss: 1.2161 - val_acc: 0.6873\n",
      "Epoch 30/150\n",
      "209/209 [==============================] - 1s 5ms/step - loss: 0.7375 - acc: 0.7756 - val_loss: 1.1538 - val_acc: 0.7295\n",
      "Epoch 31/150\n",
      "209/209 [==============================] - 1s 5ms/step - loss: 0.7329 - acc: 0.7718 - val_loss: 1.1178 - val_acc: 0.7379\n",
      "Epoch 32/150\n",
      "209/209 [==============================] - 1s 6ms/step - loss: 0.6977 - acc: 0.7873 - val_loss: 1.1155 - val_acc: 0.7519\n",
      "Epoch 33/150\n",
      "209/209 [==============================] - 1s 5ms/step - loss: 0.6903 - acc: 0.7881 - val_loss: 1.0716 - val_acc: 0.7698\n",
      "Epoch 34/150\n",
      "209/209 [==============================] - 1s 5ms/step - loss: 0.6646 - acc: 0.7975 - val_loss: 1.1034 - val_acc: 0.7383\n",
      "Epoch 35/150\n",
      "209/209 [==============================] - 1s 5ms/step - loss: 0.6645 - acc: 0.7967 - val_loss: 1.1789 - val_acc: 0.7317\n",
      "Epoch 36/150\n",
      "209/209 [==============================] - 1s 5ms/step - loss: 0.6175 - acc: 0.8139 - val_loss: 1.1291 - val_acc: 0.7476\n",
      "Epoch 37/150\n",
      "209/209 [==============================] - 1s 5ms/step - loss: 0.6053 - acc: 0.8179 - val_loss: 1.0859 - val_acc: 0.7736\n",
      "Epoch 38/150\n",
      "209/209 [==============================] - 1s 6ms/step - loss: 0.5923 - acc: 0.8224 - val_loss: 1.1537 - val_acc: 0.7494\n",
      "Epoch 39/150\n",
      "209/209 [==============================] - 1s 5ms/step - loss: 0.5732 - acc: 0.8291 - val_loss: 1.1462 - val_acc: 0.7370\n",
      "Epoch 40/150\n",
      "209/209 [==============================] - 1s 6ms/step - loss: 0.5544 - acc: 0.8338 - val_loss: 1.0668 - val_acc: 0.7792\n",
      "Epoch 41/150\n",
      "209/209 [==============================] - 1s 5ms/step - loss: 0.5675 - acc: 0.8295 - val_loss: 2.1423 - val_acc: 0.5070\n",
      "Epoch 42/150\n",
      "209/209 [==============================] - 1s 5ms/step - loss: 0.5557 - acc: 0.8336 - val_loss: 1.1193 - val_acc: 0.7634\n",
      "Epoch 43/150\n",
      "209/209 [==============================] - 1s 5ms/step - loss: 0.5152 - acc: 0.8474 - val_loss: 1.0142 - val_acc: 0.7935\n",
      "Epoch 44/150\n",
      "209/209 [==============================] - 1s 5ms/step - loss: 0.4916 - acc: 0.8560 - val_loss: 1.0782 - val_acc: 0.7705\n",
      "Epoch 45/150\n",
      "209/209 [==============================] - 1s 6ms/step - loss: 0.4877 - acc: 0.8564 - val_loss: 1.0159 - val_acc: 0.8097\n",
      "Epoch 46/150\n",
      "209/209 [==============================] - 1s 5ms/step - loss: 0.4668 - acc: 0.8637 - val_loss: 1.0093 - val_acc: 0.8114\n",
      "Epoch 47/150\n",
      "209/209 [==============================] - 1s 6ms/step - loss: 0.4854 - acc: 0.8590 - val_loss: 1.0030 - val_acc: 0.8139\n",
      "Epoch 48/150\n",
      "209/209 [==============================] - 1s 6ms/step - loss: 0.4492 - acc: 0.8698 - val_loss: 0.9911 - val_acc: 0.8061\n",
      "Epoch 49/150\n",
      "209/209 [==============================] - 1s 6ms/step - loss: 0.4370 - acc: 0.8727 - val_loss: 0.9496 - val_acc: 0.8398\n",
      "Epoch 50/150\n",
      "209/209 [==============================] - 1s 6ms/step - loss: 0.4049 - acc: 0.8852 - val_loss: 0.9851 - val_acc: 0.8301\n",
      "Epoch 51/150\n",
      "209/209 [==============================] - 1s 6ms/step - loss: 0.4072 - acc: 0.8844 - val_loss: 0.9281 - val_acc: 0.8603\n",
      "Epoch 52/150\n",
      "209/209 [==============================] - 1s 5ms/step - loss: 0.3787 - acc: 0.8962 - val_loss: 0.9538 - val_acc: 0.8531\n",
      "Epoch 53/150\n",
      "209/209 [==============================] - 1s 5ms/step - loss: 0.3890 - acc: 0.8911 - val_loss: 0.9566 - val_acc: 0.8337\n",
      "Epoch 54/150\n",
      "209/209 [==============================] - 1s 7ms/step - loss: 0.3610 - acc: 0.9000 - val_loss: 0.9117 - val_acc: 0.8625\n",
      "Epoch 55/150\n",
      "209/209 [==============================] - 1s 6ms/step - loss: 0.3498 - acc: 0.9029 - val_loss: 1.1604 - val_acc: 0.7614\n",
      "Epoch 56/150\n",
      "209/209 [==============================] - 1s 5ms/step - loss: 0.3498 - acc: 0.9026 - val_loss: 0.9093 - val_acc: 0.8682\n",
      "Epoch 57/150\n",
      "209/209 [==============================] - 1s 6ms/step - loss: 0.3187 - acc: 0.9147 - val_loss: 0.9090 - val_acc: 0.8692\n",
      "Epoch 58/150\n",
      "209/209 [==============================] - 1s 6ms/step - loss: 0.3256 - acc: 0.9111 - val_loss: 0.9810 - val_acc: 0.8229\n",
      "Epoch 59/150\n",
      "209/209 [==============================] - 1s 6ms/step - loss: 0.3182 - acc: 0.9111 - val_loss: 1.2137 - val_acc: 0.7568\n",
      "Epoch 60/150\n",
      "209/209 [==============================] - 1s 6ms/step - loss: 0.2971 - acc: 0.9207 - val_loss: 0.9631 - val_acc: 0.8511\n",
      "Epoch 61/150\n",
      "209/209 [==============================] - 1s 7ms/step - loss: 0.3588 - acc: 0.9054 - val_loss: 0.8852 - val_acc: 0.8764\n",
      "Epoch 62/150\n",
      "209/209 [==============================] - 1s 6ms/step - loss: 0.2736 - acc: 0.9301 - val_loss: 0.9003 - val_acc: 0.8776\n",
      "Epoch 63/150\n",
      "209/209 [==============================] - 1s 6ms/step - loss: 0.2707 - acc: 0.9277 - val_loss: 0.8810 - val_acc: 0.8938\n",
      "Epoch 64/150\n",
      "209/209 [==============================] - 1s 5ms/step - loss: 0.2581 - acc: 0.9324 - val_loss: 1.4630 - val_acc: 0.7097\n",
      "Epoch 65/150\n",
      "209/209 [==============================] - 1s 6ms/step - loss: 0.2519 - acc: 0.9358 - val_loss: 0.9198 - val_acc: 0.8859\n",
      "Epoch 66/150\n",
      "209/209 [==============================] - 1s 5ms/step - loss: 0.2426 - acc: 0.9383 - val_loss: 0.8645 - val_acc: 0.9099\n",
      "Epoch 67/150\n",
      "209/209 [==============================] - 1s 6ms/step - loss: 0.2188 - acc: 0.9482 - val_loss: 0.9137 - val_acc: 0.8875\n",
      "Epoch 68/150\n",
      "209/209 [==============================] - 1s 6ms/step - loss: 0.2407 - acc: 0.9389 - val_loss: 0.9539 - val_acc: 0.8728\n",
      "Epoch 69/150\n",
      "209/209 [==============================] - 1s 6ms/step - loss: 0.3470 - acc: 0.9208 - val_loss: 0.8872 - val_acc: 0.8896\n",
      "Epoch 70/150\n",
      "209/209 [==============================] - 1s 6ms/step - loss: 0.2053 - acc: 0.9519 - val_loss: 0.8710 - val_acc: 0.9097\n",
      "Epoch 71/150\n",
      "209/209 [==============================] - 1s 6ms/step - loss: 0.1988 - acc: 0.9527 - val_loss: 0.8910 - val_acc: 0.8955\n",
      "Epoch 72/150\n",
      "209/209 [==============================] - 1s 6ms/step - loss: 0.1929 - acc: 0.9555 - val_loss: 1.0234 - val_acc: 0.8294\n",
      "Epoch 73/150\n",
      "209/209 [==============================] - 1s 6ms/step - loss: 0.1759 - acc: 0.9629 - val_loss: 0.9239 - val_acc: 0.8873\n",
      "Epoch 74/150\n",
      "209/209 [==============================] - 1s 7ms/step - loss: 0.1780 - acc: 0.9611 - val_loss: 0.8638 - val_acc: 0.9261\n",
      "Epoch 75/150\n",
      "209/209 [==============================] - 1s 6ms/step - loss: 0.1695 - acc: 0.9649 - val_loss: 0.9551 - val_acc: 0.8774\n",
      "Epoch 76/150\n",
      "209/209 [==============================] - 1s 6ms/step - loss: 0.1526 - acc: 0.9723 - val_loss: 0.8588 - val_acc: 0.9260\n",
      "Epoch 77/150\n",
      "209/209 [==============================] - 1s 6ms/step - loss: 0.1626 - acc: 0.9669 - val_loss: 0.8751 - val_acc: 0.9224\n",
      "Epoch 78/150\n",
      "209/209 [==============================] - 1s 6ms/step - loss: 0.1516 - acc: 0.9710 - val_loss: 0.8618 - val_acc: 0.9299\n",
      "Epoch 79/150\n",
      "209/209 [==============================] - 2s 8ms/step - loss: 0.1470 - acc: 0.9737 - val_loss: 0.9702 - val_acc: 0.8719\n",
      "Epoch 80/150\n",
      "209/209 [==============================] - 1s 6ms/step - loss: 0.1349 - acc: 0.9775 - val_loss: 0.8958 - val_acc: 0.9271\n",
      "Epoch 81/150\n",
      "209/209 [==============================] - 1s 6ms/step - loss: 0.1274 - acc: 0.9808 - val_loss: 0.8725 - val_acc: 0.9333\n",
      "Epoch 82/150\n",
      "209/209 [==============================] - 1s 6ms/step - loss: 0.3145 - acc: 0.9485 - val_loss: 0.8790 - val_acc: 0.9224\n",
      "Epoch 83/150\n",
      "209/209 [==============================] - 1s 6ms/step - loss: 0.1201 - acc: 0.9829 - val_loss: 0.9022 - val_acc: 0.9141\n",
      "Epoch 84/150\n",
      "209/209 [==============================] - 1s 6ms/step - loss: 0.1198 - acc: 0.9813 - val_loss: 0.8768 - val_acc: 0.9314\n",
      "Epoch 85/150\n",
      "209/209 [==============================] - 1s 7ms/step - loss: 0.1134 - acc: 0.9842 - val_loss: 0.8662 - val_acc: 0.9336\n",
      "Epoch 86/150\n",
      "209/209 [==============================] - 1s 6ms/step - loss: 0.1097 - acc: 0.9847 - val_loss: 0.9888 - val_acc: 0.8748\n",
      "Epoch 87/150\n",
      "209/209 [==============================] - 1s 6ms/step - loss: 0.1117 - acc: 0.9832 - val_loss: 0.9023 - val_acc: 0.9268\n",
      "Epoch 88/150\n",
      "209/209 [==============================] - 1s 6ms/step - loss: 0.0971 - acc: 0.9903 - val_loss: 0.8858 - val_acc: 0.9333\n",
      "Epoch 89/150\n",
      "209/209 [==============================] - 1s 6ms/step - loss: 0.0915 - acc: 0.9920 - val_loss: 0.8665 - val_acc: 0.9389\n",
      "Epoch 90/150\n",
      "209/209 [==============================] - 1s 7ms/step - loss: 0.0923 - acc: 0.9896 - val_loss: 0.9019 - val_acc: 0.9362\n",
      "Epoch 91/150\n",
      "209/209 [==============================] - 1s 7ms/step - loss: 0.3300 - acc: 0.9518 - val_loss: 0.8566 - val_acc: 0.9411\n",
      "Epoch 92/150\n",
      "209/209 [==============================] - 1s 7ms/step - loss: 0.0872 - acc: 0.9924 - val_loss: 0.8972 - val_acc: 0.9442\n",
      "Epoch 93/150\n",
      "209/209 [==============================] - 1s 6ms/step - loss: 0.0824 - acc: 0.9931 - val_loss: 0.9237 - val_acc: 0.9280\n",
      "Epoch 94/150\n",
      "209/209 [==============================] - 1s 6ms/step - loss: 0.0801 - acc: 0.9944 - val_loss: 0.8928 - val_acc: 0.9419\n",
      "Epoch 95/150\n",
      "209/209 [==============================] - 1s 7ms/step - loss: 0.0759 - acc: 0.9958 - val_loss: 0.9123 - val_acc: 0.9428\n",
      "Epoch 96/150\n",
      "209/209 [==============================] - 1s 6ms/step - loss: 0.0767 - acc: 0.9940 - val_loss: 0.9088 - val_acc: 0.9424\n",
      "Epoch 97/150\n",
      "209/209 [==============================] - 1s 5ms/step - loss: 0.0714 - acc: 0.9956 - val_loss: 0.9330 - val_acc: 0.9412\n",
      "Epoch 98/150\n",
      "209/209 [==============================] - 1s 6ms/step - loss: 0.0706 - acc: 0.9955 - val_loss: 0.9145 - val_acc: 0.9369\n",
      "Epoch 99/150\n",
      "209/209 [==============================] - 1s 7ms/step - loss: 0.0676 - acc: 0.9962 - val_loss: 0.9197 - val_acc: 0.9444\n",
      "Epoch 100/150\n",
      "209/209 [==============================] - 1s 7ms/step - loss: 0.0648 - acc: 0.9975 - val_loss: 0.9286 - val_acc: 0.9401\n",
      "Epoch 101/150\n",
      "209/209 [==============================] - 2s 7ms/step - loss: 0.0639 - acc: 0.9962 - val_loss: 0.9250 - val_acc: 0.9398\n",
      "Epoch 102/150\n",
      "209/209 [==============================] - 1s 7ms/step - loss: 0.0623 - acc: 0.9969 - val_loss: 0.9180 - val_acc: 0.9445\n",
      "Epoch 103/150\n",
      "209/209 [==============================] - 1s 6ms/step - loss: 0.0613 - acc: 0.9965 - val_loss: 0.9379 - val_acc: 0.9445\n",
      "Epoch 104/150\n",
      "209/209 [==============================] - 1s 6ms/step - loss: 0.0587 - acc: 0.9972 - val_loss: 0.9156 - val_acc: 0.9457\n",
      "Epoch 105/150\n",
      "209/209 [==============================] - 1s 6ms/step - loss: 0.0558 - acc: 0.9978 - val_loss: 0.9285 - val_acc: 0.9455\n",
      "Epoch 106/150\n",
      "209/209 [==============================] - 1s 7ms/step - loss: 0.0547 - acc: 0.9977 - val_loss: 0.9172 - val_acc: 0.9457\n",
      "Epoch 107/150\n",
      "209/209 [==============================] - 1s 6ms/step - loss: 0.0536 - acc: 0.9978 - val_loss: 0.9323 - val_acc: 0.9432\n",
      "Epoch 108/150\n",
      "209/209 [==============================] - 1s 6ms/step - loss: 0.0510 - acc: 0.9984 - val_loss: 0.9408 - val_acc: 0.9421\n",
      "Epoch 109/150\n",
      "209/209 [==============================] - 1s 6ms/step - loss: 0.0511 - acc: 0.9978 - val_loss: 0.9481 - val_acc: 0.9425\n",
      "Epoch 110/150\n",
      "209/209 [==============================] - 1s 6ms/step - loss: 0.0483 - acc: 0.9987 - val_loss: 0.9443 - val_acc: 0.9460\n",
      "Epoch 111/150\n",
      "209/209 [==============================] - 2s 8ms/step - loss: 0.0478 - acc: 0.9983 - val_loss: 0.9600 - val_acc: 0.9441\n",
      "Epoch 112/150\n",
      "209/209 [==============================] - 1s 6ms/step - loss: 0.0470 - acc: 0.9982 - val_loss: 0.9515 - val_acc: 0.9467\n",
      "Epoch 113/150\n",
      "209/209 [==============================] - 1s 6ms/step - loss: 0.0457 - acc: 0.9983 - val_loss: 0.9448 - val_acc: 0.9467\n",
      "Epoch 114/150\n",
      "209/209 [==============================] - 1s 6ms/step - loss: 0.0439 - acc: 0.9991 - val_loss: 0.9604 - val_acc: 0.9424\n",
      "Epoch 115/150\n",
      "209/209 [==============================] - 1s 6ms/step - loss: 0.0438 - acc: 0.9983 - val_loss: 0.9624 - val_acc: 0.9468\n",
      "Epoch 116/150\n",
      "209/209 [==============================] - 2s 9ms/step - loss: 0.0421 - acc: 0.9991 - val_loss: 0.9643 - val_acc: 0.9462\n",
      "Epoch 117/150\n",
      "209/209 [==============================] - 1s 6ms/step - loss: 0.0411 - acc: 0.9994 - val_loss: 0.9708 - val_acc: 0.9467\n",
      "Epoch 118/150\n",
      "209/209 [==============================] - 1s 7ms/step - loss: 0.0408 - acc: 0.9989 - val_loss: 0.9619 - val_acc: 0.9470\n",
      "Epoch 119/150\n",
      "209/209 [==============================] - 1s 6ms/step - loss: 0.0410 - acc: 0.9984 - val_loss: 0.9613 - val_acc: 0.9471\n",
      "Epoch 120/150\n",
      "209/209 [==============================] - 1s 6ms/step - loss: 0.0380 - acc: 0.9995 - val_loss: 0.9756 - val_acc: 0.9470\n",
      "Epoch 121/150\n",
      "209/209 [==============================] - 2s 9ms/step - loss: 0.0368 - acc: 0.9993 - val_loss: 0.9803 - val_acc: 0.9467\n",
      "Epoch 122/150\n",
      "209/209 [==============================] - 1s 7ms/step - loss: 0.0369 - acc: 0.9991 - val_loss: 0.9838 - val_acc: 0.9462\n",
      "Epoch 123/150\n",
      "209/209 [==============================] - 1s 7ms/step - loss: 0.0362 - acc: 0.9992 - val_loss: 0.9857 - val_acc: 0.9464\n",
      "Epoch 124/150\n",
      "209/209 [==============================] - 1s 6ms/step - loss: 0.0358 - acc: 0.9990 - val_loss: 0.9869 - val_acc: 0.9471\n",
      "Epoch 125/150\n",
      "209/209 [==============================] - 2s 7ms/step - loss: 0.0353 - acc: 0.9991 - val_loss: 0.9968 - val_acc: 0.9460\n",
      "Epoch 126/150\n",
      "209/209 [==============================] - 1s 6ms/step - loss: 0.0334 - acc: 0.9996 - val_loss: 0.9930 - val_acc: 0.9468\n",
      "Epoch 127/150\n",
      "209/209 [==============================] - 1s 6ms/step - loss: 0.0325 - acc: 0.9996 - val_loss: 0.9897 - val_acc: 0.9468\n",
      "Epoch 128/150\n",
      "209/209 [==============================] - 1s 6ms/step - loss: 0.0334 - acc: 0.9991 - val_loss: 0.9899 - val_acc: 0.9471\n",
      "Epoch 129/150\n",
      "209/209 [==============================] - 1s 6ms/step - loss: 0.0317 - acc: 0.9996 - val_loss: 0.9967 - val_acc: 0.9471\n",
      "Epoch 130/150\n",
      "209/209 [==============================] - 2s 9ms/step - loss: 0.0306 - acc: 0.9997 - val_loss: 1.0005 - val_acc: 0.9465\n",
      "Epoch 131/150\n",
      "209/209 [==============================] - 1s 7ms/step - loss: 0.0303 - acc: 0.9994 - val_loss: 1.0120 - val_acc: 0.9465\n",
      "Epoch 132/150\n",
      "209/209 [==============================] - 2s 7ms/step - loss: 0.0300 - acc: 0.9995 - val_loss: 1.0107 - val_acc: 0.9467\n",
      "Epoch 133/150\n",
      "209/209 [==============================] - 1s 6ms/step - loss: 0.0287 - acc: 0.9997 - val_loss: 1.0126 - val_acc: 0.9470\n",
      "Epoch 134/150\n",
      "209/209 [==============================] - 2s 7ms/step - loss: 0.0279 - acc: 0.9998 - val_loss: 1.0119 - val_acc: 0.9473\n",
      "Epoch 135/150\n",
      "209/209 [==============================] - 1s 6ms/step - loss: 0.0280 - acc: 0.9997 - val_loss: 1.0162 - val_acc: 0.9473\n",
      "Epoch 136/150\n",
      "209/209 [==============================] - 1s 6ms/step - loss: 0.0274 - acc: 0.9998 - val_loss: 1.0102 - val_acc: 0.9474\n",
      "Epoch 137/150\n",
      "209/209 [==============================] - 1s 6ms/step - loss: 0.0267 - acc: 0.9996 - val_loss: 1.0268 - val_acc: 0.9458\n",
      "Epoch 138/150\n",
      "209/209 [==============================] - 2s 9ms/step - loss: 0.0266 - acc: 0.9996 - val_loss: 1.0249 - val_acc: 0.9470\n",
      "Epoch 139/150\n",
      "209/209 [==============================] - 1s 6ms/step - loss: 0.0257 - acc: 0.9998 - val_loss: 1.0245 - val_acc: 0.9470\n",
      "Epoch 140/150\n",
      "209/209 [==============================] - 1s 6ms/step - loss: 0.0253 - acc: 0.9997 - val_loss: 1.0376 - val_acc: 0.9474\n",
      "Epoch 141/150\n",
      "209/209 [==============================] - 1s 6ms/step - loss: 0.0252 - acc: 0.9996 - val_loss: 1.0270 - val_acc: 0.9473\n",
      "Epoch 142/150\n",
      "209/209 [==============================] - 1s 6ms/step - loss: 0.0247 - acc: 0.9996 - val_loss: 1.0316 - val_acc: 0.9474\n",
      "Epoch 143/150\n",
      "209/209 [==============================] - 2s 8ms/step - loss: 0.0240 - acc: 0.9998 - val_loss: 1.0374 - val_acc: 0.9474\n",
      "Epoch 144/150\n",
      "209/209 [==============================] - 1s 7ms/step - loss: 0.0235 - acc: 0.9997 - val_loss: 1.0305 - val_acc: 0.9474\n",
      "Epoch 145/150\n",
      "209/209 [==============================] - 1s 7ms/step - loss: 0.0234 - acc: 0.9998 - val_loss: 1.0394 - val_acc: 0.9465\n",
      "Epoch 146/150\n",
      "209/209 [==============================] - 2s 7ms/step - loss: 0.0227 - acc: 0.9999 - val_loss: 1.0359 - val_acc: 0.9474\n",
      "Epoch 147/150\n",
      "209/209 [==============================] - 2s 8ms/step - loss: 0.0226 - acc: 0.9997 - val_loss: 1.0373 - val_acc: 0.9474\n",
      "Epoch 148/150\n",
      "209/209 [==============================] - 1s 7ms/step - loss: 0.0222 - acc: 0.9997 - val_loss: 1.0444 - val_acc: 0.9473\n",
      "Epoch 149/150\n",
      "209/209 [==============================] - 1s 7ms/step - loss: 0.0219 - acc: 0.9998 - val_loss: 1.0482 - val_acc: 0.9474\n",
      "Epoch 150/150\n",
      "209/209 [==============================] - 2s 8ms/step - loss: 0.0216 - acc: 0.9997 - val_loss: 1.0443 - val_acc: 0.9474\n"
     ]
    }
   ],
   "source": [
    "# two layers baseline model\n",
    "baseline_model = Sequential()\n",
    "baseline_model.add(layers.Dense(64, activation=\"relu\", input_shape=(784,)))\n",
    "baseline_model.add(layers.Dense(32, activation=\"relu\"))\n",
    "baseline_model.add(layers.Dense(24, activation=\"softmax\"))\n",
    "\n",
    "#compiling our model\n",
    "baseline_model.compile(loss=\"categorical_crossentropy\",\n",
    "                       optimizer=\"sgd\",\n",
    "                       metrics=[\"acc\"])\n",
    "\n",
    "#fitting the model\n",
    "baseline_history = baseline_model.fit(train_X, train_y,\n",
    "                                      epochs=150, batch_size=100,\n",
    "                                      validation_split=0.25)"
   ]
  },
  {
   "cell_type": "code",
   "execution_count": 25,
   "metadata": {},
   "outputs": [
    {
     "name": "stdout",
     "output_type": "stream",
     "text": [
      "Model: \"sequential\"\n",
      "_________________________________________________________________\n",
      " Layer (type)                Output Shape              Param #   \n",
      "=================================================================\n",
      " dense (Dense)               (None, 64)                50240     \n",
      "                                                                 \n",
      " dense_1 (Dense)             (None, 32)                2080      \n",
      "                                                                 \n",
      " dense_2 (Dense)             (None, 24)                792       \n",
      "                                                                 \n",
      "=================================================================\n",
      "Total params: 53,112\n",
      "Trainable params: 53,112\n",
      "Non-trainable params: 0\n",
      "_________________________________________________________________\n"
     ]
    }
   ],
   "source": [
    "baseline_model.summary()"
   ]
  },
  {
   "cell_type": "code",
   "execution_count": 27,
   "metadata": {},
   "outputs": [
    {
     "name": "stdout",
     "output_type": "stream",
     "text": [
      "Baseline model test data accuracy: \n",
      "225/225 [==============================] - 1s 3ms/step - loss: 1.5275 - acc: 0.7029\n"
     ]
    },
    {
     "data": {
      "text/plain": [
       "[1.5275362730026245, 0.7028722763061523]"
      ]
     },
     "execution_count": 27,
     "metadata": {},
     "output_type": "execute_result"
    }
   ],
   "source": [
    "print(\"Baseline model test data accuracy: \")\n",
    "baseline_model.evaluate(test_X, test_y)"
   ]
  },
  {
   "cell_type": "code",
   "execution_count": 28,
   "metadata": {},
   "outputs": [
    {
     "data": {
      "image/png": "[encoded data removed]",
      "text/plain": [
       "<Figure size 1000x500 with 2 Axes>"
      ]
     },
     "metadata": {},
     "output_type": "display_data"
    }
   ],
   "source": [
    "#Plotting the loss and accuracy of the test and validation datasets\n",
    "def plot_loss_and_accuracy(results, final=False):\n",
    "\n",
    "    if final:\n",
    "        val_label=\"test\"\n",
    "    else:\n",
    "        val_label=\"validation\"\n",
    "\n",
    "    # Extracting metrics from model fitting\n",
    "    train_loss = results.history['loss']\n",
    "    val_loss = results.history['val_loss']\n",
    "    train_accuracy = results.history['acc']\n",
    "    val_accuracy = results.history['val_acc']\n",
    "\n",
    "    # Setting up plots\n",
    "    fig, (ax1, ax2) = plt.subplots(1, 2, figsize=(10, 5))\n",
    "\n",
    "    # Plotting loss info\n",
    "    ax1.set_title(\"Loss\")\n",
    "    sns.lineplot(x=results.epoch, y=train_loss, ax=ax1, label=\"train\")\n",
    "    sns.lineplot(x=results.epoch, y=val_loss, ax=ax1, label=val_label)\n",
    "    ax1.legend()\n",
    "\n",
    "    # Plotting accuracy info\n",
    "    ax2.set_title(\"Accuracy\")\n",
    "    sns.lineplot(x=results.epoch, y=train_accuracy, ax=ax2, label=\"train\")\n",
    "    sns.lineplot(x=results.epoch, y=val_accuracy, ax=ax2, label=val_label)\n",
    "    ax2.legend()\n",
    "\n",
    "#baseline model loss and accuracy \n",
    "plot_loss_and_accuracy(baseline_history)"
   ]
  },
  {
   "attachments": {},
   "cell_type": "markdown",
   "metadata": {},
   "source": [
    "### CNN"
   ]
  },
  {
   "cell_type": "code",
   "execution_count": 230,
   "metadata": {},
   "outputs": [],
   "source": [
    "#Reshaping the train and test dataset\n",
    "train_X_reshaped = np.array(train_X).reshape(-1, 28, 28, 1)\n",
    "test_X_reshaped = np.array(test_X).reshape(-1, 28, 28, 1)"
   ]
  },
  {
   "cell_type": "code",
   "execution_count": 50,
   "metadata": {},
   "outputs": [
    {
     "name": "stdout",
     "output_type": "stream",
     "text": [
      "Epoch 1/10\n",
      "209/209 [==============================] - 24s 111ms/step - loss: 1.4626 - acc: 0.6178 - val_loss: 0.7184 - val_acc: 0.8543\n",
      "Epoch 2/10\n",
      "209/209 [==============================] - 28s 135ms/step - loss: 0.2892 - acc: 0.9538 - val_loss: 0.4185 - val_acc: 0.9404\n",
      "Epoch 3/10\n",
      "209/209 [==============================] - 24s 114ms/step - loss: 0.0929 - acc: 0.9960 - val_loss: 0.3588 - val_acc: 0.9500\n",
      "Epoch 4/10\n",
      "209/209 [==============================] - 25s 119ms/step - loss: 0.0389 - acc: 0.9999 - val_loss: 0.3500 - val_acc: 0.9498\n",
      "Epoch 5/10\n",
      "209/209 [==============================] - 22s 105ms/step - loss: 0.0212 - acc: 1.0000 - val_loss: 0.3460 - val_acc: 0.9507\n",
      "Epoch 6/10\n",
      "209/209 [==============================] - 22s 103ms/step - loss: 0.0132 - acc: 1.0000 - val_loss: 0.3526 - val_acc: 0.9506\n",
      "Epoch 7/10\n",
      "209/209 [==============================] - 21s 100ms/step - loss: 0.0090 - acc: 1.0000 - val_loss: 0.3601 - val_acc: 0.9506\n",
      "Epoch 8/10\n",
      "209/209 [==============================] - 21s 102ms/step - loss: 0.0065 - acc: 1.0000 - val_loss: 0.3626 - val_acc: 0.9503\n",
      "Epoch 9/10\n",
      "209/209 [==============================] - 21s 100ms/step - loss: 0.0050 - acc: 1.0000 - val_loss: 0.3697 - val_acc: 0.9504\n",
      "Epoch 10/10\n",
      "209/209 [==============================] - 22s 103ms/step - loss: 0.0039 - acc: 1.0000 - val_loss: 0.3753 - val_acc: 0.9503\n"
     ]
    }
   ],
   "source": [
    "# Fitting a CNN model\n",
    "cnn_model1 = Sequential()\n",
    "cnn_model1.add(layers.Conv2D(64, (3,3), activation=\"tanh\", input_shape=(28,28,1)))\n",
    "cnn_model1.add(layers.MaxPool2D((2,2)))\n",
    "cnn_model1.add(layers.Conv2D(32, (3,3), activation=\"tanh\"))\n",
    "cnn_model1.add(layers.MaxPooling2D((2,2)))\n",
    "cnn_model1.add(layers.Flatten())\n",
    "cnn_model1.add(layers.Dense(64, activation=\"tanh\"))\n",
    "cnn_model1.add(layers.Dense(24, activation=\"softmax\"))\n",
    "\n",
    "#Compiling the model\n",
    "cnn_model1.compile(loss=\"categorical_crossentropy\",\n",
    "                  optimizer=\"adam\",\n",
    "                  metrics=[\"acc\"])\n",
    "\n",
    "#Fitting the model\n",
    "cnn_model1_results = cnn_model1.fit(train_X_reshaped, train_y,\n",
    "                                  epochs=10, batch_size=100,\n",
    "                                  validation_split=0.25)\n"
   ]
  },
  {
   "cell_type": "code",
   "execution_count": 51,
   "metadata": {},
   "outputs": [
    {
     "name": "stdout",
     "output_type": "stream",
     "text": [
      "cnn model1 train data accuracy: \n",
      "870/870 [==============================] - 9s 10ms/step - loss: 0.0963 - acc: 0.9876\n",
      "[0.09633519500494003, 0.9875678420066833]\n",
      "\n",
      "cnn model1 test data accuracy: \n",
      "225/225 [==============================] - 2s 10ms/step - loss: 0.2810 - acc: 0.9216\n",
      "[0.2810279428958893, 0.9216396808624268]\n"
     ]
    }
   ],
   "source": [
    "print(\"cnn model1 train data accuracy: \")\n",
    "print(cnn_model1.evaluate(train_X_reshaped, train_y))\n",
    "print()\n",
    "print(\"cnn model1 test data accuracy: \")\n",
    "print(cnn_model1.evaluate(test_X_reshaped, test_y))"
   ]
  },
  {
   "cell_type": "code",
   "execution_count": 410,
   "metadata": {},
   "outputs": [
    {
     "name": "stdout",
     "output_type": "stream",
     "text": [
      "Epoch 1/10\n",
      "208/208 [==============================] - 31s 142ms/step - loss: 1.4601 - acc: 0.6205 - val_loss: 0.7245 - val_acc: 0.8309\n",
      "Epoch 2/10\n",
      "208/208 [==============================] - 29s 141ms/step - loss: 0.3381 - acc: 0.9386 - val_loss: 0.3393 - val_acc: 0.9459\n",
      "Epoch 3/10\n",
      "208/208 [==============================] - 30s 144ms/step - loss: 0.0884 - acc: 0.9940 - val_loss: 0.2174 - val_acc: 0.9685\n",
      "Epoch 4/10\n",
      "208/208 [==============================] - 30s 143ms/step - loss: 0.0207 - acc: 0.9996 - val_loss: 0.2048 - val_acc: 0.9687\n",
      "Epoch 5/10\n",
      "208/208 [==============================] - 31s 147ms/step - loss: 0.0051 - acc: 1.0000 - val_loss: 0.2151 - val_acc: 0.9685\n",
      "Epoch 6/10\n",
      "208/208 [==============================] - 29s 141ms/step - loss: 0.0020 - acc: 1.0000 - val_loss: 0.2233 - val_acc: 0.9685\n",
      "Epoch 7/10\n",
      "208/208 [==============================] - 30s 143ms/step - loss: 0.0012 - acc: 1.0000 - val_loss: 0.2289 - val_acc: 0.9687\n",
      "Epoch 8/10\n",
      "208/208 [==============================] - 30s 142ms/step - loss: 8.7219e-04 - acc: 1.0000 - val_loss: 0.2345 - val_acc: 0.9685\n",
      "Epoch 9/10\n",
      "208/208 [==============================] - 29s 140ms/step - loss: 6.6809e-04 - acc: 1.0000 - val_loss: 0.2367 - val_acc: 0.9688\n",
      "Epoch 10/10\n",
      "208/208 [==============================] - 29s 141ms/step - loss: 5.4307e-04 - acc: 1.0000 - val_loss: 0.2379 - val_acc: 0.9685\n"
     ]
    }
   ],
   "source": [
    "# Fitting a CNN model\n",
    "cnn_model2 = Sequential()\n",
    "cnn_model2.add(layers.Conv2D(64, (3,3), activation=\"tanh\", input_shape=(28,28,1)))\n",
    "cnn_model2.add(layers.MaxPool2D((2,2)))\n",
    "cnn_model2.add(layers.Conv2D(32, (3,3), activation=\"tanh\"))\n",
    "cnn_model2.add(layers.MaxPooling2D((2,2)))\n",
    "cnn_model2.add(layers.Flatten())\n",
    "cnn_model2.add(layers.Dense(64, activation=\"tanh\"))\n",
    "cnn_model2.add(layers.Dense(24, activation=\"softmax\"))\n",
    "\n",
    "#Compiling the model\n",
    "cnn_model2.compile(loss=\"categorical_crossentropy\",\n",
    "                  optimizer=\"rmsprop\",\n",
    "                  metrics=[\"acc\"])\n",
    "\n",
    "#Fitting the model\n",
    "cnn_model2_results = cnn_model2.fit(train_X_reshaped, train_y,\n",
    "                                  epochs=10, batch_size=100,\n",
    "                                  validation_split=0.25)\n"
   ]
  },
  {
   "cell_type": "code",
   "execution_count": 411,
   "metadata": {},
   "outputs": [
    {
     "name": "stdout",
     "output_type": "stream",
     "text": [
      "cnn model2 train data accuracy: \n",
      "867/867 [==============================] - 12s 13ms/step - loss: 0.0599 - acc: 0.9921\n",
      "[0.05985025689005852, 0.9921345114707947]\n",
      "\n",
      "cnn model2 test data accuracy: \n",
      "225/225 [==============================] - 3s 12ms/step - loss: 0.2594 - acc: 0.9350\n",
      "[0.25941339135169983, 0.9350250959396362]\n"
     ]
    }
   ],
   "source": [
    "print(\"cnn model2 train data accuracy: \")\n",
    "print(cnn_model2.evaluate(train_X_reshaped, train_y))\n",
    "print()\n",
    "print(\"cnn model2 test data accuracy: \")\n",
    "print(cnn_model2.evaluate(test_X_reshaped, test_y))"
   ]
  },
  {
   "attachments": {},
   "cell_type": "markdown",
   "metadata": {},
   "source": [
    "#### evaluating raw dataset"
   ]
  },
  {
   "cell_type": "code",
   "execution_count": 423,
   "metadata": {},
   "outputs": [],
   "source": [
    "raw_test_X = test_df.iloc[:, 1:]\n",
    "raw_test_y = to_categorical(test_df.label)\n",
    "\n",
    "#scaling\n",
    "raw_test_X /= 255"
   ]
  },
  {
   "cell_type": "code",
   "execution_count": 429,
   "metadata": {},
   "outputs": [],
   "source": [
    "raw_test_X = np.array(raw_test_X).reshape(-1, 28, 28, 1)"
   ]
  },
  {
   "cell_type": "code",
   "execution_count": 432,
   "metadata": {},
   "outputs": [
    {
     "name": "stdout",
     "output_type": "stream",
     "text": [
      "3/3 [==============================] - 0s 29ms/step - loss: 5.4354 - acc: 0.1839\n"
     ]
    },
    {
     "data": {
      "text/plain": [
       "[5.435421943664551, 0.18390804529190063]"
      ]
     },
     "execution_count": 432,
     "metadata": {},
     "output_type": "execute_result"
    }
   ],
   "source": [
    "cnn_model2.evaluate(raw_test_X, raw_test_y)"
   ]
  },
  {
   "cell_type": "code",
   "execution_count": null,
   "metadata": {},
   "outputs": [],
   "source": []
  },
  {
   "cell_type": "code",
   "execution_count": null,
   "metadata": {},
   "outputs": [],
   "source": []
  },
  {
   "cell_type": "code",
   "execution_count": 35,
   "metadata": {},
   "outputs": [
    {
     "name": "stdout",
     "output_type": "stream",
     "text": [
      "Epoch 1/10\n",
      "209/209 [==============================] - 31s 138ms/step - loss: 2.0307 - acc: 0.4065 - val_loss: 1.1641 - val_acc: 0.6963\n",
      "Epoch 2/10\n",
      "209/209 [==============================] - 29s 138ms/step - loss: 0.6083 - acc: 0.8174 - val_loss: 0.7542 - val_acc: 0.8596\n",
      "Epoch 3/10\n",
      "209/209 [==============================] - 28s 133ms/step - loss: 0.2286 - acc: 0.9380 - val_loss: 0.6903 - val_acc: 0.9199\n",
      "Epoch 4/10\n",
      "209/209 [==============================] - 29s 139ms/step - loss: 0.0879 - acc: 0.9841 - val_loss: 0.7553 - val_acc: 0.9399\n",
      "Epoch 5/10\n",
      "209/209 [==============================] - 28s 133ms/step - loss: 0.0385 - acc: 0.9962 - val_loss: 0.8169 - val_acc: 0.9483\n",
      "Epoch 6/10\n",
      "209/209 [==============================] - 30s 143ms/step - loss: 0.0212 - acc: 0.9981 - val_loss: 0.8820 - val_acc: 0.9485\n",
      "Epoch 7/10\n",
      "209/209 [==============================] - 29s 137ms/step - loss: 0.0106 - acc: 0.9999 - val_loss: 0.9142 - val_acc: 0.9494\n",
      "Epoch 8/10\n",
      "209/209 [==============================] - 27s 131ms/step - loss: 0.0067 - acc: 1.0000 - val_loss: 0.9822 - val_acc: 0.9493\n",
      "Epoch 9/10\n",
      "209/209 [==============================] - 29s 136ms/step - loss: 0.0052 - acc: 0.9999 - val_loss: 1.0276 - val_acc: 0.9493\n",
      "Epoch 10/10\n",
      "209/209 [==============================] - 29s 139ms/step - loss: 0.0035 - acc: 1.0000 - val_loss: 1.0385 - val_acc: 0.9498\n"
     ]
    }
   ],
   "source": [
    "#fitting the third CNN model\n",
    "cnn_model3 = Sequential()\n",
    "cnn_model3.add(layers.Conv2D(64, (3, 3), activation=\"relu\", input_shape=(28, 28, 1)))\n",
    "cnn_model3.add(layers.MaxPooling2D((2, 2)))\n",
    "cnn_model3.add(layers.Conv2D(32, (3,3), activation=\"relu\"))\n",
    "cnn_model3.add(layers.MaxPooling2D((2,2)))\n",
    "cnn_model3.add(layers.Flatten())\n",
    "cnn_model3.add(layers.Dense(64, activation=\"relu\"))\n",
    "cnn_model3.add(layers.Dense(24, activation=\"softmax\"))\n",
    "\n",
    "# Compiling the CNN model\n",
    "cnn_model3.compile(loss=\"categorical_crossentropy\",\n",
    "                  optimizer=\"adam\",\n",
    "                  metrics=[\"acc\"])\n",
    "\n",
    "# Fitting the CNN model\n",
    "cnn_model3_results = cnn_model3.fit(train_X_reshaped, train_y,\n",
    "                            epochs=10, batch_size=100,\n",
    "                            validation_split=0.25)"
   ]
  },
  {
   "cell_type": "code",
   "execution_count": 36,
   "metadata": {},
   "outputs": [
    {
     "name": "stdout",
     "output_type": "stream",
     "text": [
      "cnn model3 train data accuracy: \n",
      "870/870 [==============================] - 11s 12ms/step - loss: 0.2617 - acc: 0.9875\n",
      "[0.2616937756538391, 0.9874600172042847]\n",
      "\n",
      "cnn model3 test data accuracy: \n",
      "225/225 [==============================] - 3s 13ms/step - loss: 0.4985 - acc: 0.8932\n",
      "[0.4984506666660309, 0.8931957483291626]\n"
     ]
    }
   ],
   "source": [
    "print(\"cnn model3 train data accuracy: \")\n",
    "print(cnn_model3.evaluate(train_X_reshaped, train_y))\n",
    "print()\n",
    "print(\"cnn model3 test data accuracy: \")\n",
    "print(cnn_model3.evaluate(test_X_reshaped, test_y))"
   ]
  },
  {
   "cell_type": "code",
   "execution_count": 37,
   "metadata": {},
   "outputs": [
    {
     "data": {
      "image/png": "[encoded data removed]",
      "text/plain": [
       "<Figure size 1000x500 with 2 Axes>"
      ]
     },
     "metadata": {},
     "output_type": "display_data"
    }
   ],
   "source": [
    "#plotting loss and accuracy of the best model from the three models\n",
    "plot_loss_and_accuracy(cnn_model2_results)"
   ]
  },
  {
   "attachments": {},
   "cell_type": "markdown",
   "metadata": {},
   "source": [
    "* Our best model from the three fitted models is the second model which had an acuracy score of 92% in the test test, but clearly it's overfitting and we'll see if regularization might help."
   ]
  },
  {
   "attachments": {},
   "cell_type": "markdown",
   "metadata": {},
   "source": [
    "### Tuning CNN Model"
   ]
  },
  {
   "cell_type": "code",
   "execution_count": 38,
   "metadata": {},
   "outputs": [
    {
     "name": "stdout",
     "output_type": "stream",
     "text": [
      "Epoch 1/10\n",
      "209/209 [==============================] - 35s 159ms/step - loss: 1.9241 - acc: 0.4518 - val_loss: 1.0842 - val_acc: 0.7449\n",
      "Epoch 2/10\n",
      "209/209 [==============================] - 32s 153ms/step - loss: 0.7762 - acc: 0.7847 - val_loss: 0.6319 - val_acc: 0.8836\n",
      "Epoch 3/10\n",
      "209/209 [==============================] - 32s 153ms/step - loss: 0.4215 - acc: 0.8895 - val_loss: 0.4651 - val_acc: 0.9310\n",
      "Epoch 4/10\n",
      "209/209 [==============================] - 34s 161ms/step - loss: 0.2596 - acc: 0.9421 - val_loss: 0.4255 - val_acc: 0.9438\n",
      "Epoch 5/10\n",
      "209/209 [==============================] - 33s 156ms/step - loss: 0.1696 - acc: 0.9665 - val_loss: 0.4102 - val_acc: 0.9471\n",
      "Epoch 6/10\n",
      "209/209 [==============================] - 33s 157ms/step - loss: 0.1291 - acc: 0.9757 - val_loss: 0.3887 - val_acc: 0.9501\n",
      "Epoch 7/10\n",
      "209/209 [==============================] - 32s 153ms/step - loss: 0.0965 - acc: 0.9847 - val_loss: 0.4149 - val_acc: 0.9504\n",
      "Epoch 8/10\n",
      "209/209 [==============================] - 33s 158ms/step - loss: 0.0815 - acc: 0.9879 - val_loss: 0.4083 - val_acc: 0.9513\n",
      "Epoch 9/10\n",
      "209/209 [==============================] - 33s 156ms/step - loss: 0.0699 - acc: 0.9897 - val_loss: 0.4153 - val_acc: 0.9503\n",
      "Epoch 10/10\n",
      "209/209 [==============================] - 33s 156ms/step - loss: 0.0604 - acc: 0.9912 - val_loss: 0.4299 - val_acc: 0.9507\n"
     ]
    }
   ],
   "source": [
    "#Adding Dropout and l2 and l1 regularization\n",
    "tuned_model = Sequential()\n",
    "tuned_model.add(layers.Conv2D(64, (3,3), activation=\"tanh\",\n",
    "                              kernel_regularizer = regularizers.l2(0.005),\n",
    "                              input_shape=(28,28,1)))\n",
    "tuned_model.add(layers.MaxPool2D((2,2)))\n",
    "tuned_model.add(layers.Dropout(0.3))\n",
    "tuned_model.add(layers.Conv2D(32, (3,3), activation=\"tanh\"))\n",
    "tuned_model.add(layers.MaxPooling2D((2,2)))\n",
    "tuned_model.add(layers.Dropout(0.3))\n",
    "tuned_model.add(layers.Flatten())\n",
    "tuned_model.add(layers.Dense(64, activation=\"tanh\"))\n",
    "tuned_model.add(layers.Dropout(0.25))\n",
    "tuned_model.add(layers.Dense(24, activation=\"softmax\"))\n",
    "\n",
    "#Compiling the model\n",
    "tuned_model.compile(loss=\"categorical_crossentropy\",\n",
    "                  optimizer=\"rmsprop\",\n",
    "                  metrics=[\"acc\"])\n",
    "\n",
    "#Fitting the model\n",
    "tuned_model_results = tuned_model.fit(train_X_reshaped, train_y,\n",
    "                                  epochs=10, batch_size=100,\n",
    "                                  validation_split=0.25)"
   ]
  },
  {
   "cell_type": "code",
   "execution_count": 39,
   "metadata": {},
   "outputs": [
    {
     "name": "stdout",
     "output_type": "stream",
     "text": [
      "tuned model train data accuracy: \n",
      "870/870 [==============================] - 11s 13ms/step - loss: 0.1232 - acc: 0.9877\n",
      "[0.123176209628582, 0.9876756072044373]\n",
      "\n",
      "tuned model test data accuracy: \n",
      "225/225 [==============================] - 3s 12ms/step - loss: 0.2383 - acc: 0.9308\n",
      "[0.23825703561306, 0.9308421611785889]\n"
     ]
    }
   ],
   "source": [
    "print(\"tuned model train data accuracy: \")\n",
    "print(tuned_model.evaluate(train_X_reshaped, train_y))\n",
    "print()\n",
    "print(\"tuned model test data accuracy: \")\n",
    "print(tuned_model.evaluate(test_X_reshaped, test_y))"
   ]
  },
  {
   "attachments": {},
   "cell_type": "markdown",
   "metadata": {},
   "source": [
    "* After reguralization the model improved to 93% accuracy with the test data"
   ]
  },
  {
   "cell_type": "code",
   "execution_count": 41,
   "metadata": {},
   "outputs": [],
   "source": [
    "#Saving the tuned model\n",
    "# with open(\"CNN.pkl\", \"wb\") as f:\n",
    "#     joblib.dump(tuned_model, f)"
   ]
  },
  {
   "cell_type": "code",
   "execution_count": 3,
   "metadata": {},
   "outputs": [],
   "source": [
    "# Reloading the model\n",
    "# import pickle\n",
    "# with open(\"raw_model2.pkl\", \"rb\") as f:\n",
    "#     model = joblib.load(f)"
   ]
  },
  {
   "cell_type": "code",
   "execution_count": 29,
   "metadata": {},
   "outputs": [
    {
     "name": "stdout",
     "output_type": "stream",
     "text": [
      "225/225 [==============================] - 4s 9ms/step\n"
     ]
    }
   ],
   "source": [
    "#Making Predictions\n",
    "predictions = model.predict(test_X_reshaped)\n",
    "pred_labels = pd.Series([np.argmax(x) for x in predictions])"
   ]
  },
  {
   "cell_type": "code",
   "execution_count": 30,
   "metadata": {},
   "outputs": [
    {
     "data": {
      "image/png": "[encoded data removed]",
      "text/plain": [
       "<Figure size 800x1000 with 10 Axes>"
      ]
     },
     "metadata": {},
     "output_type": "display_data"
    }
   ],
   "source": [
    "#displaying images\n",
    "# Extract pixel values and labels\n",
    "pixel_columns = test.columns[1:]  # Exclude the label column\n",
    "pixel_values = test[pixel_columns].values\n",
    "labels = test['label'].values\n",
    "pred_labels = pred_labels.values\n",
    "\n",
    "# Display images\n",
    "fig, axes = plt.subplots(5, 2, figsize=(8, 10))\n",
    "fig.tight_layout()\n",
    "\n",
    "# Display images\n",
    "for i in range(10):\n",
    "    row = i // 2  # Calculate the row index\n",
    "    col = i % 2   # Calculate the column index\n",
    "    pixel_array = pixel_values[i].reshape(28, 28)  # Assuming the original image size is 28x28\n",
    "    # Display image on the corresponding subplot\n",
    "    axes[row, col].imshow(pixel_array, cmap='gray')\n",
    "    axes[row, col].set_title(f\"Real: {labels[i]} pred: {pred_labels[i]}\")\n",
    "    axes[row, col].axis('off')\n",
    "    \n",
    "# Show the plot\n",
    "plt.show()"
   ]
  },
  {
   "cell_type": "code",
   "execution_count": 449,
   "metadata": {},
   "outputs": [
    {
     "data": {
      "text/html": [
       "<div>\n",
       "<style scoped>\n",
       "    .dataframe tbody tr th:only-of-type {\n",
       "        vertical-align: middle;\n",
       "    }\n",
       "\n",
       "    .dataframe tbody tr th {\n",
       "        vertical-align: top;\n",
       "    }\n",
       "\n",
       "    .dataframe thead th {\n",
       "        text-align: right;\n",
       "    }\n",
       "</style>\n",
       "<table border=\"1\" class=\"dataframe\">\n",
       "  <thead>\n",
       "    <tr style=\"text-align: right;\">\n",
       "      <th></th>\n",
       "      <th>path</th>\n",
       "      <th>file_id</th>\n",
       "      <th>sequence_id</th>\n",
       "      <th>participant_id</th>\n",
       "      <th>phrase</th>\n",
       "    </tr>\n",
       "  </thead>\n",
       "  <tbody>\n",
       "    <tr>\n",
       "      <th>0</th>\n",
       "      <td>train_landmarks/5414471.parquet</td>\n",
       "      <td>5414471</td>\n",
       "      <td>1816796431</td>\n",
       "      <td>217</td>\n",
       "      <td>3 creekhouse</td>\n",
       "    </tr>\n",
       "    <tr>\n",
       "      <th>1</th>\n",
       "      <td>train_landmarks/5414471.parquet</td>\n",
       "      <td>5414471</td>\n",
       "      <td>1816825349</td>\n",
       "      <td>107</td>\n",
       "      <td>scales/kuhaylah</td>\n",
       "    </tr>\n",
       "    <tr>\n",
       "      <th>2</th>\n",
       "      <td>train_landmarks/5414471.parquet</td>\n",
       "      <td>5414471</td>\n",
       "      <td>1816909464</td>\n",
       "      <td>1</td>\n",
       "      <td>1383 william lanier</td>\n",
       "    </tr>\n",
       "    <tr>\n",
       "      <th>3</th>\n",
       "      <td>train_landmarks/5414471.parquet</td>\n",
       "      <td>5414471</td>\n",
       "      <td>1816967051</td>\n",
       "      <td>63</td>\n",
       "      <td>988 franklin lane</td>\n",
       "    </tr>\n",
       "    <tr>\n",
       "      <th>4</th>\n",
       "      <td>train_landmarks/5414471.parquet</td>\n",
       "      <td>5414471</td>\n",
       "      <td>1817123330</td>\n",
       "      <td>89</td>\n",
       "      <td>6920 northeast 661st road</td>\n",
       "    </tr>\n",
       "  </tbody>\n",
       "</table>\n",
       "</div>"
      ],
      "text/plain": [
       "                              path  file_id  sequence_id  participant_id  \\\n",
       "0  train_landmarks/5414471.parquet  5414471   1816796431             217   \n",
       "1  train_landmarks/5414471.parquet  5414471   1816825349             107   \n",
       "2  train_landmarks/5414471.parquet  5414471   1816909464               1   \n",
       "3  train_landmarks/5414471.parquet  5414471   1816967051              63   \n",
       "4  train_landmarks/5414471.parquet  5414471   1817123330              89   \n",
       "\n",
       "                      phrase  \n",
       "0               3 creekhouse  \n",
       "1            scales/kuhaylah  \n",
       "2        1383 william lanier  \n",
       "3          988 franklin lane  \n",
       "4  6920 northeast 661st road  "
      ]
     },
     "execution_count": 449,
     "metadata": {},
     "output_type": "execute_result"
    }
   ],
   "source": [
    "df = pd.read_csv(\"train.csv\")\n",
    "df.head()"
   ]
  },
  {
   "cell_type": "code",
   "execution_count": 254,
   "metadata": {},
   "outputs": [],
   "source": [
    "df1 = train[(train.label == 20)].sample(1)\n",
    "df2 = train[(train.label == 8)].sample(1)\n",
    "df3 = train[(train.label == 20)].sample(1)\n",
    "df4 = train[(train.label == 8)].sample(1)\n",
    "df5 = train[(train.label == 0)].sample(1)\n",
    "df6 = train[(train.label == 12)].sample(1)\n",
    "# df7 = train[(train.label == 6)].sample(1)"
   ]
  },
  {
   "cell_type": "code",
   "execution_count": 255,
   "metadata": {},
   "outputs": [],
   "source": [
    "morning_df = pd.concat([df1, df2, df3, df4, df5, df6])\n",
    "morning_X = morning_df.iloc[:, 1:]\n",
    "morning_X /= 255\n",
    "morning_reshaped = np.array(morning_X).reshape(-1, 28, 28, 1)"
   ]
  },
  {
   "cell_type": "code",
   "execution_count": null,
   "metadata": {},
   "outputs": [],
   "source": [
    "word_dict = {0: \"A\", 1: \"B\", 2: \"C\", 3: \"D\", 4: \"E\", 5: \"F\",\n",
    "             6: \"G\", 7: \"H\", 8: \"I\", 9: \"K\", 10: \"L\", 11: \"M\",\n",
    "             12: \"N\", 13: \"O\", 14: \"P\", 15: \"Q\", 16: \"R\", 17: \"S\",\n",
    "             18: \"T\", 19: \"U\", 20: \"V\", 21: \"W\", 22: \"X\", 23: \"Y\"}"
   ]
  },
  {
   "attachments": {},
   "cell_type": "markdown",
   "metadata": {},
   "source": [
    "### Raw only predictions"
   ]
  },
  {
   "cell_type": "code",
   "execution_count": 15,
   "metadata": {},
   "outputs": [
    {
     "name": "stdout",
     "output_type": "stream",
     "text": [
      "Found 2820 images belonging to 24 classes.\n"
     ]
    },
    {
     "name": "stdout",
     "output_type": "stream",
     "text": [
      "Found 303 images belonging to 24 classes.\n"
     ]
    }
   ],
   "source": [
    "datagen = ImageDataGenerator(rescale=1./255,\n",
    "                             rotation_range=10,\n",
    "                             zoom_range=0.1,\n",
    "                             horizontal_flip=False)\n",
    "train_raw_generator = datagen.flow_from_directory(\"data/train\", target_size=(64,64), batch_size=3000,\n",
    "                                                  class_mode=\"categorical\")\n",
    "validation_raw_generator = datagen.flow_from_directory(\"data/test\", target_size=(64,64), batch_size=3000,\n",
    "                                                       class_mode=\"categorical\")\n"
   ]
  },
  {
   "cell_type": "code",
   "execution_count": 16,
   "metadata": {},
   "outputs": [],
   "source": [
    "train_raw_X, train_raw_y = next(train_raw_generator)\n",
    "test_raw_X, test_raw_y = next(validation_raw_generator)"
   ]
  },
  {
   "cell_type": "code",
   "execution_count": 17,
   "metadata": {},
   "outputs": [
    {
     "data": {
      "text/plain": [
       "(2820, 64, 64, 3)"
      ]
     },
     "execution_count": 17,
     "metadata": {},
     "output_type": "execute_result"
    }
   ],
   "source": [
    "train_raw_X.shape"
   ]
  },
  {
   "cell_type": "code",
   "execution_count": 18,
   "metadata": {},
   "outputs": [],
   "source": [
    "train_images_list = []\n",
    "for img_array in train_raw_X:\n",
    "    gray = cv2.cvtColor(img_array, cv2.COLOR_BGR2GRAY)\n",
    "    gray = np.expand_dims(gray, 2)\n",
    "    train_images_list.append(gray)"
   ]
  },
  {
   "cell_type": "code",
   "execution_count": 19,
   "metadata": {},
   "outputs": [],
   "source": [
    "test_images_list = []\n",
    "for img_array in test_raw_X:\n",
    "    gray = cv2.cvtColor(img_array, cv2.COLOR_BGR2GRAY)\n",
    "    gray = np.expand_dims(gray, 2)\n",
    "    test_images_list.append(gray)"
   ]
  },
  {
   "cell_type": "code",
   "execution_count": 20,
   "metadata": {},
   "outputs": [],
   "source": [
    "raw_train_X = np.array(train_images_list)\n",
    "raw_test_X = np.array(test_images_list)"
   ]
  },
  {
   "cell_type": "code",
   "execution_count": 21,
   "metadata": {},
   "outputs": [
    {
     "data": {
      "text/plain": [
       "(2820, 64, 64, 1)"
      ]
     },
     "execution_count": 21,
     "metadata": {},
     "output_type": "execute_result"
    }
   ],
   "source": [
    "raw_train_X.shape"
   ]
  },
  {
   "cell_type": "code",
   "execution_count": 12,
   "metadata": {},
   "outputs": [],
   "source": [
    "from skimage import transform\n",
    "from skimage import util\n",
    "from skimage import exposure\n",
    "import skimage"
   ]
  },
  {
   "cell_type": "code",
   "execution_count": 22,
   "metadata": {},
   "outputs": [],
   "source": [
    "def preprocess_images(images):\n",
    "    preprocessed_images = []\n",
    "    for image in images:\n",
    "        image = skimage.filters.gaussian(image, sigma=1)\n",
    "        image = exposure.equalize_hist(image)\n",
    "        # blurred = cv2.GaussianBlur(image, (3,3), 0)\n",
    "        preprocessed_images.append(image)\n",
    "    return np.array(preprocessed_images).reshape(-1, 64, 64, 1)"
   ]
  },
  {
   "cell_type": "code",
   "execution_count": 23,
   "metadata": {},
   "outputs": [
    {
     "name": "stderr",
     "output_type": "stream",
     "text": [
      "/home/james/anaconda3/envs/myenv/lib/python3.11/site-packages/skimage/_shared/utils.py:316: UserWarning: This might be a color image. The histogram will be computed on the flattened image. You can instead apply this function to each color channel, or set channel_axis.\n",
      "  return func(*args, **kwargs)\n"
     ]
    }
   ],
   "source": [
    "raw_train_X = preprocess_images(raw_train_X)\n",
    "raw_test_X = preprocess_images(raw_test_X)"
   ]
  },
  {
   "cell_type": "code",
   "execution_count": 24,
   "metadata": {},
   "outputs": [
    {
     "data": {
      "text/plain": [
       "(2820, 64, 64, 1)"
      ]
     },
     "execution_count": 24,
     "metadata": {},
     "output_type": "execute_result"
    }
   ],
   "source": [
    "raw_train_X.shape"
   ]
  },
  {
   "cell_type": "code",
   "execution_count": 25,
   "metadata": {},
   "outputs": [
    {
     "data": {
      "text/plain": [
       "11"
      ]
     },
     "execution_count": 25,
     "metadata": {},
     "output_type": "execute_result"
    }
   ],
   "source": [
    "np.argmax(train_raw_y[50])"
   ]
  },
  {
   "cell_type": "code",
   "execution_count": 26,
   "metadata": {},
   "outputs": [
    {
     "data": {
      "text/plain": [
       "<matplotlib.image.AxesImage at 0x7febd04e75d0>"
      ]
     },
     "execution_count": 26,
     "metadata": {},
     "output_type": "execute_result"
    },
    {
     "data": {
      "image/png": "[encoded data removed]",
      "text/plain": [
       "<Figure size 640x480 with 1 Axes>"
      ]
     },
     "metadata": {},
     "output_type": "display_data"
    }
   ],
   "source": [
    "plt.imshow(raw_train_X[50])"
   ]
  },
  {
   "cell_type": "code",
   "execution_count": 45,
   "metadata": {},
   "outputs": [
    {
     "name": "stdout",
     "output_type": "stream",
     "text": [
      "Epoch 1/15\n",
      "282/282 [==============================] - 72s 244ms/step - loss: 2.2764 - acc: 0.3567\n",
      "Epoch 2/15\n",
      "282/282 [==============================] - 68s 241ms/step - loss: 1.1128 - acc: 0.6894\n",
      "Epoch 3/15\n",
      "282/282 [==============================] - 68s 241ms/step - loss: 0.7068 - acc: 0.7865\n",
      "Epoch 4/15\n",
      "282/282 [==============================] - 71s 252ms/step - loss: 0.4878 - acc: 0.8557\n",
      "Epoch 5/15\n",
      "282/282 [==============================] - 72s 255ms/step - loss: 0.3639 - acc: 0.8904\n",
      "Epoch 6/15\n",
      "282/282 [==============================] - 72s 255ms/step - loss: 0.3073 - acc: 0.9053\n",
      "Epoch 7/15\n",
      "282/282 [==============================] - 69s 243ms/step - loss: 0.2571 - acc: 0.9174\n",
      "Epoch 8/15\n",
      "282/282 [==============================] - 68s 242ms/step - loss: 0.2225 - acc: 0.9323\n",
      "Epoch 9/15\n",
      "282/282 [==============================] - 70s 249ms/step - loss: 0.1988 - acc: 0.9436\n",
      "Epoch 10/15\n",
      "282/282 [==============================] - 69s 243ms/step - loss: 0.1898 - acc: 0.9450\n",
      "Epoch 11/15\n",
      "282/282 [==============================] - 67s 238ms/step - loss: 0.1777 - acc: 0.9436\n",
      "Epoch 12/15\n",
      "282/282 [==============================] - 71s 251ms/step - loss: 0.1950 - acc: 0.9433\n",
      "Epoch 13/15\n",
      "282/282 [==============================] - 71s 252ms/step - loss: 0.1573 - acc: 0.9535\n",
      "Epoch 14/15\n",
      "282/282 [==============================] - 70s 248ms/step - loss: 0.1316 - acc: 0.9628\n",
      "Epoch 15/15\n",
      "282/282 [==============================] - 73s 258ms/step - loss: 0.1589 - acc: 0.9539\n"
     ]
    }
   ],
   "source": [
    "raw_model = Sequential()\n",
    "raw_model.add(layers.Conv2D(32, (3,3), activation=\"relu\", kernel_regularizer=regularizers.l2(0.005),\n",
    "                            input_shape=(64,64,1), padding=\"same\"))\n",
    "raw_model.add(layers.BatchNormalization())\n",
    "raw_model.add(layers.Conv2D(64, (3,3), activation=\"relu\"))\n",
    "raw_model.add(layers.MaxPooling2D((2,2)))\n",
    "raw_model.add(layers.Dropout(0.25))\n",
    "raw_model.add(layers.Conv2D(128, (3,3), activation=\"relu\"))\n",
    "raw_model.add(layers.MaxPooling2D((2,2)))\n",
    "raw_model.add(layers.Dropout(0.25))\n",
    "raw_model.add(layers.Flatten())\n",
    "raw_model.add(layers.Dense(128, activation=\"relu\"))\n",
    "raw_model.add(layers.BatchNormalization())\n",
    "raw_model.add(layers.Dropout(0.25))\n",
    "raw_model.add(layers.Dense(64, activation=\"relu\"))\n",
    "raw_model.add(layers.Dropout(0.25))\n",
    "raw_model.add(layers.Dense(24, activation=\"softmax\"))\n",
    "\n",
    "#Compiling the model\n",
    "raw_model.compile(loss=\"categorical_crossentropy\",\n",
    "                  optimizer=optimizers.RMSprop(learning_rate=0.001),\n",
    "                  metrics=[\"acc\"])\n",
    "\n",
    "#Fitting the model\n",
    "raw_model_results = raw_model.fit(raw_train_X, train_raw_y,\n",
    "                                  epochs=15, batch_size=10)"
   ]
  },
  {
   "cell_type": "code",
   "execution_count": 46,
   "metadata": {},
   "outputs": [
    {
     "name": "stdout",
     "output_type": "stream",
     "text": [
      "raw model train data accuracy: \n",
      "89/89 [==============================] - 12s 127ms/step - loss: 0.0140 - acc: 0.9982\n",
      "[0.014042850583791733, 0.9982269406318665]\n",
      "\n",
      "raw model test data accuracy: \n",
      "10/10 [==============================] - 1s 118ms/step - loss: 0.2141 - acc: 0.9472\n",
      "[0.2140759974718094, 0.9471946954727173]\n"
     ]
    }
   ],
   "source": [
    "print(\"raw model train data accuracy: \")\n",
    "print(raw_model.evaluate(raw_train_X, train_raw_y))\n",
    "print()\n",
    "print(\"raw model test data accuracy: \")\n",
    "print(raw_model.evaluate(raw_test_X, test_raw_y))"
   ]
  },
  {
   "cell_type": "code",
   "execution_count": 47,
   "metadata": {},
   "outputs": [],
   "source": [
    "# raw_model.save(\"best_model.h5\")"
   ]
  },
  {
   "cell_type": "code",
   "execution_count": 27,
   "metadata": {},
   "outputs": [
    {
     "data": {
      "text/plain": [
       "19"
      ]
     },
     "execution_count": 27,
     "metadata": {},
     "output_type": "execute_result"
    }
   ],
   "source": [
    "np.argmax(test_raw_y[1])"
   ]
  },
  {
   "cell_type": "code",
   "execution_count": 28,
   "metadata": {},
   "outputs": [
    {
     "data": {
      "text/plain": [
       "<matplotlib.image.AxesImage at 0x7febd02ab7d0>"
      ]
     },
     "execution_count": 28,
     "metadata": {},
     "output_type": "execute_result"
    },
    {
     "data": {
      "image/png": "[encoded data removed]",
      "text/plain": [
       "<Figure size 640x480 with 1 Axes>"
      ]
     },
     "metadata": {},
     "output_type": "display_data"
    }
   ],
   "source": [
    "plt.imshow(raw_test_X[1])"
   ]
  },
  {
   "cell_type": "code",
   "execution_count": 37,
   "metadata": {},
   "outputs": [],
   "source": [
    "import cv2\n",
    "import mediapipe as mp\n",
    "import os\n",
    "import uuid\n",
    "from IPython.display import Image, display\n",
    "\n",
    "videopath = \"v/WhatsApp Video 2023-07-11 at 13.03.39.mp4\"\n",
    " # Set up video capture\n",
    "cap = cv2.VideoCapture(videopath)\n",
    " # Set up MediaPipe hands\n",
    "mp_hands = mp.solutions.hands\n",
    "hands = mp_hands.Hands()\n",
    " # Set up output folder\n",
    "output_folder = \"videoimages\"\n",
    "if not os.path.exists(output_folder):\n",
    "    os.mkdir(output_folder)\n",
    "\n",
    "def extract_frames_from_video(video_path, output_folder, start_time, end_time, interval):\n",
    "    img_arrays = []\n",
    "     # Load video file\n",
    "    cap = cv2.VideoCapture(video_path)\n",
    "     # Get video properties\n",
    "    fps = cap.get(cv2.CAP_PROP_FPS)\n",
    "    total_frames = cap.get(cv2.CAP_PROP_FRAME_COUNT)\n",
    "    start_frame = int(start_time * fps)\n",
    "    end_frame = min(int(end_time * fps), int(total_frames))\n",
    "     # Set frame interval\n",
    "    frame_interval = int(interval * fps)\n",
    "     # Set starting frame\n",
    "    cap.set(cv2.CAP_PROP_POS_FRAMES, start_frame)\n",
    "     # Initialize variables\n",
    "    frame_count = 0\n",
    "    current_frame = start_frame\n",
    "    while current_frame <= end_frame:\n",
    "         # Read frame from the video\n",
    "        ret, frame = cap.read()\n",
    "        if not ret:\n",
    "            break\n",
    "         # Save frame as an image\n",
    "\n",
    "        if frame_count % frame_interval == 0:\n",
    "             # image_path = f\"{output_folder}/frame_{current_frame}.jpg\"\n",
    "             # cv2.imwrite(image_path, frame)\n",
    "            array = img_to_array(frame)\n",
    "            img_arrays.append(array/255)\n",
    "         # Update variables\n",
    "        frame_count += 1\n",
    "        current_frame += 1\n",
    "     # Release the video capture\n",
    "    cap.release()\n",
    "    return img_arrays\n",
    " # Example usage \n",
    "start_time = 1  # in seconds \n",
    "end_time = 9  # in seconds \n",
    "interval = 3 # in seconds\n",
    "predict_pics = extract_frames_from_video(videopath, output_folder, start_time, end_time, interval) \n",
    "# 4:58 # import matplotlib.pyplot as plt # import cv2 # image_path = '/content/nw3/frame_50.jpg' # image = cv2.imread(image_path) # plt.imshow(cv2.cvtColor(image, cv2.COLOR_BGR2RGB))\n",
    " # plt.axis('off')\n",
    " # plt.show()"
   ]
  },
  {
   "cell_type": "code",
   "execution_count": 38,
   "metadata": {},
   "outputs": [
    {
     "name": "stdout",
     "output_type": "stream",
     "text": [
      "1/1 [==============================] - 0s 48ms/step\n"
     ]
    },
    {
     "data": {
      "text/plain": [
       "'Leo'"
      ]
     },
     "execution_count": 38,
     "metadata": {},
     "output_type": "execute_result"
    }
   ],
   "source": [
    "#predicting from video\n",
    "images_array = []\n",
    "for img_file in predict_pics:\n",
    "    height, width = img_file.shape[:2]\n",
    "    new_width = int(width * 10)\n",
    "    new_height = int(height * 10)\n",
    "    zoomed_image = cv2.resize(img_file, (new_width, new_height))\n",
    "    img_array = cv2.resize(zoomed_image, (64,64))\n",
    "    gray = cv2.cvtColor(img_array, cv2.COLOR_BGR2GRAY)\n",
    "    gray = np.expand_dims(gray, 2)\n",
    "    image = skimage.filters.gaussian(gray, sigma=1)\n",
    "    image = exposure.equalize_hist(image)\n",
    "    images_array.append(image)\n",
    "\n",
    "word_images = np.array(images_array)\n",
    "\n",
    "word_dict = {0: \"A\", 1: \"B\", 2: \"C\", 3: \"D\", 4: \"E\", 5: \"F\",\n",
    "             6: \"G\", 7: \"H\", 8: \"I\", 9: \"K\", 10: \"L\", 11: \"M\",\n",
    "             12: \"N\", 13: \"O\", 14: \"P\", 15: \"Q\", 16: \"R\", 17: \"S\",\n",
    "             18: \"T\", 19: \"U\", 20: \"V\", 21: \"W\", 22: \"X\", 23: \"Y\"}\n",
    "word_preds = raw_model.predict(word_images)\n",
    "pred_series = pd.Series([np.argmax(x) for x in word_preds])\n",
    "p = pred_series.map(word_dict)\n",
    "st = \"\".join(p.values)\n",
    "st.capitalize()"
   ]
  },
  {
   "cell_type": "code",
   "execution_count": 39,
   "metadata": {},
   "outputs": [
    {
     "data": {
      "text/plain": [
       "<matplotlib.image.AxesImage at 0x7feb96bfa8d0>"
      ]
     },
     "execution_count": 39,
     "metadata": {},
     "output_type": "execute_result"
    },
    {
     "data": {
      "image/png": "[encoded data removed]",
      "text/plain": [
       "<Figure size 640x480 with 1 Axes>"
      ]
     },
     "metadata": {},
     "output_type": "display_data"
    }
   ],
   "source": [
    "plt.imshow(word_images[0])"
   ]
  },
  {
   "cell_type": "code",
   "execution_count": 33,
   "metadata": {},
   "outputs": [
    {
     "name": "stdout",
     "output_type": "stream",
     "text": [
      "10/10 [==============================] - 2s 175ms/step\n"
     ]
    }
   ],
   "source": [
    "p = raw_model.predict(raw_test_X)\n",
    "pred_labels = [np.argmax(x) for x in p]"
   ]
  },
  {
   "cell_type": "code",
   "execution_count": 34,
   "metadata": {},
   "outputs": [],
   "source": [
    "y_labels = [np.argmax(x) for x in test_raw_y]"
   ]
  },
  {
   "cell_type": "code",
   "execution_count": 35,
   "metadata": {},
   "outputs": [
    {
     "data": {
      "image/png": "[encoded data removed]",
      "text/plain": [
       "<Figure size 800x1000 with 10 Axes>"
      ]
     },
     "metadata": {},
     "output_type": "display_data"
    }
   ],
   "source": [
    "\n",
    "# pred_labels = pred_labels.values\n",
    "\n",
    "# Display images\n",
    "fig, axes = plt.subplots(5, 2, figsize=(8, 10))\n",
    "fig.tight_layout()\n",
    "\n",
    "# Display images\n",
    "for i in range(10):\n",
    "    row = i // 2  # Calculate the row index\n",
    "    col = i % 2   # Calculate the column index\n",
    "    pixel_array = raw_test_X[i]  # Assuming the original image size is 28x28\n",
    "    # Display image on the corresponding subplot\n",
    "    axes[row, col].imshow(pixel_array, cmap='gray')\n",
    "    axes[row, col].set_title(f\"Real: {y_labels[i]} pred: {pred_labels[i]}\")\n",
    "    axes[row, col].axis('off')\n",
    "    \n",
    "# Show the plot\n",
    "plt.show()"
   ]
  },
  {
   "cell_type": "code",
   "execution_count": 198,
   "metadata": {},
   "outputs": [],
   "source": [
    "from sklearn.model_selection import train_test_split\n",
    "train_raw, test_raw = train_test_split(raw_df, random_state=180)"
   ]
  },
  {
   "cell_type": "code",
   "execution_count": 201,
   "metadata": {},
   "outputs": [
    {
     "data": {
      "text/html": [
       "<div>\n",
       "<style scoped>\n",
       "    .dataframe tbody tr th:only-of-type {\n",
       "        vertical-align: middle;\n",
       "    }\n",
       "\n",
       "    .dataframe tbody tr th {\n",
       "        vertical-align: top;\n",
       "    }\n",
       "\n",
       "    .dataframe thead th {\n",
       "        text-align: right;\n",
       "    }\n",
       "</style>\n",
       "<table border=\"1\" class=\"dataframe\">\n",
       "  <thead>\n",
       "    <tr style=\"text-align: right;\">\n",
       "      <th></th>\n",
       "      <th>label</th>\n",
       "      <th>pixel1</th>\n",
       "      <th>pixel2</th>\n",
       "      <th>pixel3</th>\n",
       "      <th>pixel4</th>\n",
       "      <th>pixel5</th>\n",
       "      <th>pixel6</th>\n",
       "      <th>pixel7</th>\n",
       "      <th>pixel8</th>\n",
       "      <th>pixel9</th>\n",
       "      <th>...</th>\n",
       "      <th>pixel775</th>\n",
       "      <th>pixel776</th>\n",
       "      <th>pixel777</th>\n",
       "      <th>pixel778</th>\n",
       "      <th>pixel779</th>\n",
       "      <th>pixel780</th>\n",
       "      <th>pixel781</th>\n",
       "      <th>pixel782</th>\n",
       "      <th>pixel783</th>\n",
       "      <th>pixel784</th>\n",
       "    </tr>\n",
       "  </thead>\n",
       "  <tbody>\n",
       "    <tr>\n",
       "      <th>261</th>\n",
       "      <td>9</td>\n",
       "      <td>185.779999</td>\n",
       "      <td>183.779999</td>\n",
       "      <td>180.306992</td>\n",
       "      <td>178.307007</td>\n",
       "      <td>176.904999</td>\n",
       "      <td>175.904999</td>\n",
       "      <td>175.904999</td>\n",
       "      <td>175.904999</td>\n",
       "      <td>174.089996</td>\n",
       "      <td>...</td>\n",
       "      <td>145.542007</td>\n",
       "      <td>160.374008</td>\n",
       "      <td>127.618996</td>\n",
       "      <td>122.564995</td>\n",
       "      <td>120.468002</td>\n",
       "      <td>135.425003</td>\n",
       "      <td>124.638000</td>\n",
       "      <td>114.893997</td>\n",
       "      <td>144.004013</td>\n",
       "      <td>181.488007</td>\n",
       "    </tr>\n",
       "    <tr>\n",
       "      <th>123</th>\n",
       "      <td>8</td>\n",
       "      <td>135.076004</td>\n",
       "      <td>135.076004</td>\n",
       "      <td>135.076004</td>\n",
       "      <td>136.076004</td>\n",
       "      <td>137.434998</td>\n",
       "      <td>139.434998</td>\n",
       "      <td>140.435013</td>\n",
       "      <td>141.434998</td>\n",
       "      <td>142.434998</td>\n",
       "      <td>...</td>\n",
       "      <td>52.292999</td>\n",
       "      <td>53.037003</td>\n",
       "      <td>41.572998</td>\n",
       "      <td>33.580997</td>\n",
       "      <td>25.413000</td>\n",
       "      <td>80.923004</td>\n",
       "      <td>136.962997</td>\n",
       "      <td>119.354004</td>\n",
       "      <td>84.769997</td>\n",
       "      <td>57.545002</td>\n",
       "    </tr>\n",
       "  </tbody>\n",
       "</table>\n",
       "<p>2 rows × 785 columns</p>\n",
       "</div>"
      ],
      "text/plain": [
       "     label      pixel1      pixel2      pixel3      pixel4      pixel5  \\\n",
       "261      9  185.779999  183.779999  180.306992  178.307007  176.904999   \n",
       "123      8  135.076004  135.076004  135.076004  136.076004  137.434998   \n",
       "\n",
       "         pixel6      pixel7      pixel8      pixel9  ...    pixel775  \\\n",
       "261  175.904999  175.904999  175.904999  174.089996  ...  145.542007   \n",
       "123  139.434998  140.435013  141.434998  142.434998  ...   52.292999   \n",
       "\n",
       "       pixel776    pixel777    pixel778    pixel779    pixel780    pixel781  \\\n",
       "261  160.374008  127.618996  122.564995  120.468002  135.425003  124.638000   \n",
       "123   53.037003   41.572998   33.580997   25.413000   80.923004  136.962997   \n",
       "\n",
       "       pixel782    pixel783    pixel784  \n",
       "261  114.893997  144.004013  181.488007  \n",
       "123  119.354004   84.769997   57.545002  \n",
       "\n",
       "[2 rows x 785 columns]"
      ]
     },
     "execution_count": 201,
     "metadata": {},
     "output_type": "execute_result"
    }
   ],
   "source": [
    "train_raw.head(2)"
   ]
  },
  {
   "cell_type": "code",
   "execution_count": 206,
   "metadata": {},
   "outputs": [],
   "source": [
    "train_raw_X = train_raw.iloc[:, 1:]\n",
    "train_raw_y = to_categorical(train_raw.label)\n",
    "\n",
    "test_raw_X = test_raw.iloc[:, 1:]\n",
    "test_raw_y = to_categorical(test_raw.label)"
   ]
  },
  {
   "cell_type": "code",
   "execution_count": 213,
   "metadata": {},
   "outputs": [],
   "source": [
    "test_raw_X /= 255\n",
    "train_raw_X /= 255"
   ]
  },
  {
   "cell_type": "code",
   "execution_count": 216,
   "metadata": {},
   "outputs": [],
   "source": [
    "train_raw_reshaped = np.array(train_raw_X).reshape(-1, 28, 28, 1)\n",
    "test_raw_reshaped = np.array(test_raw_X).reshape(-1, 28, 28, 1)"
   ]
  },
  {
   "cell_type": "code",
   "execution_count": 218,
   "metadata": {},
   "outputs": [
    {
     "name": "stdout",
     "output_type": "stream",
     "text": [
      "Epoch 1/10\n"
     ]
    },
    {
     "name": "stderr",
     "output_type": "stream",
     "text": [
      "2023-07-07 11:01:04.920552: W tensorflow/tsl/framework/cpu_allocator_impl.cc:83] Allocation of 23975424 exceeds 10% of free system memory.\n",
      "2023-07-07 11:01:04.920600: W tensorflow/tsl/framework/cpu_allocator_impl.cc:83] Allocation of 23975424 exceeds 10% of free system memory.\n"
     ]
    },
    {
     "name": "stdout",
     "output_type": "stream",
     "text": [
      "1/3 [=========>....................] - ETA: 9s - loss: 3.2034 - acc: 0.0300"
     ]
    },
    {
     "name": "stderr",
     "output_type": "stream",
     "text": [
      "2023-07-07 11:01:05.416820: W tensorflow/tsl/framework/cpu_allocator_impl.cc:83] Allocation of 23975424 exceeds 10% of free system memory.\n",
      "2023-07-07 11:01:05.416878: W tensorflow/tsl/framework/cpu_allocator_impl.cc:83] Allocation of 23975424 exceeds 10% of free system memory.\n"
     ]
    },
    {
     "name": "stdout",
     "output_type": "stream",
     "text": [
      "2/3 [===================>..........] - ETA: 0s - loss: 3.2040 - acc: 0.0300"
     ]
    },
    {
     "name": "stderr",
     "output_type": "stream",
     "text": [
      "2023-07-07 11:01:05.757958: W tensorflow/tsl/framework/cpu_allocator_impl.cc:83] Allocation of 23975424 exceeds 10% of free system memory.\n"
     ]
    },
    {
     "name": "stdout",
     "output_type": "stream",
     "text": [
      "3/3 [==============================] - 6s 602ms/step - loss: 3.2123 - acc: 0.0329 - val_loss: 3.1702 - val_acc: 0.0563\n",
      "Epoch 2/10\n",
      "3/3 [==============================] - 2s 736ms/step - loss: 3.1628 - acc: 0.0563 - val_loss: 3.2204 - val_acc: 0.0423\n",
      "Epoch 3/10\n",
      "3/3 [==============================] - 0s 137ms/step - loss: 3.1611 - acc: 0.0798 - val_loss: 3.1917 - val_acc: 0.0141\n",
      "Epoch 4/10\n",
      "3/3 [==============================] - 0s 152ms/step - loss: 3.1171 - acc: 0.0563 - val_loss: 3.2533 - val_acc: 0.0423\n",
      "Epoch 5/10\n",
      "3/3 [==============================] - 0s 129ms/step - loss: 3.1086 - acc: 0.0423 - val_loss: 3.1380 - val_acc: 0.1268\n",
      "Epoch 6/10\n",
      "3/3 [==============================] - 0s 160ms/step - loss: 3.0819 - acc: 0.0892 - val_loss: 3.1853 - val_acc: 0.0845\n",
      "Epoch 7/10\n",
      "3/3 [==============================] - 0s 124ms/step - loss: 3.0458 - acc: 0.1174 - val_loss: 3.1976 - val_acc: 0.1127\n",
      "Epoch 8/10\n",
      "3/3 [==============================] - 0s 119ms/step - loss: 3.0046 - acc: 0.1502 - val_loss: 3.1335 - val_acc: 0.0986\n",
      "Epoch 9/10\n",
      "3/3 [==============================] - 0s 117ms/step - loss: 2.9726 - acc: 0.1221 - val_loss: 3.1504 - val_acc: 0.0704\n",
      "Epoch 10/10\n",
      "3/3 [==============================] - 0s 121ms/step - loss: 2.8937 - acc: 0.2019 - val_loss: 3.1555 - val_acc: 0.0704\n"
     ]
    }
   ],
   "source": [
    "raw_model = Sequential()\n",
    "raw_model.add(layers.Conv2D(64, (3,3), activation=\"tanh\", input_shape=(28,28,1)))\n",
    "raw_model.add(layers.MaxPool2D((2,2)))\n",
    "raw_model.add(layers.Conv2D(32, (3,3), activation=\"tanh\"))\n",
    "raw_model.add(layers.MaxPooling2D((2,2)))\n",
    "raw_model.add(layers.Flatten())\n",
    "raw_model.add(layers.Dense(64, activation=\"tanh\"))\n",
    "raw_model.add(layers.Dense(24, activation=\"softmax\"))\n",
    "\n",
    "#Compiling the model\n",
    "raw_model.compile(loss=\"categorical_crossentropy\",\n",
    "                  optimizer=\"rmsprop\",\n",
    "                  metrics=[\"acc\"])\n",
    "\n",
    "#Fitting the model\n",
    "raw_model_results = raw_model.fit(train_raw_reshaped, train_raw_y,\n",
    "                                  epochs=10, batch_size=100,\n",
    "                                  validation_split=0.25)\n"
   ]
  },
  {
   "cell_type": "code",
   "execution_count": 219,
   "metadata": {},
   "outputs": [
    {
     "name": "stdout",
     "output_type": "stream",
     "text": [
      "raw model train data accuracy: \n",
      "9/9 [==============================] - 0s 22ms/step - loss: 2.9386 - acc: 0.1232\n",
      "[2.9385972023010254, 0.1232394352555275]\n",
      "\n",
      "raw model test data accuracy: \n",
      "3/3 [==============================] - 0s 17ms/step - loss: 3.2031 - acc: 0.0211\n",
      "[3.2030892372131348, 0.021052632480859756]\n"
     ]
    }
   ],
   "source": [
    "print(\"raw model train data accuracy: \")\n",
    "print(raw_model.evaluate(train_raw_reshaped, train_raw_y))\n",
    "print()\n",
    "print(\"raw model test data accuracy: \")\n",
    "print(raw_model.evaluate(test_raw_reshaped, test_raw_y))"
   ]
  },
  {
   "cell_type": "code",
   "execution_count": 217,
   "metadata": {},
   "outputs": [
    {
     "data": {
      "text/plain": [
       "(284, 28, 28, 1)"
      ]
     },
     "execution_count": 217,
     "metadata": {},
     "output_type": "execute_result"
    }
   ],
   "source": [
    "train_raw_reshaped.shape"
   ]
  },
  {
   "cell_type": "code",
   "execution_count": 14,
   "metadata": {},
   "outputs": [],
   "source": [
    "from tensorflow.keras.models import load_model\n",
    "raw_model = load_model(\"best_model.h5\")\n",
    "model = load_model(\"raw_91.h5\")"
   ]
  },
  {
   "attachments": {},
   "cell_type": "markdown",
   "metadata": {},
   "source": [
    "### Predicting Words"
   ]
  },
  {
   "cell_type": "code",
   "execution_count": 41,
   "metadata": {},
   "outputs": [
    {
     "name": "stdout",
     "output_type": "stream",
     "text": [
      "1/1 [==============================] - 0s 65ms/step\n"
     ]
    },
    {
     "data": {
      "text/plain": [
       "'Yes'"
      ]
     },
     "execution_count": 41,
     "metadata": {},
     "output_type": "execute_result"
    }
   ],
   "source": [
    "import PIL\n",
    "#Predicting a word\n",
    "img_list = []\n",
    "dir = \"morning\"\n",
    "for img in os.listdir(dir):\n",
    "    if (img.endswith(\".jpeg\") or img.endswith(\".jpg\")):\n",
    "        img_list.append(img)\n",
    "img_list = sorted(img_list)\n",
    "images_array = []\n",
    "for img_file in img_list:\n",
    "    image_path = \"morning/\" + img_file\n",
    "    image = PIL.Image.open(image_path)\n",
    "    img_array = img_to_array(image)\n",
    "    img_array /= 255\n",
    "    img_array = cv2.resize(img_array, (64,64))\n",
    "    gray = cv2.cvtColor(img_array, cv2.COLOR_BGR2GRAY)\n",
    "    gray = np.expand_dims(gray, 2)\n",
    "    image = skimage.filters.gaussian(gray, sigma=2)\n",
    "    image = exposure.equalize_hist(image)\n",
    "    images_array.append(image)\n",
    "\n",
    "word_images = np.array(images_array)\n",
    "\n",
    "word_dict = {0: \"A\", 1: \"B\", 2: \"C\", 3: \"D\", 4: \"E\", 5: \"F\",\n",
    "             6: \"G\", 7: \"H\", 8: \"I\", 9: \"K\", 10: \"L\", 11: \"M\",\n",
    "             12: \"N\", 13: \"O\", 14: \"P\", 15: \"Q\", 16: \"R\", 17: \"S\",\n",
    "             18: \"T\", 19: \"U\", 20: \"V\", 21: \"W\", 22: \"X\", 23: \"Y\"}\n",
    "word_preds = raw_model.predict(word_images)\n",
    "pred_series = pd.Series([np.argmax(x) for x in word_preds])\n",
    "p = pred_series.map(word_dict)\n",
    "st = \"\".join(p.values)\n",
    "st.capitalize()"
   ]
  },
  {
   "cell_type": "code",
   "execution_count": 94,
   "metadata": {},
   "outputs": [
    {
     "data": {
      "text/plain": [
       "<matplotlib.image.AxesImage at 0x7f82383bfd10>"
      ]
     },
     "execution_count": 94,
     "metadata": {},
     "output_type": "execute_result"
    },
    {
     "data": {
      "image/png": "[encoded data removed]",
      "text/plain": [
       "<Figure size 640x480 with 1 Axes>"
      ]
     },
     "metadata": {},
     "output_type": "display_data"
    }
   ],
   "source": [
    "plt.imshow(word_images[0])"
   ]
  },
  {
   "cell_type": "code",
   "execution_count": 47,
   "metadata": {},
   "outputs": [
    {
     "ename": "AttributeError",
     "evalue": "module 'time' has no attribute '__version__'",
     "output_type": "error",
     "traceback": [
      "\u001b[0;31m---------------------------------------------------------------------------\u001b[0m",
      "\u001b[0;31mAttributeError\u001b[0m                            Traceback (most recent call last)",
      "Cell \u001b[0;32mIn[47], line 2\u001b[0m\n\u001b[1;32m      1\u001b[0m \u001b[39mimport\u001b[39;00m \u001b[39mtime\u001b[39;00m\n\u001b[0;32m----> 2\u001b[0m time\u001b[39m.\u001b[39;49m__version__\n",
      "\u001b[0;31mAttributeError\u001b[0m: module 'time' has no attribute '__version__'"
     ]
    }
   ],
   "source": [
    "import time\n",
    "time.__version__"
   ]
  },
  {
   "cell_type": "code",
   "execution_count": 242,
   "metadata": {},
   "outputs": [
    {
     "data": {
      "text/plain": [
       "(3, 64, 64, 1)"
      ]
     },
     "execution_count": 242,
     "metadata": {},
     "output_type": "execute_result"
    }
   ],
   "source": [
    "word_images.shape"
   ]
  },
  {
   "cell_type": "code",
   "execution_count": 10,
   "metadata": {},
   "outputs": [],
   "source": [
    "import cv2\n",
    "import time\n",
    "\n",
    "# Initialize the camera\n",
    "img_arrays = []\n",
    "camera = cv2.VideoCapture(0)\n",
    "\n",
    "# Check if the camera is opened successfully\n",
    "if not camera.isOpened():\n",
    "    print(\"Failed to open the camera\")\n",
    "    exit()\n",
    "\n",
    "# Set the interval between capturing pictures in seconds\n",
    "interval = 2\n",
    "\n",
    "# Continuously capture pictures\n",
    "while True:\n",
    "    # Read frame from the camera\n",
    "    ret, frame = camera.read()\n",
    "\n",
    "    if not ret:\n",
    "        print(\"Failed to capture frame from the camera\")\n",
    "        break\n",
    "\n",
    "    # Display the captured frame\n",
    "    cv2.imshow(\"Camera\", frame)\n",
    "\n",
    "    # Save the captured frame as an image file\n",
    "    array = img_to_array(frame)\n",
    "    img_arrays.append(array/255)\n",
    "\n",
    "    # Wait for the specified interval\n",
    "    time.sleep(interval)\n",
    "\n",
    "    # Check for 'q' key press to exit\n",
    "    if cv2.waitKey(1) == ord('q'):\n",
    "        break\n",
    "\n",
    "# Release the camera and close any open windows\n",
    "camera.release()\n",
    "cv2.destroyAllWindows()"
   ]
  },
  {
   "cell_type": "code",
   "execution_count": 26,
   "metadata": {},
   "outputs": [],
   "source": [
    "picture = capture_image()"
   ]
  },
  {
   "cell_type": "code",
   "execution_count": 215,
   "metadata": {},
   "outputs": [
    {
     "name": "stdout",
     "output_type": "stream",
     "text": [
      "Found 4 images belonging to 1 classes.\n"
     ]
    }
   ],
   "source": [
    "# word_generator = ImageDataGenerator(rescale=1/255).flow_from_directory(\"morning\", target_size=(64,64),\n",
    "#                                                            batch_size=20)"
   ]
  },
  {
   "cell_type": "code",
   "execution_count": 216,
   "metadata": {},
   "outputs": [],
   "source": [
    "# word_images, word_labels = next(word_generator)\n",
    "# word_list = [] \n",
    "# for img_array in word_images:\n",
    "#     gray = cv2.cvtColor(img_array, cv2.COLOR_BGR2GRAY)\n",
    "#     gray = np.expand_dims(gray, 2)\n",
    "#     word_list.append(gray)"
   ]
  },
  {
   "cell_type": "code",
   "execution_count": 217,
   "metadata": {},
   "outputs": [],
   "source": [
    "# word_list = np.array(word_list)"
   ]
  },
  {
   "cell_type": "code",
   "execution_count": 218,
   "metadata": {},
   "outputs": [
    {
     "data": {
      "text/plain": [
       "(4, 64, 64, 1)"
      ]
     },
     "execution_count": 218,
     "metadata": {},
     "output_type": "execute_result"
    }
   ],
   "source": [
    "# word_list.shape"
   ]
  },
  {
   "cell_type": "code",
   "execution_count": 240,
   "metadata": {},
   "outputs": [],
   "source": [
    "# plt.imshow(word_list[2])"
   ]
  },
  {
   "cell_type": "code",
   "execution_count": 220,
   "metadata": {},
   "outputs": [
    {
     "name": "stdout",
     "output_type": "stream",
     "text": [
      "1/1 [==============================] - 0s 170ms/step\n"
     ]
    },
    {
     "data": {
      "text/plain": [
       "'Adpd'"
      ]
     },
     "execution_count": 220,
     "metadata": {},
     "output_type": "execute_result"
    }
   ],
   "source": [
    "# word_dict = {0: \"A\", 1: \"B\", 2: \"C\", 3: \"D\", 4: \"E\", 5: \"F\",\n",
    "#              6: \"G\", 7: \"H\", 8: \"I\", 9: \"K\", 10: \"L\", 11: \"M\",\n",
    "#              12: \"N\", 13: \"O\", 14: \"P\", 15: \"Q\", 16: \"R\", 17: \"S\",\n",
    "#              18: \"T\", 19: \"U\", 20: \"V\", 21: \"W\", 22: \"X\", 23: \"Y\"}\n",
    "# word_preds = raw_model.predict(word_list)\n",
    "# pred_series = pd.Series([np.argmax(x) for x in word_preds])\n",
    "# p = pred_series.map(word_dict)\n",
    "# st = \"\".join(p.values)\n",
    "# st.capitalize()"
   ]
  },
  {
   "cell_type": "code",
   "execution_count": 180,
   "metadata": {},
   "outputs": [],
   "source": [
    "image = Image.open(\"K3.jpeg\")\n",
    "img_array = img_to_array(image)\n",
    "# new_img_array = cv2.resize(img_array, (28,28))\n",
    "gray = cv2.cvtColor(img_array, cv2.COLOR_BGR2GRAY)\n",
    "gray = np.expand_dims(gray, 2)"
   ]
  },
  {
   "cell_type": "code",
   "execution_count": 183,
   "metadata": {},
   "outputs": [],
   "source": [
    "gray = np.round(gray)\n"
   ]
  },
  {
   "cell_type": "code",
   "execution_count": 184,
   "metadata": {},
   "outputs": [],
   "source": [
    "new_gray = gray.reshape(-1, 28, 28, 1)\n",
    "new_gray /= 255."
   ]
  },
  {
   "cell_type": "code",
   "execution_count": 188,
   "metadata": {},
   "outputs": [
    {
     "data": {
      "text/plain": [
       "(1, 28, 28, 1)"
      ]
     },
     "execution_count": 188,
     "metadata": {},
     "output_type": "execute_result"
    }
   ],
   "source": [
    "new_gray.shape"
   ]
  },
  {
   "cell_type": "code",
   "execution_count": 186,
   "metadata": {},
   "outputs": [
    {
     "name": "stdout",
     "output_type": "stream",
     "text": [
      "1/1 [==============================] - 0s 38ms/step\n"
     ]
    }
   ],
   "source": [
    "pred = model.predict(morning_reshaped)"
   ]
  },
  {
   "cell_type": "code",
   "execution_count": 187,
   "metadata": {},
   "outputs": [
    {
     "data": {
      "text/plain": [
       "11"
      ]
     },
     "execution_count": 187,
     "metadata": {},
     "output_type": "execute_result"
    }
   ],
   "source": [
    "np.argmax(pred)"
   ]
  },
  {
   "cell_type": "code",
   "execution_count": 189,
   "metadata": {},
   "outputs": [
    {
     "data": {
      "text/html": [
       "<div>\n",
       "<style scoped>\n",
       "    .dataframe tbody tr th:only-of-type {\n",
       "        vertical-align: middle;\n",
       "    }\n",
       "\n",
       "    .dataframe tbody tr th {\n",
       "        vertical-align: top;\n",
       "    }\n",
       "\n",
       "    .dataframe thead th {\n",
       "        text-align: right;\n",
       "    }\n",
       "</style>\n",
       "<table border=\"1\" class=\"dataframe\">\n",
       "  <thead>\n",
       "    <tr style=\"text-align: right;\">\n",
       "      <th></th>\n",
       "      <th>label</th>\n",
       "      <th>pixel1</th>\n",
       "      <th>pixel2</th>\n",
       "      <th>pixel3</th>\n",
       "      <th>pixel4</th>\n",
       "      <th>pixel5</th>\n",
       "      <th>pixel6</th>\n",
       "      <th>pixel7</th>\n",
       "      <th>pixel8</th>\n",
       "      <th>pixel9</th>\n",
       "      <th>...</th>\n",
       "      <th>pixel775</th>\n",
       "      <th>pixel776</th>\n",
       "      <th>pixel777</th>\n",
       "      <th>pixel778</th>\n",
       "      <th>pixel779</th>\n",
       "      <th>pixel780</th>\n",
       "      <th>pixel781</th>\n",
       "      <th>pixel782</th>\n",
       "      <th>pixel783</th>\n",
       "      <th>pixel784</th>\n",
       "    </tr>\n",
       "  </thead>\n",
       "  <tbody>\n",
       "    <tr>\n",
       "      <th>0</th>\n",
       "      <td>3</td>\n",
       "      <td>0.419608</td>\n",
       "      <td>0.462745</td>\n",
       "      <td>0.498039</td>\n",
       "      <td>0.525490</td>\n",
       "      <td>0.545098</td>\n",
       "      <td>0.560784</td>\n",
       "      <td>0.572549</td>\n",
       "      <td>0.588235</td>\n",
       "      <td>0.600000</td>\n",
       "      <td>...</td>\n",
       "      <td>0.811765</td>\n",
       "      <td>0.811765</td>\n",
       "      <td>0.811765</td>\n",
       "      <td>0.811765</td>\n",
       "      <td>0.807843</td>\n",
       "      <td>0.807843</td>\n",
       "      <td>0.807843</td>\n",
       "      <td>0.800000</td>\n",
       "      <td>0.796078</td>\n",
       "      <td>0.792157</td>\n",
       "    </tr>\n",
       "    <tr>\n",
       "      <th>1</th>\n",
       "      <td>6</td>\n",
       "      <td>0.607843</td>\n",
       "      <td>0.615686</td>\n",
       "      <td>0.611765</td>\n",
       "      <td>0.611765</td>\n",
       "      <td>0.611765</td>\n",
       "      <td>0.615686</td>\n",
       "      <td>0.611765</td>\n",
       "      <td>0.619608</td>\n",
       "      <td>0.619608</td>\n",
       "      <td>...</td>\n",
       "      <td>0.270588</td>\n",
       "      <td>0.584314</td>\n",
       "      <td>0.501961</td>\n",
       "      <td>0.341176</td>\n",
       "      <td>0.368627</td>\n",
       "      <td>0.639216</td>\n",
       "      <td>0.686275</td>\n",
       "      <td>0.403922</td>\n",
       "      <td>0.529412</td>\n",
       "      <td>0.584314</td>\n",
       "    </tr>\n",
       "    <tr>\n",
       "      <th>2</th>\n",
       "      <td>2</td>\n",
       "      <td>187.000000</td>\n",
       "      <td>188.000000</td>\n",
       "      <td>188.000000</td>\n",
       "      <td>187.000000</td>\n",
       "      <td>187.000000</td>\n",
       "      <td>186.000000</td>\n",
       "      <td>187.000000</td>\n",
       "      <td>188.000000</td>\n",
       "      <td>187.000000</td>\n",
       "      <td>...</td>\n",
       "      <td>202.000000</td>\n",
       "      <td>201.000000</td>\n",
       "      <td>200.000000</td>\n",
       "      <td>199.000000</td>\n",
       "      <td>198.000000</td>\n",
       "      <td>199.000000</td>\n",
       "      <td>198.000000</td>\n",
       "      <td>195.000000</td>\n",
       "      <td>194.000000</td>\n",
       "      <td>195.000000</td>\n",
       "    </tr>\n",
       "  </tbody>\n",
       "</table>\n",
       "<p>3 rows × 785 columns</p>\n",
       "</div>"
      ],
      "text/plain": [
       "   label      pixel1      pixel2      pixel3      pixel4      pixel5  \\\n",
       "0      3    0.419608    0.462745    0.498039    0.525490    0.545098   \n",
       "1      6    0.607843    0.615686    0.611765    0.611765    0.611765   \n",
       "2      2  187.000000  188.000000  188.000000  187.000000  187.000000   \n",
       "\n",
       "       pixel6      pixel7      pixel8      pixel9  ...    pixel775  \\\n",
       "0    0.560784    0.572549    0.588235    0.600000  ...    0.811765   \n",
       "1    0.615686    0.611765    0.619608    0.619608  ...    0.270588   \n",
       "2  186.000000  187.000000  188.000000  187.000000  ...  202.000000   \n",
       "\n",
       "     pixel776    pixel777    pixel778    pixel779    pixel780    pixel781  \\\n",
       "0    0.811765    0.811765    0.811765    0.807843    0.807843    0.807843   \n",
       "1    0.584314    0.501961    0.341176    0.368627    0.639216    0.686275   \n",
       "2  201.000000  200.000000  199.000000  198.000000  199.000000  198.000000   \n",
       "\n",
       "     pixel782    pixel783    pixel784  \n",
       "0    0.800000    0.796078    0.792157  \n",
       "1    0.403922    0.529412    0.584314  \n",
       "2  195.000000  194.000000  195.000000  \n",
       "\n",
       "[3 rows x 785 columns]"
      ]
     },
     "execution_count": 189,
     "metadata": {},
     "output_type": "execute_result"
    }
   ],
   "source": [
    "train.head(3)"
   ]
  },
  {
   "cell_type": "code",
   "execution_count": 190,
   "metadata": {},
   "outputs": [],
   "source": [
    "train.iloc[2, 1:] /= 255"
   ]
  },
  {
   "cell_type": "code",
   "execution_count": 191,
   "metadata": {},
   "outputs": [
    {
     "name": "stdout",
     "output_type": "stream",
     "text": [
      "1/1 [==============================] - 0s 37ms/step\n"
     ]
    }
   ],
   "source": [
    "p = model.predict(np.array(train.iloc[2, 1:]).reshape(-1, 28, 28, 1))"
   ]
  },
  {
   "cell_type": "code",
   "execution_count": 192,
   "metadata": {},
   "outputs": [
    {
     "data": {
      "text/plain": [
       "2"
      ]
     },
     "execution_count": 192,
     "metadata": {},
     "output_type": "execute_result"
    }
   ],
   "source": [
    "np.argmax(p)"
   ]
  },
  {
   "cell_type": "code",
   "execution_count": 32,
   "metadata": {},
   "outputs": [],
   "source": [
    "# images = []\n",
    "# folder_dir = \"morning\"\n",
    "# for image in os.listdir(folder_dir):\n",
    "#     if (image.endswith(\".jpeg\")):\n",
    "#         images.append(image)\n"
   ]
  },
  {
   "cell_type": "code",
   "execution_count": null,
   "metadata": {},
   "outputs": [],
   "source": [
    "# # Fitting a CNN model\n",
    "# cnn_model3 = Sequential()\n",
    "# cnn_model3.add(layers.Conv2D(64, (3,3), activation=\"relu\", input_shape=(28,28,1)))\n",
    "# cnn_model3.add(layers.MaxPool2D((2,2)))\n",
    "# cnn_model.add(layers.Conv2D(32, (3,3), activation=\"relu\"))\n",
    "# cnn_model.add(layers.MaxPooling2D((2,2)))\n",
    "# cnn_model.add(layers.Flatten())\n",
    "# cnn_model.add(layers.Dense(64, activation=\"relu\"))\n",
    "# cnn_model.add(layers.Dense(24, activation=\"softmax\"))\n",
    "\n",
    "# #Compiling the model\n",
    "# cnn_model.compile(loss=\"categorical_crossentropy\",\n",
    "#                   optimizer=\"rmsprop\",\n",
    "#                   metrics=[\"acc\"])\n",
    "\n",
    "# #Fitting the model\n",
    "# cnn_model_results = cnn_model.fit(train_X_reshaped, train_y,\n",
    "#                                   epochs=10, batch_size=100,\n",
    "#                                   validation_split=0.25)"
   ]
  },
  {
   "cell_type": "code",
   "execution_count": null,
   "metadata": {},
   "outputs": [],
   "source": [
    "# plt.figure(figsize=(10, 10))\n",
    "# for images, labels in test.take(1):\n",
    "#   classification = model(images)\n",
    "#   print(classification)\n",
    "#   for i in range(9):\n",
    "#     ax = plt.subplot(3, 3, i + 1)\n",
    "#     plt.imshow(images[i].numpy().astype(\"uint8\"))\n",
    "#     index = np.argmax(classification[i])\n",
    "#     plt.title(\"Pred: \" + class_names[index] + \" | Real: \" + class_names[labels[i]])"
   ]
  },
  {
   "cell_type": "code",
   "execution_count": null,
   "metadata": {},
   "outputs": [],
   "source": [
    "# fig, axs = plt.subplots(nrows=5, ncols=5, figsize=(8,8))\n",
    "# train_len = X_train.shape[0]\n",
    "\n",
    "# for ax in axs.reshape(-1):\n",
    "#     idx = np.random.randint(train_len)\n",
    "#     ax.set_title(label_map[y_train[idx]], size=10)\n",
    "#     ax.axis('off')\n",
    "#     ax.imshow(X_train[idx].reshape((28,28)), cmap='gray')"
   ]
  },
  {
   "cell_type": "code",
   "execution_count": null,
   "metadata": {},
   "outputs": [],
   "source": [
    "# Viewing 10 images from the dataset\n",
    "# fig, axes = plt.subplots(nrows=2, ncols=5, figsize=(12, 6))\n",
    "# axes = axes.flatten()\n",
    "\n",
    "# for i in range(10):\n",
    "#     img = train_images[i]\n",
    "#     label = train_labels[i]\n",
    "    \n",
    "#     axes[i].imshow(img)\n",
    "#     axes[i].set_title(f\"Label: {label}\")\n",
    "#     axes[i].axis('off')\n",
    "\n",
    "# plt.tight_layout()\n",
    "# plt.show()"
   ]
  }
 ],
 "metadata": {
  "kernelspec": {
   "display_name": "Python 3 (ipykernel)",
   "language": "python",
   "name": "python3"
  },
  "language_info": {
   "codemirror_mode": {
    "name": "ipython",
    "version": 3
   },
   "file_extension": ".py",
   "mimetype": "text/x-python",
   "name": "python",
   "nbconvert_exporter": "python",
   "pygments_lexer": "ipython3",
   "version": "3.11.3"
  }
 },
 "nbformat": 4,
 "nbformat_minor": 2
}
