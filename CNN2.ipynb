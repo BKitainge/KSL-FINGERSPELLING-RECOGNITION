{
 "cells": [
  {
   "cell_type": "markdown",
   "metadata": {},
   "source": [
    "## **KSL FINGERSPELLING RECOGNITION** "
   ]
  },
  {
   "cell_type": "markdown",
   "metadata": {},
   "source": [
    "### INTRODUCTION"
   ]
  },
  {
   "attachments": {},
   "cell_type": "markdown",
   "metadata": {},
   "source": [
    "<img src=\"ksl.png\" />"
   ]
  },
  {
   "cell_type": "markdown",
   "metadata": {},
   "source": [
    "### Overview\n",
    "- Fingerspelling is a technique that makes use of hand formations to represent words and letters. Using fingerspelling, one can communicate information such as phone numbers, names, and even addresses. However, hearing impaired individuals find it difficult to merge the current technological advancements, such as, smartphones with fingerspelling because they happen to do it a lot faster than their devices. Therefore, there is need to bridge the gap between fingerspelling and typing on smartphones.\n",
    "- Fingerspelling has grown to become one of the most crucial manual communication systems in the world. For deaf and individuals with hearing impairment issues, fingerspelling is one of the ways that they can communicate with those around them. However, few people are able to discern figerspelling and this leads to communication breakdowns. The use of machine learning technology can help to merge fingerspelling with exact letters and symbols to help enhance communication. "
   ]
  },
  {
   "cell_type": "markdown",
   "metadata": {},
   "source": [
    "### Problem Statement\n",
    "- The deaf and hearing impaired community faces significant communication barriers with the rest of the society. This is because sign language is not widely understood by everyone else around them, and this can lead to difficulties in communication or communication breakdowns. To address this issue, this project aims to develop a Convolutional Neural Network (CNN) model specifically designed for fingerspelling recognition, allowing for accurate identification of individual letters and complete words in different sign languages. By improving the recognition of fingerspelling gestures, the model seeks to enhance communication accessibility for individuals who are deaf or hard of hearing, promoting inclusivity and fostering effective communication with the broader society."
   ]
  },
  {
   "attachments": {},
   "cell_type": "markdown",
   "metadata": {},
   "source": [
    "### Objectives\n",
    "- Our objective is to create an innovative machine learning model that acts as a vital bridge, connecting the deaf and mute community with the wider society.\n",
    "\n",
    "This model will have the capability to translate various sign languages, including American Sign Language (ASL) and Kenyan Sign Language (KSL), into their corresponding individual letters, enabling the broader community to learn and understand sign language for improved communication with their deaf loved ones. Additionally, this development will empower the deaf and mute community to communicate effectively amongst themselves, fostering inclusivity and enhancing overall interactions. Through this project, we aspire to facilitate seamless communication, foster understanding, and promote inclusiveness between these communities."
   ]
  },
  {
   "attachments": {},
   "cell_type": "markdown",
   "metadata": {},
   "source": [
    "#### Specific Objectives\n",
    "1. Develop a Convolutional Neural Network (CNN) model specifically designed for fingerspelling recognition in different sign languages.\n",
    "2. Train the model using a large dataset of fingerspelling gestures in various sign languages, ensuring accuracy and reliability in recognizing individual letters and complete words.\n",
    "3. Conduct extensive testing and evaluation to assess the model's performance and accuracy in recognizing fingerspelling gestures across different sign languages.\n",
    "4. Deploy the model."
   ]
  },
  {
   "attachments": {},
   "cell_type": "markdown",
   "metadata": {},
   "source": [
    "### Data Understanding\n",
    "- The dataset is publicly available on Kaggle which we then added 379 images taken by the group members doing the fingerspelling.\n",
    "- The signs provided are based on the Kenyan Sign Language letter database which is made up of 24 classes of letters with the exclusion of `J` and `Z`. The two letters have been excluded because they require the use of motion. \n",
    "- Further, the dataset is divided into train and test sets each with 27455 and 7172 cases, respectively. The total number of columns for both is 784. "
   ]
  },
  {
   "attachments": {},
   "cell_type": "markdown",
   "metadata": {},
   "source": [
    "### DATA PREPROCESSING"
   ]
  },
  {
   "cell_type": "code",
   "execution_count": 40,
   "metadata": {},
   "outputs": [],
   "source": [
    "#importing necessary libraries\n",
    "import pandas as pd\n",
    "import numpy as np\n",
    "import seaborn as sns\n",
    "import matplotlib.pyplot as plt\n",
    "from PIL import Image\n",
    "import joblib\n",
    "from keras.preprocessing.image import ImageDataGenerator\n",
    "from tensorflow.keras.utils import array_to_img, img_to_array\n",
    "from keras.models import Sequential\n",
    "from keras import layers, initializers, optimizers, regularizers\n",
    "from tensorflow.keras.utils import to_categorical\n",
    "import cv2\n",
    "\n",
    "np.random.seed(180)\n",
    "plt.style.use(\"ggplot\")"
   ]
  },
  {
   "attachments": {},
   "cell_type": "markdown",
   "metadata": {},
   "source": [
    "#### Kaggle Dataset"
   ]
  },
  {
   "cell_type": "code",
   "execution_count": 2,
   "metadata": {},
   "outputs": [
    {
     "data": {
      "text/html": [
       "<div>\n",
       "<style scoped>\n",
       "    .dataframe tbody tr th:only-of-type {\n",
       "        vertical-align: middle;\n",
       "    }\n",
       "\n",
       "    .dataframe tbody tr th {\n",
       "        vertical-align: top;\n",
       "    }\n",
       "\n",
       "    .dataframe thead th {\n",
       "        text-align: right;\n",
       "    }\n",
       "</style>\n",
       "<table border=\"1\" class=\"dataframe\">\n",
       "  <thead>\n",
       "    <tr style=\"text-align: right;\">\n",
       "      <th></th>\n",
       "      <th>label</th>\n",
       "      <th>pixel1</th>\n",
       "      <th>pixel2</th>\n",
       "      <th>pixel3</th>\n",
       "      <th>pixel4</th>\n",
       "      <th>pixel5</th>\n",
       "      <th>pixel6</th>\n",
       "      <th>pixel7</th>\n",
       "      <th>pixel8</th>\n",
       "      <th>pixel9</th>\n",
       "      <th>...</th>\n",
       "      <th>pixel775</th>\n",
       "      <th>pixel776</th>\n",
       "      <th>pixel777</th>\n",
       "      <th>pixel778</th>\n",
       "      <th>pixel779</th>\n",
       "      <th>pixel780</th>\n",
       "      <th>pixel781</th>\n",
       "      <th>pixel782</th>\n",
       "      <th>pixel783</th>\n",
       "      <th>pixel784</th>\n",
       "    </tr>\n",
       "  </thead>\n",
       "  <tbody>\n",
       "    <tr>\n",
       "      <th>0</th>\n",
       "      <td>3</td>\n",
       "      <td>107</td>\n",
       "      <td>118</td>\n",
       "      <td>127</td>\n",
       "      <td>134</td>\n",
       "      <td>139</td>\n",
       "      <td>143</td>\n",
       "      <td>146</td>\n",
       "      <td>150</td>\n",
       "      <td>153</td>\n",
       "      <td>...</td>\n",
       "      <td>207</td>\n",
       "      <td>207</td>\n",
       "      <td>207</td>\n",
       "      <td>207</td>\n",
       "      <td>206</td>\n",
       "      <td>206</td>\n",
       "      <td>206</td>\n",
       "      <td>204</td>\n",
       "      <td>203</td>\n",
       "      <td>202</td>\n",
       "    </tr>\n",
       "    <tr>\n",
       "      <th>1</th>\n",
       "      <td>6</td>\n",
       "      <td>155</td>\n",
       "      <td>157</td>\n",
       "      <td>156</td>\n",
       "      <td>156</td>\n",
       "      <td>156</td>\n",
       "      <td>157</td>\n",
       "      <td>156</td>\n",
       "      <td>158</td>\n",
       "      <td>158</td>\n",
       "      <td>...</td>\n",
       "      <td>69</td>\n",
       "      <td>149</td>\n",
       "      <td>128</td>\n",
       "      <td>87</td>\n",
       "      <td>94</td>\n",
       "      <td>163</td>\n",
       "      <td>175</td>\n",
       "      <td>103</td>\n",
       "      <td>135</td>\n",
       "      <td>149</td>\n",
       "    </tr>\n",
       "    <tr>\n",
       "      <th>2</th>\n",
       "      <td>2</td>\n",
       "      <td>187</td>\n",
       "      <td>188</td>\n",
       "      <td>188</td>\n",
       "      <td>187</td>\n",
       "      <td>187</td>\n",
       "      <td>186</td>\n",
       "      <td>187</td>\n",
       "      <td>188</td>\n",
       "      <td>187</td>\n",
       "      <td>...</td>\n",
       "      <td>202</td>\n",
       "      <td>201</td>\n",
       "      <td>200</td>\n",
       "      <td>199</td>\n",
       "      <td>198</td>\n",
       "      <td>199</td>\n",
       "      <td>198</td>\n",
       "      <td>195</td>\n",
       "      <td>194</td>\n",
       "      <td>195</td>\n",
       "    </tr>\n",
       "    <tr>\n",
       "      <th>3</th>\n",
       "      <td>2</td>\n",
       "      <td>211</td>\n",
       "      <td>211</td>\n",
       "      <td>212</td>\n",
       "      <td>212</td>\n",
       "      <td>211</td>\n",
       "      <td>210</td>\n",
       "      <td>211</td>\n",
       "      <td>210</td>\n",
       "      <td>210</td>\n",
       "      <td>...</td>\n",
       "      <td>235</td>\n",
       "      <td>234</td>\n",
       "      <td>233</td>\n",
       "      <td>231</td>\n",
       "      <td>230</td>\n",
       "      <td>226</td>\n",
       "      <td>225</td>\n",
       "      <td>222</td>\n",
       "      <td>229</td>\n",
       "      <td>163</td>\n",
       "    </tr>\n",
       "    <tr>\n",
       "      <th>4</th>\n",
       "      <td>13</td>\n",
       "      <td>164</td>\n",
       "      <td>167</td>\n",
       "      <td>170</td>\n",
       "      <td>172</td>\n",
       "      <td>176</td>\n",
       "      <td>179</td>\n",
       "      <td>180</td>\n",
       "      <td>184</td>\n",
       "      <td>185</td>\n",
       "      <td>...</td>\n",
       "      <td>92</td>\n",
       "      <td>105</td>\n",
       "      <td>105</td>\n",
       "      <td>108</td>\n",
       "      <td>133</td>\n",
       "      <td>163</td>\n",
       "      <td>157</td>\n",
       "      <td>163</td>\n",
       "      <td>164</td>\n",
       "      <td>179</td>\n",
       "    </tr>\n",
       "  </tbody>\n",
       "</table>\n",
       "<p>5 rows × 785 columns</p>\n",
       "</div>"
      ],
      "text/plain": [
       "   label  pixel1  pixel2  pixel3  pixel4  pixel5  pixel6  pixel7  pixel8  \\\n",
       "0      3     107     118     127     134     139     143     146     150   \n",
       "1      6     155     157     156     156     156     157     156     158   \n",
       "2      2     187     188     188     187     187     186     187     188   \n",
       "3      2     211     211     212     212     211     210     211     210   \n",
       "4     13     164     167     170     172     176     179     180     184   \n",
       "\n",
       "   pixel9  ...  pixel775  pixel776  pixel777  pixel778  pixel779  pixel780  \\\n",
       "0     153  ...       207       207       207       207       206       206   \n",
       "1     158  ...        69       149       128        87        94       163   \n",
       "2     187  ...       202       201       200       199       198       199   \n",
       "3     210  ...       235       234       233       231       230       226   \n",
       "4     185  ...        92       105       105       108       133       163   \n",
       "\n",
       "   pixel781  pixel782  pixel783  pixel784  \n",
       "0       206       204       203       202  \n",
       "1       175       103       135       149  \n",
       "2       198       195       194       195  \n",
       "3       225       222       229       163  \n",
       "4       157       163       164       179  \n",
       "\n",
       "[5 rows x 785 columns]"
      ]
     },
     "execution_count": 2,
     "metadata": {},
     "output_type": "execute_result"
    }
   ],
   "source": [
    "# Reading train and test dataset\n",
    "train = pd.read_csv(\"sign_mnist_train.csv\")\n",
    "test = pd.read_csv(\"sign_mnist_test.csv\")\n",
    "\n",
    "# printing first five rows of the train data \n",
    "train.head()"
   ]
  },
  {
   "cell_type": "code",
   "execution_count": 3,
   "metadata": {},
   "outputs": [],
   "source": [
    "# a class to decribe the dataset\n",
    "class Describer:\n",
    "\n",
    "    #initialize an object\n",
    "    def __init__(self, df):\n",
    "        self.df = df\n",
    " \n",
    "    #checking the shape of the data\n",
    "    def shape(self, name):\n",
    "        return print(f\"The {name} dataset has {self.df.shape[0]} entries and {self.df.shape[1]} columns\")"
   ]
  },
  {
   "cell_type": "code",
   "execution_count": 4,
   "metadata": {},
   "outputs": [
    {
     "name": "stdout",
     "output_type": "stream",
     "text": [
      "The train dataset has 27455 entries and 785 columns\n"
     ]
    }
   ],
   "source": [
    "#Viewing the shape of the train dataset\n",
    "data = Describer(train)\n",
    "data.shape(\"train\")"
   ]
  },
  {
   "cell_type": "code",
   "execution_count": 5,
   "metadata": {},
   "outputs": [
    {
     "name": "stdout",
     "output_type": "stream",
     "text": [
      "The test dataset has 7172 entries and 785 columns\n"
     ]
    }
   ],
   "source": [
    "#Viewing the shape of the test dataset\n",
    "data = Describer(test)\n",
    "data.shape(\"test\")"
   ]
  },
  {
   "cell_type": "code",
   "execution_count": 6,
   "metadata": {},
   "outputs": [
    {
     "data": {
      "text/plain": [
       "Index(['label', 'pixel1', 'pixel2', 'pixel3', 'pixel4', 'pixel5', 'pixel6',\n",
       "       'pixel7', 'pixel8', 'pixel9',\n",
       "       ...\n",
       "       'pixel775', 'pixel776', 'pixel777', 'pixel778', 'pixel779', 'pixel780',\n",
       "       'pixel781', 'pixel782', 'pixel783', 'pixel784'],\n",
       "      dtype='object', length=785)"
      ]
     },
     "execution_count": 6,
     "metadata": {},
     "output_type": "execute_result"
    }
   ],
   "source": [
    "# Displaying the column names\n",
    "train.columns"
   ]
  },
  {
   "attachments": {},
   "cell_type": "markdown",
   "metadata": {},
   "source": [
    "* The pixel columns represent the pixel intensity of an image and the label column represents what letter the image stands for from 0-23."
   ]
  },
  {
   "cell_type": "code",
   "execution_count": 7,
   "metadata": {},
   "outputs": [
    {
     "name": "stdout",
     "output_type": "stream",
     "text": [
      "Found 379 images belonging to 24 classes.\n"
     ]
    }
   ],
   "source": [
    "# reading the collected raw images\n",
    "train_generator = ImageDataGenerator().flow_from_directory(\"train\", target_size=(28,28),\n",
    "                                                           batch_size=400)"
   ]
  },
  {
   "cell_type": "code",
   "execution_count": 8,
   "metadata": {},
   "outputs": [],
   "source": [
    "#Getting all images and labels\n",
    "train_images, train_labels = next(train_generator)"
   ]
  },
  {
   "cell_type": "code",
   "execution_count": 9,
   "metadata": {},
   "outputs": [],
   "source": [
    "#Flattening images into lists of pixels\n",
    "images_list = []\n",
    "for img_array in train_images:\n",
    "    gray = cv2.cvtColor(img_array, cv2.COLOR_BGR2GRAY)\n",
    "    gray = np.expand_dims(gray, 2)\n",
    "    images_list.append(gray.reshape(-1, 784).flatten().tolist())"
   ]
  },
  {
   "cell_type": "code",
   "execution_count": 10,
   "metadata": {},
   "outputs": [
    {
     "data": {
      "text/html": [
       "<div>\n",
       "<style scoped>\n",
       "    .dataframe tbody tr th:only-of-type {\n",
       "        vertical-align: middle;\n",
       "    }\n",
       "\n",
       "    .dataframe tbody tr th {\n",
       "        vertical-align: top;\n",
       "    }\n",
       "\n",
       "    .dataframe thead th {\n",
       "        text-align: right;\n",
       "    }\n",
       "</style>\n",
       "<table border=\"1\" class=\"dataframe\">\n",
       "  <thead>\n",
       "    <tr style=\"text-align: right;\">\n",
       "      <th></th>\n",
       "      <th>0</th>\n",
       "      <th>1</th>\n",
       "      <th>2</th>\n",
       "      <th>3</th>\n",
       "      <th>4</th>\n",
       "      <th>5</th>\n",
       "      <th>6</th>\n",
       "      <th>7</th>\n",
       "      <th>8</th>\n",
       "      <th>9</th>\n",
       "      <th>...</th>\n",
       "      <th>774</th>\n",
       "      <th>775</th>\n",
       "      <th>776</th>\n",
       "      <th>777</th>\n",
       "      <th>778</th>\n",
       "      <th>779</th>\n",
       "      <th>780</th>\n",
       "      <th>781</th>\n",
       "      <th>782</th>\n",
       "      <th>783</th>\n",
       "    </tr>\n",
       "  </thead>\n",
       "  <tbody>\n",
       "    <tr>\n",
       "      <th>0</th>\n",
       "      <td>159.167007</td>\n",
       "      <td>160.167007</td>\n",
       "      <td>160.764999</td>\n",
       "      <td>160.764999</td>\n",
       "      <td>161.776001</td>\n",
       "      <td>161.776001</td>\n",
       "      <td>162.559006</td>\n",
       "      <td>162.559006</td>\n",
       "      <td>153.755005</td>\n",
       "      <td>147.755005</td>\n",
       "      <td>...</td>\n",
       "      <td>113.000008</td>\n",
       "      <td>115.000008</td>\n",
       "      <td>127.515999</td>\n",
       "      <td>116.516006</td>\n",
       "      <td>128.559006</td>\n",
       "      <td>130.559006</td>\n",
       "      <td>132.374008</td>\n",
       "      <td>132.374008</td>\n",
       "      <td>133.003998</td>\n",
       "      <td>133.003998</td>\n",
       "    </tr>\n",
       "    <tr>\n",
       "      <th>1</th>\n",
       "      <td>67.872002</td>\n",
       "      <td>68.231003</td>\n",
       "      <td>69.014000</td>\n",
       "      <td>69.857002</td>\n",
       "      <td>70.639999</td>\n",
       "      <td>71.493996</td>\n",
       "      <td>72.565002</td>\n",
       "      <td>72.636002</td>\n",
       "      <td>79.234001</td>\n",
       "      <td>77.636002</td>\n",
       "      <td>...</td>\n",
       "      <td>86.879997</td>\n",
       "      <td>94.125000</td>\n",
       "      <td>98.082001</td>\n",
       "      <td>93.327003</td>\n",
       "      <td>96.985008</td>\n",
       "      <td>108.458008</td>\n",
       "      <td>95.942001</td>\n",
       "      <td>106.942001</td>\n",
       "      <td>122.067001</td>\n",
       "      <td>133.067001</td>\n",
       "    </tr>\n",
       "    <tr>\n",
       "      <th>2</th>\n",
       "      <td>160.106003</td>\n",
       "      <td>147.578995</td>\n",
       "      <td>137.052002</td>\n",
       "      <td>137.296997</td>\n",
       "      <td>148.367996</td>\n",
       "      <td>158.314011</td>\n",
       "      <td>157.673004</td>\n",
       "      <td>152.559006</td>\n",
       "      <td>144.516006</td>\n",
       "      <td>146.516006</td>\n",
       "      <td>...</td>\n",
       "      <td>144.565002</td>\n",
       "      <td>146.565002</td>\n",
       "      <td>146.276993</td>\n",
       "      <td>144.277008</td>\n",
       "      <td>143.875000</td>\n",
       "      <td>141.875000</td>\n",
       "      <td>140.472992</td>\n",
       "      <td>142.472992</td>\n",
       "      <td>144.843002</td>\n",
       "      <td>146.843002</td>\n",
       "    </tr>\n",
       "    <tr>\n",
       "      <th>3</th>\n",
       "      <td>163.214996</td>\n",
       "      <td>163.214996</td>\n",
       "      <td>162.214996</td>\n",
       "      <td>162.214996</td>\n",
       "      <td>164.688004</td>\n",
       "      <td>166.687988</td>\n",
       "      <td>169.688004</td>\n",
       "      <td>170.688004</td>\n",
       "      <td>166.459991</td>\n",
       "      <td>175.460007</td>\n",
       "      <td>...</td>\n",
       "      <td>160.248993</td>\n",
       "      <td>157.249008</td>\n",
       "      <td>152.764999</td>\n",
       "      <td>148.764999</td>\n",
       "      <td>145.807999</td>\n",
       "      <td>145.807999</td>\n",
       "      <td>150.623001</td>\n",
       "      <td>151.623001</td>\n",
       "      <td>152.552002</td>\n",
       "      <td>153.552002</td>\n",
       "    </tr>\n",
       "    <tr>\n",
       "      <th>4</th>\n",
       "      <td>193.039001</td>\n",
       "      <td>194.039001</td>\n",
       "      <td>196.512009</td>\n",
       "      <td>198.511993</td>\n",
       "      <td>201.996002</td>\n",
       "      <td>203.996002</td>\n",
       "      <td>205.354996</td>\n",
       "      <td>206.828003</td>\n",
       "      <td>207.828003</td>\n",
       "      <td>214.187012</td>\n",
       "      <td>...</td>\n",
       "      <td>45.368000</td>\n",
       "      <td>38.215000</td>\n",
       "      <td>44.827999</td>\n",
       "      <td>50.077000</td>\n",
       "      <td>159.679001</td>\n",
       "      <td>190.526001</td>\n",
       "      <td>182.612000</td>\n",
       "      <td>182.942993</td>\n",
       "      <td>183.584000</td>\n",
       "      <td>184.985992</td>\n",
       "    </tr>\n",
       "  </tbody>\n",
       "</table>\n",
       "<p>5 rows × 784 columns</p>\n",
       "</div>"
      ],
      "text/plain": [
       "          0           1           2           3           4           5    \\\n",
       "0  159.167007  160.167007  160.764999  160.764999  161.776001  161.776001   \n",
       "1   67.872002   68.231003   69.014000   69.857002   70.639999   71.493996   \n",
       "2  160.106003  147.578995  137.052002  137.296997  148.367996  158.314011   \n",
       "3  163.214996  163.214996  162.214996  162.214996  164.688004  166.687988   \n",
       "4  193.039001  194.039001  196.512009  198.511993  201.996002  203.996002   \n",
       "\n",
       "          6           7           8           9    ...         774  \\\n",
       "0  162.559006  162.559006  153.755005  147.755005  ...  113.000008   \n",
       "1   72.565002   72.636002   79.234001   77.636002  ...   86.879997   \n",
       "2  157.673004  152.559006  144.516006  146.516006  ...  144.565002   \n",
       "3  169.688004  170.688004  166.459991  175.460007  ...  160.248993   \n",
       "4  205.354996  206.828003  207.828003  214.187012  ...   45.368000   \n",
       "\n",
       "          775         776         777         778         779         780  \\\n",
       "0  115.000008  127.515999  116.516006  128.559006  130.559006  132.374008   \n",
       "1   94.125000   98.082001   93.327003   96.985008  108.458008   95.942001   \n",
       "2  146.565002  146.276993  144.277008  143.875000  141.875000  140.472992   \n",
       "3  157.249008  152.764999  148.764999  145.807999  145.807999  150.623001   \n",
       "4   38.215000   44.827999   50.077000  159.679001  190.526001  182.612000   \n",
       "\n",
       "          781         782         783  \n",
       "0  132.374008  133.003998  133.003998  \n",
       "1  106.942001  122.067001  133.067001  \n",
       "2  142.472992  144.843002  146.843002  \n",
       "3  151.623001  152.552002  153.552002  \n",
       "4  182.942993  183.584000  184.985992  \n",
       "\n",
       "[5 rows x 784 columns]"
      ]
     },
     "execution_count": 10,
     "metadata": {},
     "output_type": "execute_result"
    }
   ],
   "source": [
    "#converting the images to a DataFrame\n",
    "raw_img_df = pd.DataFrame(images_list)\n",
    "raw_img_df.head()"
   ]
  },
  {
   "cell_type": "code",
   "execution_count": 11,
   "metadata": {},
   "outputs": [],
   "source": [
    "# Generating the labels\n",
    "train_labels = pd.Series([np.argmax(label) for label in train_labels])"
   ]
  },
  {
   "cell_type": "code",
   "execution_count": 12,
   "metadata": {},
   "outputs": [
    {
     "data": {
      "text/html": [
       "<div>\n",
       "<style scoped>\n",
       "    .dataframe tbody tr th:only-of-type {\n",
       "        vertical-align: middle;\n",
       "    }\n",
       "\n",
       "    .dataframe tbody tr th {\n",
       "        vertical-align: top;\n",
       "    }\n",
       "\n",
       "    .dataframe thead th {\n",
       "        text-align: right;\n",
       "    }\n",
       "</style>\n",
       "<table border=\"1\" class=\"dataframe\">\n",
       "  <thead>\n",
       "    <tr style=\"text-align: right;\">\n",
       "      <th></th>\n",
       "      <th>label</th>\n",
       "      <th>pixel1</th>\n",
       "      <th>pixel2</th>\n",
       "      <th>pixel3</th>\n",
       "      <th>pixel4</th>\n",
       "      <th>pixel5</th>\n",
       "      <th>pixel6</th>\n",
       "      <th>pixel7</th>\n",
       "      <th>pixel8</th>\n",
       "      <th>pixel9</th>\n",
       "      <th>...</th>\n",
       "      <th>pixel775</th>\n",
       "      <th>pixel776</th>\n",
       "      <th>pixel777</th>\n",
       "      <th>pixel778</th>\n",
       "      <th>pixel779</th>\n",
       "      <th>pixel780</th>\n",
       "      <th>pixel781</th>\n",
       "      <th>pixel782</th>\n",
       "      <th>pixel783</th>\n",
       "      <th>pixel784</th>\n",
       "    </tr>\n",
       "  </thead>\n",
       "  <tbody>\n",
       "    <tr>\n",
       "      <th>0</th>\n",
       "      <td>17</td>\n",
       "      <td>159.167007</td>\n",
       "      <td>160.167007</td>\n",
       "      <td>160.764999</td>\n",
       "      <td>160.764999</td>\n",
       "      <td>161.776001</td>\n",
       "      <td>161.776001</td>\n",
       "      <td>162.559006</td>\n",
       "      <td>162.559006</td>\n",
       "      <td>153.755005</td>\n",
       "      <td>...</td>\n",
       "      <td>113.000008</td>\n",
       "      <td>115.000008</td>\n",
       "      <td>127.515999</td>\n",
       "      <td>116.516006</td>\n",
       "      <td>128.559006</td>\n",
       "      <td>130.559006</td>\n",
       "      <td>132.374008</td>\n",
       "      <td>132.374008</td>\n",
       "      <td>133.003998</td>\n",
       "      <td>133.003998</td>\n",
       "    </tr>\n",
       "    <tr>\n",
       "      <th>1</th>\n",
       "      <td>1</td>\n",
       "      <td>67.872002</td>\n",
       "      <td>68.231003</td>\n",
       "      <td>69.014000</td>\n",
       "      <td>69.857002</td>\n",
       "      <td>70.639999</td>\n",
       "      <td>71.493996</td>\n",
       "      <td>72.565002</td>\n",
       "      <td>72.636002</td>\n",
       "      <td>79.234001</td>\n",
       "      <td>...</td>\n",
       "      <td>86.879997</td>\n",
       "      <td>94.125000</td>\n",
       "      <td>98.082001</td>\n",
       "      <td>93.327003</td>\n",
       "      <td>96.985008</td>\n",
       "      <td>108.458008</td>\n",
       "      <td>95.942001</td>\n",
       "      <td>106.942001</td>\n",
       "      <td>122.067001</td>\n",
       "      <td>133.067001</td>\n",
       "    </tr>\n",
       "    <tr>\n",
       "      <th>2</th>\n",
       "      <td>10</td>\n",
       "      <td>160.106003</td>\n",
       "      <td>147.578995</td>\n",
       "      <td>137.052002</td>\n",
       "      <td>137.296997</td>\n",
       "      <td>148.367996</td>\n",
       "      <td>158.314011</td>\n",
       "      <td>157.673004</td>\n",
       "      <td>152.559006</td>\n",
       "      <td>144.516006</td>\n",
       "      <td>...</td>\n",
       "      <td>144.565002</td>\n",
       "      <td>146.565002</td>\n",
       "      <td>146.276993</td>\n",
       "      <td>144.277008</td>\n",
       "      <td>143.875000</td>\n",
       "      <td>141.875000</td>\n",
       "      <td>140.472992</td>\n",
       "      <td>142.472992</td>\n",
       "      <td>144.843002</td>\n",
       "      <td>146.843002</td>\n",
       "    </tr>\n",
       "    <tr>\n",
       "      <th>3</th>\n",
       "      <td>2</td>\n",
       "      <td>163.214996</td>\n",
       "      <td>163.214996</td>\n",
       "      <td>162.214996</td>\n",
       "      <td>162.214996</td>\n",
       "      <td>164.688004</td>\n",
       "      <td>166.687988</td>\n",
       "      <td>169.688004</td>\n",
       "      <td>170.688004</td>\n",
       "      <td>166.459991</td>\n",
       "      <td>...</td>\n",
       "      <td>160.248993</td>\n",
       "      <td>157.249008</td>\n",
       "      <td>152.764999</td>\n",
       "      <td>148.764999</td>\n",
       "      <td>145.807999</td>\n",
       "      <td>145.807999</td>\n",
       "      <td>150.623001</td>\n",
       "      <td>151.623001</td>\n",
       "      <td>152.552002</td>\n",
       "      <td>153.552002</td>\n",
       "    </tr>\n",
       "    <tr>\n",
       "      <th>4</th>\n",
       "      <td>21</td>\n",
       "      <td>193.039001</td>\n",
       "      <td>194.039001</td>\n",
       "      <td>196.512009</td>\n",
       "      <td>198.511993</td>\n",
       "      <td>201.996002</td>\n",
       "      <td>203.996002</td>\n",
       "      <td>205.354996</td>\n",
       "      <td>206.828003</td>\n",
       "      <td>207.828003</td>\n",
       "      <td>...</td>\n",
       "      <td>45.368000</td>\n",
       "      <td>38.215000</td>\n",
       "      <td>44.827999</td>\n",
       "      <td>50.077000</td>\n",
       "      <td>159.679001</td>\n",
       "      <td>190.526001</td>\n",
       "      <td>182.612000</td>\n",
       "      <td>182.942993</td>\n",
       "      <td>183.584000</td>\n",
       "      <td>184.985992</td>\n",
       "    </tr>\n",
       "  </tbody>\n",
       "</table>\n",
       "<p>5 rows × 785 columns</p>\n",
       "</div>"
      ],
      "text/plain": [
       "   label      pixel1      pixel2      pixel3      pixel4      pixel5  \\\n",
       "0     17  159.167007  160.167007  160.764999  160.764999  161.776001   \n",
       "1      1   67.872002   68.231003   69.014000   69.857002   70.639999   \n",
       "2     10  160.106003  147.578995  137.052002  137.296997  148.367996   \n",
       "3      2  163.214996  163.214996  162.214996  162.214996  164.688004   \n",
       "4     21  193.039001  194.039001  196.512009  198.511993  201.996002   \n",
       "\n",
       "       pixel6      pixel7      pixel8      pixel9  ...    pixel775  \\\n",
       "0  161.776001  162.559006  162.559006  153.755005  ...  113.000008   \n",
       "1   71.493996   72.565002   72.636002   79.234001  ...   86.879997   \n",
       "2  158.314011  157.673004  152.559006  144.516006  ...  144.565002   \n",
       "3  166.687988  169.688004  170.688004  166.459991  ...  160.248993   \n",
       "4  203.996002  205.354996  206.828003  207.828003  ...   45.368000   \n",
       "\n",
       "     pixel776    pixel777    pixel778    pixel779    pixel780    pixel781  \\\n",
       "0  115.000008  127.515999  116.516006  128.559006  130.559006  132.374008   \n",
       "1   94.125000   98.082001   93.327003   96.985008  108.458008   95.942001   \n",
       "2  146.565002  146.276993  144.277008  143.875000  141.875000  140.472992   \n",
       "3  157.249008  152.764999  148.764999  145.807999  145.807999  150.623001   \n",
       "4   38.215000   44.827999   50.077000  159.679001  190.526001  182.612000   \n",
       "\n",
       "     pixel782    pixel783    pixel784  \n",
       "0  132.374008  133.003998  133.003998  \n",
       "1  106.942001  122.067001  133.067001  \n",
       "2  142.472992  144.843002  146.843002  \n",
       "3  151.623001  152.552002  153.552002  \n",
       "4  182.942993  183.584000  184.985992  \n",
       "\n",
       "[5 rows x 785 columns]"
      ]
     },
     "execution_count": 12,
     "metadata": {},
     "output_type": "execute_result"
    }
   ],
   "source": [
    "# Concatenating the labels and the raw picture dataframe\n",
    "raw_df = pd.concat([train_labels, raw_img_df], axis=1)\n",
    "raw_df.columns = train.columns\n",
    "\n",
    "#Displaying the first 5 rows of the raw images dataframe\n",
    "raw_df.head()"
   ]
  },
  {
   "attachments": {},
   "cell_type": "markdown",
   "metadata": {},
   "source": [
    "#### Combining Datasets\n",
    "The kaggle dataset labels are from 0-24 with 9 and 25 missing which represent the j and z letters that have been excluded but the raw dataset labels are from 0-23. For the two datasets to be merged, the labels should be similar."
   ]
  },
  {
   "cell_type": "code",
   "execution_count": 13,
   "metadata": {},
   "outputs": [],
   "source": [
    "# mapping the labels into correct labels\n",
    "mapping_dict = {0: 0, 1: 1, 2: 2, 3: 3, 4: 4, 5: 5, 6: 6, 7: 7, 8: 8, 10: 9, 11: 10,\n",
    "                12: 11, 13: 12, 14: 13, 15: 14, 16: 15, 17: 16, 18: 17, 19: 18, 20: 19,\n",
    "                21: 20, 22: 21, 23: 22, 24: 23}\n",
    "\n",
    "train[\"label\"] = train[\"label\"].map(mapping_dict)\n",
    "test[\"label\"] = test[\"label\"].map(mapping_dict)"
   ]
  },
  {
   "cell_type": "code",
   "execution_count": 14,
   "metadata": {},
   "outputs": [
    {
     "data": {
      "text/html": [
       "<div>\n",
       "<style scoped>\n",
       "    .dataframe tbody tr th:only-of-type {\n",
       "        vertical-align: middle;\n",
       "    }\n",
       "\n",
       "    .dataframe tbody tr th {\n",
       "        vertical-align: top;\n",
       "    }\n",
       "\n",
       "    .dataframe thead th {\n",
       "        text-align: right;\n",
       "    }\n",
       "</style>\n",
       "<table border=\"1\" class=\"dataframe\">\n",
       "  <thead>\n",
       "    <tr style=\"text-align: right;\">\n",
       "      <th></th>\n",
       "      <th>label</th>\n",
       "      <th>pixel1</th>\n",
       "      <th>pixel2</th>\n",
       "      <th>pixel3</th>\n",
       "      <th>pixel4</th>\n",
       "      <th>pixel5</th>\n",
       "      <th>pixel6</th>\n",
       "      <th>pixel7</th>\n",
       "      <th>pixel8</th>\n",
       "      <th>pixel9</th>\n",
       "      <th>...</th>\n",
       "      <th>pixel775</th>\n",
       "      <th>pixel776</th>\n",
       "      <th>pixel777</th>\n",
       "      <th>pixel778</th>\n",
       "      <th>pixel779</th>\n",
       "      <th>pixel780</th>\n",
       "      <th>pixel781</th>\n",
       "      <th>pixel782</th>\n",
       "      <th>pixel783</th>\n",
       "      <th>pixel784</th>\n",
       "    </tr>\n",
       "  </thead>\n",
       "  <tbody>\n",
       "    <tr>\n",
       "      <th>0</th>\n",
       "      <td>3</td>\n",
       "      <td>107.0</td>\n",
       "      <td>118.0</td>\n",
       "      <td>127.0</td>\n",
       "      <td>134.0</td>\n",
       "      <td>139.0</td>\n",
       "      <td>143.0</td>\n",
       "      <td>146.0</td>\n",
       "      <td>150.0</td>\n",
       "      <td>153.0</td>\n",
       "      <td>...</td>\n",
       "      <td>207.0</td>\n",
       "      <td>207.0</td>\n",
       "      <td>207.0</td>\n",
       "      <td>207.0</td>\n",
       "      <td>206.0</td>\n",
       "      <td>206.0</td>\n",
       "      <td>206.0</td>\n",
       "      <td>204.0</td>\n",
       "      <td>203.0</td>\n",
       "      <td>202.0</td>\n",
       "    </tr>\n",
       "    <tr>\n",
       "      <th>1</th>\n",
       "      <td>6</td>\n",
       "      <td>155.0</td>\n",
       "      <td>157.0</td>\n",
       "      <td>156.0</td>\n",
       "      <td>156.0</td>\n",
       "      <td>156.0</td>\n",
       "      <td>157.0</td>\n",
       "      <td>156.0</td>\n",
       "      <td>158.0</td>\n",
       "      <td>158.0</td>\n",
       "      <td>...</td>\n",
       "      <td>69.0</td>\n",
       "      <td>149.0</td>\n",
       "      <td>128.0</td>\n",
       "      <td>87.0</td>\n",
       "      <td>94.0</td>\n",
       "      <td>163.0</td>\n",
       "      <td>175.0</td>\n",
       "      <td>103.0</td>\n",
       "      <td>135.0</td>\n",
       "      <td>149.0</td>\n",
       "    </tr>\n",
       "    <tr>\n",
       "      <th>2</th>\n",
       "      <td>2</td>\n",
       "      <td>187.0</td>\n",
       "      <td>188.0</td>\n",
       "      <td>188.0</td>\n",
       "      <td>187.0</td>\n",
       "      <td>187.0</td>\n",
       "      <td>186.0</td>\n",
       "      <td>187.0</td>\n",
       "      <td>188.0</td>\n",
       "      <td>187.0</td>\n",
       "      <td>...</td>\n",
       "      <td>202.0</td>\n",
       "      <td>201.0</td>\n",
       "      <td>200.0</td>\n",
       "      <td>199.0</td>\n",
       "      <td>198.0</td>\n",
       "      <td>199.0</td>\n",
       "      <td>198.0</td>\n",
       "      <td>195.0</td>\n",
       "      <td>194.0</td>\n",
       "      <td>195.0</td>\n",
       "    </tr>\n",
       "    <tr>\n",
       "      <th>3</th>\n",
       "      <td>2</td>\n",
       "      <td>211.0</td>\n",
       "      <td>211.0</td>\n",
       "      <td>212.0</td>\n",
       "      <td>212.0</td>\n",
       "      <td>211.0</td>\n",
       "      <td>210.0</td>\n",
       "      <td>211.0</td>\n",
       "      <td>210.0</td>\n",
       "      <td>210.0</td>\n",
       "      <td>...</td>\n",
       "      <td>235.0</td>\n",
       "      <td>234.0</td>\n",
       "      <td>233.0</td>\n",
       "      <td>231.0</td>\n",
       "      <td>230.0</td>\n",
       "      <td>226.0</td>\n",
       "      <td>225.0</td>\n",
       "      <td>222.0</td>\n",
       "      <td>229.0</td>\n",
       "      <td>163.0</td>\n",
       "    </tr>\n",
       "    <tr>\n",
       "      <th>4</th>\n",
       "      <td>12</td>\n",
       "      <td>164.0</td>\n",
       "      <td>167.0</td>\n",
       "      <td>170.0</td>\n",
       "      <td>172.0</td>\n",
       "      <td>176.0</td>\n",
       "      <td>179.0</td>\n",
       "      <td>180.0</td>\n",
       "      <td>184.0</td>\n",
       "      <td>185.0</td>\n",
       "      <td>...</td>\n",
       "      <td>92.0</td>\n",
       "      <td>105.0</td>\n",
       "      <td>105.0</td>\n",
       "      <td>108.0</td>\n",
       "      <td>133.0</td>\n",
       "      <td>163.0</td>\n",
       "      <td>157.0</td>\n",
       "      <td>163.0</td>\n",
       "      <td>164.0</td>\n",
       "      <td>179.0</td>\n",
       "    </tr>\n",
       "  </tbody>\n",
       "</table>\n",
       "<p>5 rows × 785 columns</p>\n",
       "</div>"
      ],
      "text/plain": [
       "   label  pixel1  pixel2  pixel3  pixel4  pixel5  pixel6  pixel7  pixel8  \\\n",
       "0      3   107.0   118.0   127.0   134.0   139.0   143.0   146.0   150.0   \n",
       "1      6   155.0   157.0   156.0   156.0   156.0   157.0   156.0   158.0   \n",
       "2      2   187.0   188.0   188.0   187.0   187.0   186.0   187.0   188.0   \n",
       "3      2   211.0   211.0   212.0   212.0   211.0   210.0   211.0   210.0   \n",
       "4     12   164.0   167.0   170.0   172.0   176.0   179.0   180.0   184.0   \n",
       "\n",
       "   pixel9  ...  pixel775  pixel776  pixel777  pixel778  pixel779  pixel780  \\\n",
       "0   153.0  ...     207.0     207.0     207.0     207.0     206.0     206.0   \n",
       "1   158.0  ...      69.0     149.0     128.0      87.0      94.0     163.0   \n",
       "2   187.0  ...     202.0     201.0     200.0     199.0     198.0     199.0   \n",
       "3   210.0  ...     235.0     234.0     233.0     231.0     230.0     226.0   \n",
       "4   185.0  ...      92.0     105.0     105.0     108.0     133.0     163.0   \n",
       "\n",
       "   pixel781  pixel782  pixel783  pixel784  \n",
       "0     206.0     204.0     203.0     202.0  \n",
       "1     175.0     103.0     135.0     149.0  \n",
       "2     198.0     195.0     194.0     195.0  \n",
       "3     225.0     222.0     229.0     163.0  \n",
       "4     157.0     163.0     164.0     179.0  \n",
       "\n",
       "[5 rows x 785 columns]"
      ]
     },
     "execution_count": 14,
     "metadata": {},
     "output_type": "execute_result"
    }
   ],
   "source": [
    "# Concatenating the collected images and the train dataset\n",
    "train = pd.concat([train, raw_df])\n",
    "train.reset_index(drop=True, inplace=True)\n",
    "\n",
    "# Displaying the first five rows\n",
    "train.head()"
   ]
  },
  {
   "cell_type": "code",
   "execution_count": 15,
   "metadata": {},
   "outputs": [
    {
     "data": {
      "text/plain": [
       "3"
      ]
     },
     "execution_count": 15,
     "metadata": {},
     "output_type": "execute_result"
    }
   ],
   "source": [
    "# Checking for duplicates\n",
    "train.duplicated().sum()"
   ]
  },
  {
   "cell_type": "code",
   "execution_count": 16,
   "metadata": {},
   "outputs": [],
   "source": [
    "# Dropping duplicated rows\n",
    "train.drop_duplicates(inplace=True)"
   ]
  },
  {
   "attachments": {},
   "cell_type": "markdown",
   "metadata": {},
   "source": [
    "### EDA"
   ]
  },
  {
   "cell_type": "code",
   "execution_count": 17,
   "metadata": {},
   "outputs": [
    {
     "data": {
      "image/png": "[encoded data removed]",
      "text/plain": [
       "<Figure size 800x1000 with 10 Axes>"
      ]
     },
     "metadata": {},
     "output_type": "display_data"
    }
   ],
   "source": [
    "#displaying images\n",
    "# Extract pixel values and labels\n",
    "pixel_columns = train.columns[1:]  # Exclude the label column\n",
    "pixel_values = train[pixel_columns].values\n",
    "labels = train['label'].values\n",
    "\n",
    "# Display images\n",
    "fig, axes = plt.subplots(5, 2, figsize=(8, 10))\n",
    "fig.tight_layout()\n",
    "\n",
    "# Display images\n",
    "for i in range(10):\n",
    "    row = i // 2  # Calculate the row index\n",
    "    col = i % 2   # Calculate the column index\n",
    "    pixel_array = pixel_values[i].reshape(28, 28)  # Assuming the original image size is 28x28\n",
    "    # Display image on the corresponding subplot\n",
    "    axes[row, col].imshow(pixel_array, cmap='gray')\n",
    "    axes[row, col].set_title('Label: ' + str(labels[i]))\n",
    "    axes[row, col].axis('off')\n",
    "    \n",
    "# Show the plot\n",
    "plt.show()"
   ]
  },
  {
   "cell_type": "code",
   "execution_count": 18,
   "metadata": {},
   "outputs": [
    {
     "data": {
      "image/png": "[encoded data removed]",
      "text/plain": [
       "<Figure size 800x1000 with 10 Axes>"
      ]
     },
     "metadata": {},
     "output_type": "display_data"
    }
   ],
   "source": [
    "# Displaying the last 10 images\n",
    "pixel_columns = train.columns[1:]  # Exclude the label column\n",
    "pixel_values = train[pixel_columns].values\n",
    "labels = train['label'].values\n",
    "\n",
    "# Get the last 10 images\n",
    "last_10_images = pixel_values[-10:]\n",
    "last_10_labels = labels[-10:]\n",
    "\n",
    "# Create subplots\n",
    "fig, axes = plt.subplots(nrows=5, ncols=2, figsize=(8, 10))\n",
    "\n",
    "# Display images\n",
    "for i, ax in enumerate(axes.flat):\n",
    "    pixel_array = last_10_images[i].reshape(28, 28)  # Assuming the original image size is 28x28\n",
    "    ax.imshow(pixel_array, cmap='gray')\n",
    "    ax.set_title('Label: ' + str(last_10_labels[i]))\n",
    "    ax.axis('off')\n",
    "plt.tight_layout()\n",
    "plt.show()"
   ]
  },
  {
   "cell_type": "code",
   "execution_count": 19,
   "metadata": {},
   "outputs": [
    {
     "data": {
      "image/png": "[encoded data removed]",
      "text/plain": [
       "<Figure size 640x480 with 1 Axes>"
      ]
     },
     "metadata": {},
     "output_type": "display_data"
    }
   ],
   "source": [
    "\n",
    "# Distribution of the labels column train dataset\n",
    "def check_distribution(data, col, name):\n",
    "  sns.countplot(data=data, x=col, color=\"blue\")\n",
    "  plt.xlabel('labels')\n",
    "  plt.ylabel('proportion')\n",
    "  plt.title(f\"Frequency Distribution of Alphabets {(name)}\")\n",
    "  plt.show();\n",
    "\n",
    "check_distribution(train, 'label', \"train\")"
   ]
  },
  {
   "attachments": {},
   "cell_type": "markdown",
   "metadata": {},
   "source": [
    "*  In the analysis conducted, it was found that the label column exhibits a fairly distributed class distribution with no notable class imbalances. All classes display similar proportions, indicating a well-balanced dataset. This characteristic ensures that the model will have an equal opportunity to learn from and make accurate predictions across all classes."
   ]
  },
  {
   "cell_type": "code",
   "execution_count": 20,
   "metadata": {},
   "outputs": [
    {
     "data": {
      "image/png": "[encoded data removed]",
      "text/plain": [
       "<Figure size 640x480 with 1 Axes>"
      ]
     },
     "metadata": {},
     "output_type": "display_data"
    }
   ],
   "source": [
    "\n",
    "# Distribution of the labels column test dataset\n",
    "check_distribution(test, 'label', \"test\")"
   ]
  },
  {
   "attachments": {},
   "cell_type": "markdown",
   "metadata": {},
   "source": [
    "### MODELLING"
   ]
  },
  {
   "cell_type": "code",
   "execution_count": 21,
   "metadata": {},
   "outputs": [],
   "source": [
    "# Splitting the train and test datasets\n",
    "train_X = train.iloc[:, 1:]\n",
    "train_y = train.label\n",
    "\n",
    "test_X = test.iloc[:, 1:]\n",
    "test_y = test.label"
   ]
  },
  {
   "cell_type": "code",
   "execution_count": 22,
   "metadata": {},
   "outputs": [],
   "source": [
    "#onehot encoding the train and test labels\n",
    "train_y = to_categorical(train_y)\n",
    "test_y = to_categorical(test_y)"
   ]
  },
  {
   "cell_type": "code",
   "execution_count": 23,
   "metadata": {},
   "outputs": [],
   "source": [
    "# Normalizing our train and test data\n",
    "train_X /= 255\n",
    "test_X /= 255"
   ]
  },
  {
   "attachments": {},
   "cell_type": "markdown",
   "metadata": {},
   "source": [
    "#### Baseline Model (Densely connected model)"
   ]
  },
  {
   "cell_type": "code",
   "execution_count": null,
   "metadata": {},
   "outputs": [],
   "source": [
    "# from tensorflow.keras.wrappers.scikit_learn import KerasClassifier\n",
    "# def create_model():\n",
    "#     model = Sequential()\n",
    "#     model.add(layers.Dense(64, activation='relu', input_shape=(784,)))\n",
    "#     model.add(layers.Dense(32, activation=\"relu\"))\n",
    "#     model.add(layers.Dense(24, activation='softmax'))\n",
    "#     model.compile(optimizer='sgd', loss='categorical_crossentropy', metrics=['accuracy'])\n",
    "#     return model\n",
    "\n",
    "# # Create a KerasClassifier wrapper for scikit-learn compatibility\n",
    "# model = KerasClassifier(build_fn=create_model)"
   ]
  },
  {
   "cell_type": "code",
   "execution_count": null,
   "metadata": {},
   "outputs": [],
   "source": [
    "# # Define the hyperparameter grid\n",
    "# from sklearn.model_selection import GridSearchCV, KFold\n",
    "\n",
    "# param_grid = {\n",
    "#     'epochs': [150, 200, 250],       # Specify different epoch values to evaluate\n",
    "#     'batch_size': [100, 150, 200]    # Specify different batch size values to evaluate\n",
    "# }\n",
    "\n",
    "# # Perform grid search with cross-validation\n",
    "# kfold = KFold(n_splits=3, shuffle=True)  # Adjust the number of splits as needed\n",
    "# baseline_grid = GridSearchCV(estimator=model, param_grid=param_grid, cv=kfold, verbose=1,\n",
    "#                              scoring=\"accuracy\")\n",
    "# baseline_grid_result = baseline_grid.fit(train_X, train_y)\n",
    "\n",
    "# #Best Params\n",
    "# print(\"Best Parameters:\")\n",
    "# print(baseline_grid_result.best_params_)\n",
    "# print()\n",
    "# print(baseline_grid_result.best_score_)"
   ]
  },
  {
   "attachments": {},
   "cell_type": "markdown",
   "metadata": {},
   "source": [
    "* Did a GridSearch to get the optimal values of epochs and batchsize which were epochs=150 and batch_size=100"
   ]
  },
  {
   "cell_type": "code",
   "execution_count": 24,
   "metadata": {},
   "outputs": [
    {
     "name": "stderr",
     "output_type": "stream",
     "text": [
      "2023-07-06 22:55:23.125075: E tensorflow/compiler/xla/stream_executor/cuda/cuda_driver.cc:266] failed call to cuInit: CUDA_ERROR_NO_DEVICE: no CUDA-capable device is detected\n",
      "2023-07-06 22:55:23.588691: W tensorflow/tsl/framework/cpu_allocator_impl.cc:83] Allocation of 130915456 exceeds 10% of free system memory.\n"
     ]
    },
    {
     "name": "stdout",
     "output_type": "stream",
     "text": [
      "Epoch 1/150\n",
      "209/209 [==============================] - 3s 7ms/step - loss: 3.1264 - acc: 0.0786 - val_loss: 3.0757 - val_acc: 0.1200\n",
      "Epoch 2/150\n",
      "209/209 [==============================] - 2s 7ms/step - loss: 3.0134 - acc: 0.1379 - val_loss: 2.9563 - val_acc: 0.1641\n",
      "Epoch 3/150\n",
      "209/209 [==============================] - 2s 7ms/step - loss: 2.8468 - acc: 0.1835 - val_loss: 2.7629 - val_acc: 0.2101\n",
      "Epoch 4/150\n",
      "209/209 [==============================] - 1s 6ms/step - loss: 2.6070 - acc: 0.2538 - val_loss: 2.5296 - val_acc: 0.2716\n",
      "Epoch 5/150\n",
      "209/209 [==============================] - 2s 7ms/step - loss: 2.3671 - acc: 0.3177 - val_loss: 2.3350 - val_acc: 0.3321\n",
      "Epoch 6/150\n",
      "209/209 [==============================] - 2s 8ms/step - loss: 2.1736 - acc: 0.3715 - val_loss: 2.1924 - val_acc: 0.3656\n",
      "Epoch 7/150\n",
      "209/209 [==============================] - 2s 8ms/step - loss: 2.0162 - acc: 0.4119 - val_loss: 2.0476 - val_acc: 0.4270\n",
      "Epoch 8/150\n",
      "209/209 [==============================] - 2s 7ms/step - loss: 1.8747 - acc: 0.4465 - val_loss: 1.9447 - val_acc: 0.4596\n",
      "Epoch 9/150\n",
      "209/209 [==============================] - 1s 6ms/step - loss: 1.7537 - acc: 0.4798 - val_loss: 1.8457 - val_acc: 0.4943\n",
      "Epoch 10/150\n",
      "209/209 [==============================] - 1s 6ms/step - loss: 1.6435 - acc: 0.5096 - val_loss: 1.7595 - val_acc: 0.5226\n",
      "Epoch 11/150\n",
      "209/209 [==============================] - 1s 6ms/step - loss: 1.5470 - acc: 0.5319 - val_loss: 1.6906 - val_acc: 0.5124\n",
      "Epoch 12/150\n",
      "209/209 [==============================] - 1s 7ms/step - loss: 1.4618 - acc: 0.5551 - val_loss: 1.6809 - val_acc: 0.5154\n",
      "Epoch 13/150\n",
      "209/209 [==============================] - 1s 6ms/step - loss: 1.3827 - acc: 0.5768 - val_loss: 1.6123 - val_acc: 0.5447\n",
      "Epoch 14/150\n",
      "209/209 [==============================] - 1s 6ms/step - loss: 1.3167 - acc: 0.5959 - val_loss: 1.5226 - val_acc: 0.5834\n",
      "Epoch 15/150\n",
      "209/209 [==============================] - 1s 6ms/step - loss: 1.2561 - acc: 0.6084 - val_loss: 1.5646 - val_acc: 0.5615\n",
      "Epoch 16/150\n",
      "209/209 [==============================] - 1s 6ms/step - loss: 1.1941 - acc: 0.6272 - val_loss: 1.4432 - val_acc: 0.5953\n",
      "Epoch 17/150\n",
      "209/209 [==============================] - 1s 6ms/step - loss: 1.1472 - acc: 0.6423 - val_loss: 1.4530 - val_acc: 0.6092\n",
      "Epoch 18/150\n",
      "209/209 [==============================] - 1s 6ms/step - loss: 1.1007 - acc: 0.6545 - val_loss: 1.3625 - val_acc: 0.6440\n",
      "Epoch 19/150\n",
      "209/209 [==============================] - 1s 6ms/step - loss: 1.0633 - acc: 0.6671 - val_loss: 1.3342 - val_acc: 0.6498\n",
      "Epoch 20/150\n",
      "209/209 [==============================] - 1s 5ms/step - loss: 1.0249 - acc: 0.6801 - val_loss: 1.4064 - val_acc: 0.6007\n",
      "Epoch 21/150\n",
      "209/209 [==============================] - 1s 6ms/step - loss: 0.9887 - acc: 0.6926 - val_loss: 1.2880 - val_acc: 0.6746\n",
      "Epoch 22/150\n",
      "209/209 [==============================] - 1s 5ms/step - loss: 0.9599 - acc: 0.7001 - val_loss: 1.3825 - val_acc: 0.6178\n",
      "Epoch 23/150\n",
      "209/209 [==============================] - 1s 6ms/step - loss: 0.9267 - acc: 0.7110 - val_loss: 1.2272 - val_acc: 0.6933\n",
      "Epoch 24/150\n",
      "209/209 [==============================] - 1s 5ms/step - loss: 0.8957 - acc: 0.7228 - val_loss: 1.4001 - val_acc: 0.6250\n",
      "Epoch 25/150\n",
      "209/209 [==============================] - 1s 5ms/step - loss: 0.8822 - acc: 0.7248 - val_loss: 1.2876 - val_acc: 0.6673\n",
      "Epoch 26/150\n",
      "209/209 [==============================] - 1s 5ms/step - loss: 0.8483 - acc: 0.7382 - val_loss: 1.2816 - val_acc: 0.6574\n",
      "Epoch 27/150\n",
      "209/209 [==============================] - 1s 5ms/step - loss: 0.8099 - acc: 0.7482 - val_loss: 1.2212 - val_acc: 0.6821\n",
      "Epoch 28/150\n",
      "209/209 [==============================] - 1s 6ms/step - loss: 0.7939 - acc: 0.7526 - val_loss: 1.2030 - val_acc: 0.7177\n",
      "Epoch 29/150\n",
      "209/209 [==============================] - 1s 5ms/step - loss: 0.7725 - acc: 0.7581 - val_loss: 1.2161 - val_acc: 0.6873\n",
      "Epoch 30/150\n",
      "209/209 [==============================] - 1s 5ms/step - loss: 0.7375 - acc: 0.7756 - val_loss: 1.1538 - val_acc: 0.7295\n",
      "Epoch 31/150\n",
      "209/209 [==============================] - 1s 5ms/step - loss: 0.7329 - acc: 0.7718 - val_loss: 1.1178 - val_acc: 0.7379\n",
      "Epoch 32/150\n",
      "209/209 [==============================] - 1s 6ms/step - loss: 0.6977 - acc: 0.7873 - val_loss: 1.1155 - val_acc: 0.7519\n",
      "Epoch 33/150\n",
      "209/209 [==============================] - 1s 5ms/step - loss: 0.6903 - acc: 0.7881 - val_loss: 1.0716 - val_acc: 0.7698\n",
      "Epoch 34/150\n",
      "209/209 [==============================] - 1s 5ms/step - loss: 0.6646 - acc: 0.7975 - val_loss: 1.1034 - val_acc: 0.7383\n",
      "Epoch 35/150\n",
      "209/209 [==============================] - 1s 5ms/step - loss: 0.6645 - acc: 0.7967 - val_loss: 1.1789 - val_acc: 0.7317\n",
      "Epoch 36/150\n",
      "209/209 [==============================] - 1s 5ms/step - loss: 0.6175 - acc: 0.8139 - val_loss: 1.1291 - val_acc: 0.7476\n",
      "Epoch 37/150\n",
      "209/209 [==============================] - 1s 5ms/step - loss: 0.6053 - acc: 0.8179 - val_loss: 1.0859 - val_acc: 0.7736\n",
      "Epoch 38/150\n",
      "209/209 [==============================] - 1s 6ms/step - loss: 0.5923 - acc: 0.8224 - val_loss: 1.1537 - val_acc: 0.7494\n",
      "Epoch 39/150\n",
      "209/209 [==============================] - 1s 5ms/step - loss: 0.5732 - acc: 0.8291 - val_loss: 1.1462 - val_acc: 0.7370\n",
      "Epoch 40/150\n",
      "209/209 [==============================] - 1s 6ms/step - loss: 0.5544 - acc: 0.8338 - val_loss: 1.0668 - val_acc: 0.7792\n",
      "Epoch 41/150\n",
      "209/209 [==============================] - 1s 5ms/step - loss: 0.5675 - acc: 0.8295 - val_loss: 2.1423 - val_acc: 0.5070\n",
      "Epoch 42/150\n",
      "209/209 [==============================] - 1s 5ms/step - loss: 0.5557 - acc: 0.8336 - val_loss: 1.1193 - val_acc: 0.7634\n",
      "Epoch 43/150\n",
      "209/209 [==============================] - 1s 5ms/step - loss: 0.5152 - acc: 0.8474 - val_loss: 1.0142 - val_acc: 0.7935\n",
      "Epoch 44/150\n",
      "209/209 [==============================] - 1s 5ms/step - loss: 0.4916 - acc: 0.8560 - val_loss: 1.0782 - val_acc: 0.7705\n",
      "Epoch 45/150\n",
      "209/209 [==============================] - 1s 6ms/step - loss: 0.4877 - acc: 0.8564 - val_loss: 1.0159 - val_acc: 0.8097\n",
      "Epoch 46/150\n",
      "209/209 [==============================] - 1s 5ms/step - loss: 0.4668 - acc: 0.8637 - val_loss: 1.0093 - val_acc: 0.8114\n",
      "Epoch 47/150\n",
      "209/209 [==============================] - 1s 6ms/step - loss: 0.4854 - acc: 0.8590 - val_loss: 1.0030 - val_acc: 0.8139\n",
      "Epoch 48/150\n",
      "209/209 [==============================] - 1s 6ms/step - loss: 0.4492 - acc: 0.8698 - val_loss: 0.9911 - val_acc: 0.8061\n",
      "Epoch 49/150\n",
      "209/209 [==============================] - 1s 6ms/step - loss: 0.4370 - acc: 0.8727 - val_loss: 0.9496 - val_acc: 0.8398\n",
      "Epoch 50/150\n",
      "209/209 [==============================] - 1s 6ms/step - loss: 0.4049 - acc: 0.8852 - val_loss: 0.9851 - val_acc: 0.8301\n",
      "Epoch 51/150\n",
      "209/209 [==============================] - 1s 6ms/step - loss: 0.4072 - acc: 0.8844 - val_loss: 0.9281 - val_acc: 0.8603\n",
      "Epoch 52/150\n",
      "209/209 [==============================] - 1s 5ms/step - loss: 0.3787 - acc: 0.8962 - val_loss: 0.9538 - val_acc: 0.8531\n",
      "Epoch 53/150\n",
      "209/209 [==============================] - 1s 5ms/step - loss: 0.3890 - acc: 0.8911 - val_loss: 0.9566 - val_acc: 0.8337\n",
      "Epoch 54/150\n",
      "209/209 [==============================] - 1s 7ms/step - loss: 0.3610 - acc: 0.9000 - val_loss: 0.9117 - val_acc: 0.8625\n",
      "Epoch 55/150\n",
      "209/209 [==============================] - 1s 6ms/step - loss: 0.3498 - acc: 0.9029 - val_loss: 1.1604 - val_acc: 0.7614\n",
      "Epoch 56/150\n",
      "209/209 [==============================] - 1s 5ms/step - loss: 0.3498 - acc: 0.9026 - val_loss: 0.9093 - val_acc: 0.8682\n",
      "Epoch 57/150\n",
      "209/209 [==============================] - 1s 6ms/step - loss: 0.3187 - acc: 0.9147 - val_loss: 0.9090 - val_acc: 0.8692\n",
      "Epoch 58/150\n",
      "209/209 [==============================] - 1s 6ms/step - loss: 0.3256 - acc: 0.9111 - val_loss: 0.9810 - val_acc: 0.8229\n",
      "Epoch 59/150\n",
      "209/209 [==============================] - 1s 6ms/step - loss: 0.3182 - acc: 0.9111 - val_loss: 1.2137 - val_acc: 0.7568\n",
      "Epoch 60/150\n",
      "209/209 [==============================] - 1s 6ms/step - loss: 0.2971 - acc: 0.9207 - val_loss: 0.9631 - val_acc: 0.8511\n",
      "Epoch 61/150\n",
      "209/209 [==============================] - 1s 7ms/step - loss: 0.3588 - acc: 0.9054 - val_loss: 0.8852 - val_acc: 0.8764\n",
      "Epoch 62/150\n",
      "209/209 [==============================] - 1s 6ms/step - loss: 0.2736 - acc: 0.9301 - val_loss: 0.9003 - val_acc: 0.8776\n",
      "Epoch 63/150\n",
      "209/209 [==============================] - 1s 6ms/step - loss: 0.2707 - acc: 0.9277 - val_loss: 0.8810 - val_acc: 0.8938\n",
      "Epoch 64/150\n",
      "209/209 [==============================] - 1s 5ms/step - loss: 0.2581 - acc: 0.9324 - val_loss: 1.4630 - val_acc: 0.7097\n",
      "Epoch 65/150\n",
      "209/209 [==============================] - 1s 6ms/step - loss: 0.2519 - acc: 0.9358 - val_loss: 0.9198 - val_acc: 0.8859\n",
      "Epoch 66/150\n",
      "209/209 [==============================] - 1s 5ms/step - loss: 0.2426 - acc: 0.9383 - val_loss: 0.8645 - val_acc: 0.9099\n",
      "Epoch 67/150\n",
      "209/209 [==============================] - 1s 6ms/step - loss: 0.2188 - acc: 0.9482 - val_loss: 0.9137 - val_acc: 0.8875\n",
      "Epoch 68/150\n",
      "209/209 [==============================] - 1s 6ms/step - loss: 0.2407 - acc: 0.9389 - val_loss: 0.9539 - val_acc: 0.8728\n",
      "Epoch 69/150\n",
      "209/209 [==============================] - 1s 6ms/step - loss: 0.3470 - acc: 0.9208 - val_loss: 0.8872 - val_acc: 0.8896\n",
      "Epoch 70/150\n",
      "209/209 [==============================] - 1s 6ms/step - loss: 0.2053 - acc: 0.9519 - val_loss: 0.8710 - val_acc: 0.9097\n",
      "Epoch 71/150\n",
      "209/209 [==============================] - 1s 6ms/step - loss: 0.1988 - acc: 0.9527 - val_loss: 0.8910 - val_acc: 0.8955\n",
      "Epoch 72/150\n",
      "209/209 [==============================] - 1s 6ms/step - loss: 0.1929 - acc: 0.9555 - val_loss: 1.0234 - val_acc: 0.8294\n",
      "Epoch 73/150\n",
      "209/209 [==============================] - 1s 6ms/step - loss: 0.1759 - acc: 0.9629 - val_loss: 0.9239 - val_acc: 0.8873\n",
      "Epoch 74/150\n",
      "209/209 [==============================] - 1s 7ms/step - loss: 0.1780 - acc: 0.9611 - val_loss: 0.8638 - val_acc: 0.9261\n",
      "Epoch 75/150\n",
      "209/209 [==============================] - 1s 6ms/step - loss: 0.1695 - acc: 0.9649 - val_loss: 0.9551 - val_acc: 0.8774\n",
      "Epoch 76/150\n",
      "209/209 [==============================] - 1s 6ms/step - loss: 0.1526 - acc: 0.9723 - val_loss: 0.8588 - val_acc: 0.9260\n",
      "Epoch 77/150\n",
      "209/209 [==============================] - 1s 6ms/step - loss: 0.1626 - acc: 0.9669 - val_loss: 0.8751 - val_acc: 0.9224\n",
      "Epoch 78/150\n",
      "209/209 [==============================] - 1s 6ms/step - loss: 0.1516 - acc: 0.9710 - val_loss: 0.8618 - val_acc: 0.9299\n",
      "Epoch 79/150\n",
      "209/209 [==============================] - 2s 8ms/step - loss: 0.1470 - acc: 0.9737 - val_loss: 0.9702 - val_acc: 0.8719\n",
      "Epoch 80/150\n",
      "209/209 [==============================] - 1s 6ms/step - loss: 0.1349 - acc: 0.9775 - val_loss: 0.8958 - val_acc: 0.9271\n",
      "Epoch 81/150\n",
      "209/209 [==============================] - 1s 6ms/step - loss: 0.1274 - acc: 0.9808 - val_loss: 0.8725 - val_acc: 0.9333\n",
      "Epoch 82/150\n",
      "209/209 [==============================] - 1s 6ms/step - loss: 0.3145 - acc: 0.9485 - val_loss: 0.8790 - val_acc: 0.9224\n",
      "Epoch 83/150\n",
      "209/209 [==============================] - 1s 6ms/step - loss: 0.1201 - acc: 0.9829 - val_loss: 0.9022 - val_acc: 0.9141\n",
      "Epoch 84/150\n",
      "209/209 [==============================] - 1s 6ms/step - loss: 0.1198 - acc: 0.9813 - val_loss: 0.8768 - val_acc: 0.9314\n",
      "Epoch 85/150\n",
      "209/209 [==============================] - 1s 7ms/step - loss: 0.1134 - acc: 0.9842 - val_loss: 0.8662 - val_acc: 0.9336\n",
      "Epoch 86/150\n",
      "209/209 [==============================] - 1s 6ms/step - loss: 0.1097 - acc: 0.9847 - val_loss: 0.9888 - val_acc: 0.8748\n",
      "Epoch 87/150\n",
      "209/209 [==============================] - 1s 6ms/step - loss: 0.1117 - acc: 0.9832 - val_loss: 0.9023 - val_acc: 0.9268\n",
      "Epoch 88/150\n",
      "209/209 [==============================] - 1s 6ms/step - loss: 0.0971 - acc: 0.9903 - val_loss: 0.8858 - val_acc: 0.9333\n",
      "Epoch 89/150\n",
      "209/209 [==============================] - 1s 6ms/step - loss: 0.0915 - acc: 0.9920 - val_loss: 0.8665 - val_acc: 0.9389\n",
      "Epoch 90/150\n",
      "209/209 [==============================] - 1s 7ms/step - loss: 0.0923 - acc: 0.9896 - val_loss: 0.9019 - val_acc: 0.9362\n",
      "Epoch 91/150\n",
      "209/209 [==============================] - 1s 7ms/step - loss: 0.3300 - acc: 0.9518 - val_loss: 0.8566 - val_acc: 0.9411\n",
      "Epoch 92/150\n",
      "209/209 [==============================] - 1s 7ms/step - loss: 0.0872 - acc: 0.9924 - val_loss: 0.8972 - val_acc: 0.9442\n",
      "Epoch 93/150\n",
      "209/209 [==============================] - 1s 6ms/step - loss: 0.0824 - acc: 0.9931 - val_loss: 0.9237 - val_acc: 0.9280\n",
      "Epoch 94/150\n",
      "209/209 [==============================] - 1s 6ms/step - loss: 0.0801 - acc: 0.9944 - val_loss: 0.8928 - val_acc: 0.9419\n",
      "Epoch 95/150\n",
      "209/209 [==============================] - 1s 7ms/step - loss: 0.0759 - acc: 0.9958 - val_loss: 0.9123 - val_acc: 0.9428\n",
      "Epoch 96/150\n",
      "209/209 [==============================] - 1s 6ms/step - loss: 0.0767 - acc: 0.9940 - val_loss: 0.9088 - val_acc: 0.9424\n",
      "Epoch 97/150\n",
      "209/209 [==============================] - 1s 5ms/step - loss: 0.0714 - acc: 0.9956 - val_loss: 0.9330 - val_acc: 0.9412\n",
      "Epoch 98/150\n",
      "209/209 [==============================] - 1s 6ms/step - loss: 0.0706 - acc: 0.9955 - val_loss: 0.9145 - val_acc: 0.9369\n",
      "Epoch 99/150\n",
      "209/209 [==============================] - 1s 7ms/step - loss: 0.0676 - acc: 0.9962 - val_loss: 0.9197 - val_acc: 0.9444\n",
      "Epoch 100/150\n",
      "209/209 [==============================] - 1s 7ms/step - loss: 0.0648 - acc: 0.9975 - val_loss: 0.9286 - val_acc: 0.9401\n",
      "Epoch 101/150\n",
      "209/209 [==============================] - 2s 7ms/step - loss: 0.0639 - acc: 0.9962 - val_loss: 0.9250 - val_acc: 0.9398\n",
      "Epoch 102/150\n",
      "209/209 [==============================] - 1s 7ms/step - loss: 0.0623 - acc: 0.9969 - val_loss: 0.9180 - val_acc: 0.9445\n",
      "Epoch 103/150\n",
      "209/209 [==============================] - 1s 6ms/step - loss: 0.0613 - acc: 0.9965 - val_loss: 0.9379 - val_acc: 0.9445\n",
      "Epoch 104/150\n",
      "209/209 [==============================] - 1s 6ms/step - loss: 0.0587 - acc: 0.9972 - val_loss: 0.9156 - val_acc: 0.9457\n",
      "Epoch 105/150\n",
      "209/209 [==============================] - 1s 6ms/step - loss: 0.0558 - acc: 0.9978 - val_loss: 0.9285 - val_acc: 0.9455\n",
      "Epoch 106/150\n",
      "209/209 [==============================] - 1s 7ms/step - loss: 0.0547 - acc: 0.9977 - val_loss: 0.9172 - val_acc: 0.9457\n",
      "Epoch 107/150\n",
      "209/209 [==============================] - 1s 6ms/step - loss: 0.0536 - acc: 0.9978 - val_loss: 0.9323 - val_acc: 0.9432\n",
      "Epoch 108/150\n",
      "209/209 [==============================] - 1s 6ms/step - loss: 0.0510 - acc: 0.9984 - val_loss: 0.9408 - val_acc: 0.9421\n",
      "Epoch 109/150\n",
      "209/209 [==============================] - 1s 6ms/step - loss: 0.0511 - acc: 0.9978 - val_loss: 0.9481 - val_acc: 0.9425\n",
      "Epoch 110/150\n",
      "209/209 [==============================] - 1s 6ms/step - loss: 0.0483 - acc: 0.9987 - val_loss: 0.9443 - val_acc: 0.9460\n",
      "Epoch 111/150\n",
      "209/209 [==============================] - 2s 8ms/step - loss: 0.0478 - acc: 0.9983 - val_loss: 0.9600 - val_acc: 0.9441\n",
      "Epoch 112/150\n",
      "209/209 [==============================] - 1s 6ms/step - loss: 0.0470 - acc: 0.9982 - val_loss: 0.9515 - val_acc: 0.9467\n",
      "Epoch 113/150\n",
      "209/209 [==============================] - 1s 6ms/step - loss: 0.0457 - acc: 0.9983 - val_loss: 0.9448 - val_acc: 0.9467\n",
      "Epoch 114/150\n",
      "209/209 [==============================] - 1s 6ms/step - loss: 0.0439 - acc: 0.9991 - val_loss: 0.9604 - val_acc: 0.9424\n",
      "Epoch 115/150\n",
      "209/209 [==============================] - 1s 6ms/step - loss: 0.0438 - acc: 0.9983 - val_loss: 0.9624 - val_acc: 0.9468\n",
      "Epoch 116/150\n",
      "209/209 [==============================] - 2s 9ms/step - loss: 0.0421 - acc: 0.9991 - val_loss: 0.9643 - val_acc: 0.9462\n",
      "Epoch 117/150\n",
      "209/209 [==============================] - 1s 6ms/step - loss: 0.0411 - acc: 0.9994 - val_loss: 0.9708 - val_acc: 0.9467\n",
      "Epoch 118/150\n",
      "209/209 [==============================] - 1s 7ms/step - loss: 0.0408 - acc: 0.9989 - val_loss: 0.9619 - val_acc: 0.9470\n",
      "Epoch 119/150\n",
      "209/209 [==============================] - 1s 6ms/step - loss: 0.0410 - acc: 0.9984 - val_loss: 0.9613 - val_acc: 0.9471\n",
      "Epoch 120/150\n",
      "209/209 [==============================] - 1s 6ms/step - loss: 0.0380 - acc: 0.9995 - val_loss: 0.9756 - val_acc: 0.9470\n",
      "Epoch 121/150\n",
      "209/209 [==============================] - 2s 9ms/step - loss: 0.0368 - acc: 0.9993 - val_loss: 0.9803 - val_acc: 0.9467\n",
      "Epoch 122/150\n",
      "209/209 [==============================] - 1s 7ms/step - loss: 0.0369 - acc: 0.9991 - val_loss: 0.9838 - val_acc: 0.9462\n",
      "Epoch 123/150\n",
      "209/209 [==============================] - 1s 7ms/step - loss: 0.0362 - acc: 0.9992 - val_loss: 0.9857 - val_acc: 0.9464\n",
      "Epoch 124/150\n",
      "209/209 [==============================] - 1s 6ms/step - loss: 0.0358 - acc: 0.9990 - val_loss: 0.9869 - val_acc: 0.9471\n",
      "Epoch 125/150\n",
      "209/209 [==============================] - 2s 7ms/step - loss: 0.0353 - acc: 0.9991 - val_loss: 0.9968 - val_acc: 0.9460\n",
      "Epoch 126/150\n",
      "209/209 [==============================] - 1s 6ms/step - loss: 0.0334 - acc: 0.9996 - val_loss: 0.9930 - val_acc: 0.9468\n",
      "Epoch 127/150\n",
      "209/209 [==============================] - 1s 6ms/step - loss: 0.0325 - acc: 0.9996 - val_loss: 0.9897 - val_acc: 0.9468\n",
      "Epoch 128/150\n",
      "209/209 [==============================] - 1s 6ms/step - loss: 0.0334 - acc: 0.9991 - val_loss: 0.9899 - val_acc: 0.9471\n",
      "Epoch 129/150\n",
      "209/209 [==============================] - 1s 6ms/step - loss: 0.0317 - acc: 0.9996 - val_loss: 0.9967 - val_acc: 0.9471\n",
      "Epoch 130/150\n",
      "209/209 [==============================] - 2s 9ms/step - loss: 0.0306 - acc: 0.9997 - val_loss: 1.0005 - val_acc: 0.9465\n",
      "Epoch 131/150\n",
      "209/209 [==============================] - 1s 7ms/step - loss: 0.0303 - acc: 0.9994 - val_loss: 1.0120 - val_acc: 0.9465\n",
      "Epoch 132/150\n",
      "209/209 [==============================] - 2s 7ms/step - loss: 0.0300 - acc: 0.9995 - val_loss: 1.0107 - val_acc: 0.9467\n",
      "Epoch 133/150\n",
      "209/209 [==============================] - 1s 6ms/step - loss: 0.0287 - acc: 0.9997 - val_loss: 1.0126 - val_acc: 0.9470\n",
      "Epoch 134/150\n",
      "209/209 [==============================] - 2s 7ms/step - loss: 0.0279 - acc: 0.9998 - val_loss: 1.0119 - val_acc: 0.9473\n",
      "Epoch 135/150\n",
      "209/209 [==============================] - 1s 6ms/step - loss: 0.0280 - acc: 0.9997 - val_loss: 1.0162 - val_acc: 0.9473\n",
      "Epoch 136/150\n",
      "209/209 [==============================] - 1s 6ms/step - loss: 0.0274 - acc: 0.9998 - val_loss: 1.0102 - val_acc: 0.9474\n",
      "Epoch 137/150\n",
      "209/209 [==============================] - 1s 6ms/step - loss: 0.0267 - acc: 0.9996 - val_loss: 1.0268 - val_acc: 0.9458\n",
      "Epoch 138/150\n",
      "209/209 [==============================] - 2s 9ms/step - loss: 0.0266 - acc: 0.9996 - val_loss: 1.0249 - val_acc: 0.9470\n",
      "Epoch 139/150\n",
      "209/209 [==============================] - 1s 6ms/step - loss: 0.0257 - acc: 0.9998 - val_loss: 1.0245 - val_acc: 0.9470\n",
      "Epoch 140/150\n",
      "209/209 [==============================] - 1s 6ms/step - loss: 0.0253 - acc: 0.9997 - val_loss: 1.0376 - val_acc: 0.9474\n",
      "Epoch 141/150\n",
      "209/209 [==============================] - 1s 6ms/step - loss: 0.0252 - acc: 0.9996 - val_loss: 1.0270 - val_acc: 0.9473\n",
      "Epoch 142/150\n",
      "209/209 [==============================] - 1s 6ms/step - loss: 0.0247 - acc: 0.9996 - val_loss: 1.0316 - val_acc: 0.9474\n",
      "Epoch 143/150\n",
      "209/209 [==============================] - 2s 8ms/step - loss: 0.0240 - acc: 0.9998 - val_loss: 1.0374 - val_acc: 0.9474\n",
      "Epoch 144/150\n",
      "209/209 [==============================] - 1s 7ms/step - loss: 0.0235 - acc: 0.9997 - val_loss: 1.0305 - val_acc: 0.9474\n",
      "Epoch 145/150\n",
      "209/209 [==============================] - 1s 7ms/step - loss: 0.0234 - acc: 0.9998 - val_loss: 1.0394 - val_acc: 0.9465\n",
      "Epoch 146/150\n",
      "209/209 [==============================] - 2s 7ms/step - loss: 0.0227 - acc: 0.9999 - val_loss: 1.0359 - val_acc: 0.9474\n",
      "Epoch 147/150\n",
      "209/209 [==============================] - 2s 8ms/step - loss: 0.0226 - acc: 0.9997 - val_loss: 1.0373 - val_acc: 0.9474\n",
      "Epoch 148/150\n",
      "209/209 [==============================] - 1s 7ms/step - loss: 0.0222 - acc: 0.9997 - val_loss: 1.0444 - val_acc: 0.9473\n",
      "Epoch 149/150\n",
      "209/209 [==============================] - 1s 7ms/step - loss: 0.0219 - acc: 0.9998 - val_loss: 1.0482 - val_acc: 0.9474\n",
      "Epoch 150/150\n",
      "209/209 [==============================] - 2s 8ms/step - loss: 0.0216 - acc: 0.9997 - val_loss: 1.0443 - val_acc: 0.9474\n"
     ]
    }
   ],
   "source": [
    "# two layers baseline model\n",
    "baseline_model = Sequential()\n",
    "baseline_model.add(layers.Dense(64, activation=\"relu\", input_shape=(784,)))\n",
    "baseline_model.add(layers.Dense(32, activation=\"relu\"))\n",
    "baseline_model.add(layers.Dense(24, activation=\"softmax\"))\n",
    "\n",
    "#compiling our model\n",
    "baseline_model.compile(loss=\"categorical_crossentropy\",\n",
    "                       optimizer=\"sgd\",\n",
    "                       metrics=[\"acc\"])\n",
    "\n",
    "#fitting the model\n",
    "baseline_history = baseline_model.fit(train_X, train_y,\n",
    "                                      epochs=150, batch_size=100,\n",
    "                                      validation_split=0.25)"
   ]
  },
  {
   "cell_type": "code",
   "execution_count": 25,
   "metadata": {},
   "outputs": [
    {
     "name": "stdout",
     "output_type": "stream",
     "text": [
      "Model: \"sequential\"\n",
      "_________________________________________________________________\n",
      " Layer (type)                Output Shape              Param #   \n",
      "=================================================================\n",
      " dense (Dense)               (None, 64)                50240     \n",
      "                                                                 \n",
      " dense_1 (Dense)             (None, 32)                2080      \n",
      "                                                                 \n",
      " dense_2 (Dense)             (None, 24)                792       \n",
      "                                                                 \n",
      "=================================================================\n",
      "Total params: 53,112\n",
      "Trainable params: 53,112\n",
      "Non-trainable params: 0\n",
      "_________________________________________________________________\n"
     ]
    }
   ],
   "source": [
    "baseline_model.summary()"
   ]
  },
  {
   "cell_type": "code",
   "execution_count": 27,
   "metadata": {},
   "outputs": [
    {
     "name": "stdout",
     "output_type": "stream",
     "text": [
      "Baseline model test data accuracy: \n",
      "225/225 [==============================] - 1s 3ms/step - loss: 1.5275 - acc: 0.7029\n"
     ]
    },
    {
     "data": {
      "text/plain": [
       "[1.5275362730026245, 0.7028722763061523]"
      ]
     },
     "execution_count": 27,
     "metadata": {},
     "output_type": "execute_result"
    }
   ],
   "source": [
    "print(\"Baseline model test data accuracy: \")\n",
    "baseline_model.evaluate(test_X, test_y)"
   ]
  },
  {
   "cell_type": "code",
   "execution_count": 28,
   "metadata": {},
   "outputs": [
    {
     "data": {
      "image/png": "[encoded data removed]",
      "text/plain": [
       "<Figure size 1000x500 with 2 Axes>"
      ]
     },
     "metadata": {},
     "output_type": "display_data"
    }
   ],
   "source": [
    "#Plotting the loss and accuracy of the test and validation datasets\n",
    "def plot_loss_and_accuracy(results, final=False):\n",
    "\n",
    "    if final:\n",
    "        val_label=\"test\"\n",
    "    else:\n",
    "        val_label=\"validation\"\n",
    "\n",
    "    # Extracting metrics from model fitting\n",
    "    train_loss = results.history['loss']\n",
    "    val_loss = results.history['val_loss']\n",
    "    train_accuracy = results.history['acc']\n",
    "    val_accuracy = results.history['val_acc']\n",
    "\n",
    "    # Setting up plots\n",
    "    fig, (ax1, ax2) = plt.subplots(1, 2, figsize=(10, 5))\n",
    "\n",
    "    # Plotting loss info\n",
    "    ax1.set_title(\"Loss\")\n",
    "    sns.lineplot(x=results.epoch, y=train_loss, ax=ax1, label=\"train\")\n",
    "    sns.lineplot(x=results.epoch, y=val_loss, ax=ax1, label=val_label)\n",
    "    ax1.legend()\n",
    "\n",
    "    # Plotting accuracy info\n",
    "    ax2.set_title(\"Accuracy\")\n",
    "    sns.lineplot(x=results.epoch, y=train_accuracy, ax=ax2, label=\"train\")\n",
    "    sns.lineplot(x=results.epoch, y=val_accuracy, ax=ax2, label=val_label)\n",
    "    ax2.legend()\n",
    "\n",
    "#baseline model loss and accuracy \n",
    "plot_loss_and_accuracy(baseline_history)"
   ]
  },
  {
   "attachments": {},
   "cell_type": "markdown",
   "metadata": {},
   "source": [
    "### CNN"
   ]
  },
  {
   "cell_type": "code",
   "execution_count": 29,
   "metadata": {},
   "outputs": [],
   "source": [
    "#Reshaping the train and test dataset\n",
    "train_X_reshaped = np.array(train_X).reshape(-1, 28, 28, 1)\n",
    "test_X_reshaped = np.array(test_X).reshape(-1, 28, 28, 1)"
   ]
  },
  {
   "cell_type": "code",
   "execution_count": 50,
   "metadata": {},
   "outputs": [
    {
     "name": "stdout",
     "output_type": "stream",
     "text": [
      "Epoch 1/10\n",
      "209/209 [==============================] - 24s 111ms/step - loss: 1.4626 - acc: 0.6178 - val_loss: 0.7184 - val_acc: 0.8543\n",
      "Epoch 2/10\n",
      "209/209 [==============================] - 28s 135ms/step - loss: 0.2892 - acc: 0.9538 - val_loss: 0.4185 - val_acc: 0.9404\n",
      "Epoch 3/10\n",
      "209/209 [==============================] - 24s 114ms/step - loss: 0.0929 - acc: 0.9960 - val_loss: 0.3588 - val_acc: 0.9500\n",
      "Epoch 4/10\n",
      "209/209 [==============================] - 25s 119ms/step - loss: 0.0389 - acc: 0.9999 - val_loss: 0.3500 - val_acc: 0.9498\n",
      "Epoch 5/10\n",
      "209/209 [==============================] - 22s 105ms/step - loss: 0.0212 - acc: 1.0000 - val_loss: 0.3460 - val_acc: 0.9507\n",
      "Epoch 6/10\n",
      "209/209 [==============================] - 22s 103ms/step - loss: 0.0132 - acc: 1.0000 - val_loss: 0.3526 - val_acc: 0.9506\n",
      "Epoch 7/10\n",
      "209/209 [==============================] - 21s 100ms/step - loss: 0.0090 - acc: 1.0000 - val_loss: 0.3601 - val_acc: 0.9506\n",
      "Epoch 8/10\n",
      "209/209 [==============================] - 21s 102ms/step - loss: 0.0065 - acc: 1.0000 - val_loss: 0.3626 - val_acc: 0.9503\n",
      "Epoch 9/10\n",
      "209/209 [==============================] - 21s 100ms/step - loss: 0.0050 - acc: 1.0000 - val_loss: 0.3697 - val_acc: 0.9504\n",
      "Epoch 10/10\n",
      "209/209 [==============================] - 22s 103ms/step - loss: 0.0039 - acc: 1.0000 - val_loss: 0.3753 - val_acc: 0.9503\n"
     ]
    }
   ],
   "source": [
    "# Fitting a CNN model\n",
    "cnn_model1 = Sequential()\n",
    "cnn_model1.add(layers.Conv2D(64, (3,3), activation=\"tanh\", input_shape=(28,28,1)))\n",
    "cnn_model1.add(layers.MaxPool2D((2,2)))\n",
    "cnn_model1.add(layers.Conv2D(32, (3,3), activation=\"tanh\"))\n",
    "cnn_model1.add(layers.MaxPooling2D((2,2)))\n",
    "cnn_model1.add(layers.Flatten())\n",
    "cnn_model1.add(layers.Dense(64, activation=\"tanh\"))\n",
    "cnn_model1.add(layers.Dense(24, activation=\"softmax\"))\n",
    "\n",
    "#Compiling the model\n",
    "cnn_model1.compile(loss=\"categorical_crossentropy\",\n",
    "                  optimizer=\"adam\",\n",
    "                  metrics=[\"acc\"])\n",
    "\n",
    "#Fitting the model\n",
    "cnn_model1_results = cnn_model1.fit(train_X_reshaped, train_y,\n",
    "                                  epochs=10, batch_size=100,\n",
    "                                  validation_split=0.25)\n"
   ]
  },
  {
   "cell_type": "code",
   "execution_count": 51,
   "metadata": {},
   "outputs": [
    {
     "name": "stdout",
     "output_type": "stream",
     "text": [
      "cnn model1 train data accuracy: \n",
      "870/870 [==============================] - 9s 10ms/step - loss: 0.0963 - acc: 0.9876\n",
      "[0.09633519500494003, 0.9875678420066833]\n",
      "\n",
      "cnn model1 test data accuracy: \n",
      "225/225 [==============================] - 2s 10ms/step - loss: 0.2810 - acc: 0.9216\n",
      "[0.2810279428958893, 0.9216396808624268]\n"
     ]
    }
   ],
   "source": [
    "print(\"cnn model1 train data accuracy: \")\n",
    "print(cnn_model1.evaluate(train_X_reshaped, train_y))\n",
    "print()\n",
    "print(\"cnn model1 test data accuracy: \")\n",
    "print(cnn_model1.evaluate(test_X_reshaped, test_y))"
   ]
  },
  {
   "cell_type": "code",
   "execution_count": 33,
   "metadata": {},
   "outputs": [
    {
     "name": "stdout",
     "output_type": "stream",
     "text": [
      "Epoch 1/10\n",
      "209/209 [==============================] - 32s 150ms/step - loss: 1.4634 - acc: 0.6167 - val_loss: 0.7879 - val_acc: 0.8392\n",
      "Epoch 2/10\n",
      "209/209 [==============================] - 30s 146ms/step - loss: 0.3366 - acc: 0.9398 - val_loss: 0.4653 - val_acc: 0.9322\n",
      "Epoch 3/10\n",
      "209/209 [==============================] - 30s 142ms/step - loss: 0.0875 - acc: 0.9939 - val_loss: 0.3743 - val_acc: 0.9496\n",
      "Epoch 4/10\n",
      "209/209 [==============================] - 29s 139ms/step - loss: 0.0195 - acc: 0.9998 - val_loss: 0.3859 - val_acc: 0.9498\n",
      "Epoch 5/10\n",
      "209/209 [==============================] - 30s 146ms/step - loss: 0.0050 - acc: 1.0000 - val_loss: 0.4137 - val_acc: 0.9501\n",
      "Epoch 6/10\n",
      "209/209 [==============================] - 30s 146ms/step - loss: 0.0020 - acc: 1.0000 - val_loss: 0.4256 - val_acc: 0.9501\n",
      "Epoch 7/10\n",
      "209/209 [==============================] - 31s 148ms/step - loss: 0.0012 - acc: 1.0000 - val_loss: 0.4390 - val_acc: 0.9504\n",
      "Epoch 8/10\n",
      "209/209 [==============================] - 29s 140ms/step - loss: 8.5227e-04 - acc: 1.0000 - val_loss: 0.4469 - val_acc: 0.9503\n",
      "Epoch 9/10\n",
      "209/209 [==============================] - 30s 144ms/step - loss: 6.5750e-04 - acc: 1.0000 - val_loss: 0.4530 - val_acc: 0.9503\n",
      "Epoch 10/10\n",
      "209/209 [==============================] - 32s 152ms/step - loss: 5.3655e-04 - acc: 1.0000 - val_loss: 0.4584 - val_acc: 0.9504\n"
     ]
    }
   ],
   "source": [
    "# Fitting a CNN model\n",
    "cnn_model2 = Sequential()\n",
    "cnn_model2.add(layers.Conv2D(64, (3,3), activation=\"tanh\", input_shape=(28,28,1)))\n",
    "cnn_model2.add(layers.MaxPool2D((2,2)))\n",
    "cnn_model2.add(layers.Conv2D(32, (3,3), activation=\"tanh\"))\n",
    "cnn_model2.add(layers.MaxPooling2D((2,2)))\n",
    "cnn_model2.add(layers.Flatten())\n",
    "cnn_model2.add(layers.Dense(64, activation=\"tanh\"))\n",
    "cnn_model2.add(layers.Dense(24, activation=\"softmax\"))\n",
    "\n",
    "#Compiling the model\n",
    "cnn_model2.compile(loss=\"categorical_crossentropy\",\n",
    "                  optimizer=\"rmsprop\",\n",
    "                  metrics=[\"acc\"])\n",
    "\n",
    "#Fitting the model\n",
    "cnn_model2_results = cnn_model2.fit(train_X_reshaped, train_y,\n",
    "                                  epochs=10, batch_size=100,\n",
    "                                  validation_split=0.25)\n"
   ]
  },
  {
   "cell_type": "code",
   "execution_count": 52,
   "metadata": {},
   "outputs": [
    {
     "name": "stdout",
     "output_type": "stream",
     "text": [
      "cnn model2 train data accuracy: \n",
      "870/870 [==============================] - 7s 9ms/step - loss: 0.1150 - acc: 0.9876\n",
      "[0.11496639251708984, 0.9876037240028381]\n",
      "\n",
      "cnn model2 test data accuracy: \n",
      "225/225 [==============================] - 2s 8ms/step - loss: 0.2818 - acc: 0.9215\n",
      "[0.2817537784576416, 0.9215002655982971]\n"
     ]
    }
   ],
   "source": [
    "print(\"cnn model2 train data accuracy: \")\n",
    "print(cnn_model2.evaluate(train_X_reshaped, train_y))\n",
    "print()\n",
    "print(\"cnn model2 test data accuracy: \")\n",
    "print(cnn_model2.evaluate(test_X_reshaped, test_y))"
   ]
  },
  {
   "cell_type": "code",
   "execution_count": 35,
   "metadata": {},
   "outputs": [
    {
     "name": "stdout",
     "output_type": "stream",
     "text": [
      "Epoch 1/10\n",
      "209/209 [==============================] - 31s 138ms/step - loss: 2.0307 - acc: 0.4065 - val_loss: 1.1641 - val_acc: 0.6963\n",
      "Epoch 2/10\n",
      "209/209 [==============================] - 29s 138ms/step - loss: 0.6083 - acc: 0.8174 - val_loss: 0.7542 - val_acc: 0.8596\n",
      "Epoch 3/10\n",
      "209/209 [==============================] - 28s 133ms/step - loss: 0.2286 - acc: 0.9380 - val_loss: 0.6903 - val_acc: 0.9199\n",
      "Epoch 4/10\n",
      "209/209 [==============================] - 29s 139ms/step - loss: 0.0879 - acc: 0.9841 - val_loss: 0.7553 - val_acc: 0.9399\n",
      "Epoch 5/10\n",
      "209/209 [==============================] - 28s 133ms/step - loss: 0.0385 - acc: 0.9962 - val_loss: 0.8169 - val_acc: 0.9483\n",
      "Epoch 6/10\n",
      "209/209 [==============================] - 30s 143ms/step - loss: 0.0212 - acc: 0.9981 - val_loss: 0.8820 - val_acc: 0.9485\n",
      "Epoch 7/10\n",
      "209/209 [==============================] - 29s 137ms/step - loss: 0.0106 - acc: 0.9999 - val_loss: 0.9142 - val_acc: 0.9494\n",
      "Epoch 8/10\n",
      "209/209 [==============================] - 27s 131ms/step - loss: 0.0067 - acc: 1.0000 - val_loss: 0.9822 - val_acc: 0.9493\n",
      "Epoch 9/10\n",
      "209/209 [==============================] - 29s 136ms/step - loss: 0.0052 - acc: 0.9999 - val_loss: 1.0276 - val_acc: 0.9493\n",
      "Epoch 10/10\n",
      "209/209 [==============================] - 29s 139ms/step - loss: 0.0035 - acc: 1.0000 - val_loss: 1.0385 - val_acc: 0.9498\n"
     ]
    }
   ],
   "source": [
    "#fitting the third CNN model\n",
    "cnn_model3 = Sequential()\n",
    "cnn_model3.add(layers.Conv2D(64, (3, 3), activation=\"relu\", input_shape=(28, 28, 1)))\n",
    "cnn_model3.add(layers.MaxPooling2D((2, 2)))\n",
    "cnn_model3.add(layers.Conv2D(32, (3,3), activation=\"relu\"))\n",
    "cnn_model3.add(layers.MaxPooling2D((2,2)))\n",
    "cnn_model3.add(layers.Flatten())\n",
    "cnn_model3.add(layers.Dense(64, activation=\"relu\"))\n",
    "cnn_model3.add(layers.Dense(24, activation=\"softmax\"))\n",
    "\n",
    "# Compiling the CNN model\n",
    "cnn_model3.compile(loss=\"categorical_crossentropy\",\n",
    "                  optimizer=\"adam\",\n",
    "                  metrics=[\"acc\"])\n",
    "\n",
    "# Fitting the CNN model\n",
    "cnn_model3_results = cnn_model3.fit(train_X_reshaped, train_y,\n",
    "                            epochs=10, batch_size=100,\n",
    "                            validation_split=0.25)"
   ]
  },
  {
   "cell_type": "code",
   "execution_count": 36,
   "metadata": {},
   "outputs": [
    {
     "name": "stdout",
     "output_type": "stream",
     "text": [
      "cnn model3 train data accuracy: \n",
      "870/870 [==============================] - 11s 12ms/step - loss: 0.2617 - acc: 0.9875\n",
      "[0.2616937756538391, 0.9874600172042847]\n",
      "\n",
      "cnn model3 test data accuracy: \n",
      "225/225 [==============================] - 3s 13ms/step - loss: 0.4985 - acc: 0.8932\n",
      "[0.4984506666660309, 0.8931957483291626]\n"
     ]
    }
   ],
   "source": [
    "print(\"cnn model3 train data accuracy: \")\n",
    "print(cnn_model3.evaluate(train_X_reshaped, train_y))\n",
    "print()\n",
    "print(\"cnn model3 test data accuracy: \")\n",
    "print(cnn_model3.evaluate(test_X_reshaped, test_y))"
   ]
  },
  {
   "cell_type": "code",
   "execution_count": 37,
   "metadata": {},
   "outputs": [
    {
     "data": {
      "image/png": "[encoded data removed]",
      "text/plain": [
       "<Figure size 1000x500 with 2 Axes>"
      ]
     },
     "metadata": {},
     "output_type": "display_data"
    }
   ],
   "source": [
    "#plotting loss and accuracy of the best model from the three models\n",
    "plot_loss_and_accuracy(cnn_model2_results)"
   ]
  },
  {
   "attachments": {},
   "cell_type": "markdown",
   "metadata": {},
   "source": [
    "* Our best model from the three fitted models is the second model which had an acuracy score of 92% in the test test, but clearly it's overfitting and we'll see if regularization might help."
   ]
  },
  {
   "attachments": {},
   "cell_type": "markdown",
   "metadata": {},
   "source": [
    "### Tuning CNN Model"
   ]
  },
  {
   "cell_type": "code",
   "execution_count": 38,
   "metadata": {},
   "outputs": [
    {
     "name": "stdout",
     "output_type": "stream",
     "text": [
      "Epoch 1/10\n",
      "209/209 [==============================] - 35s 159ms/step - loss: 1.9241 - acc: 0.4518 - val_loss: 1.0842 - val_acc: 0.7449\n",
      "Epoch 2/10\n",
      "209/209 [==============================] - 32s 153ms/step - loss: 0.7762 - acc: 0.7847 - val_loss: 0.6319 - val_acc: 0.8836\n",
      "Epoch 3/10\n",
      "209/209 [==============================] - 32s 153ms/step - loss: 0.4215 - acc: 0.8895 - val_loss: 0.4651 - val_acc: 0.9310\n",
      "Epoch 4/10\n",
      "209/209 [==============================] - 34s 161ms/step - loss: 0.2596 - acc: 0.9421 - val_loss: 0.4255 - val_acc: 0.9438\n",
      "Epoch 5/10\n",
      "209/209 [==============================] - 33s 156ms/step - loss: 0.1696 - acc: 0.9665 - val_loss: 0.4102 - val_acc: 0.9471\n",
      "Epoch 6/10\n",
      "209/209 [==============================] - 33s 157ms/step - loss: 0.1291 - acc: 0.9757 - val_loss: 0.3887 - val_acc: 0.9501\n",
      "Epoch 7/10\n",
      "209/209 [==============================] - 32s 153ms/step - loss: 0.0965 - acc: 0.9847 - val_loss: 0.4149 - val_acc: 0.9504\n",
      "Epoch 8/10\n",
      "209/209 [==============================] - 33s 158ms/step - loss: 0.0815 - acc: 0.9879 - val_loss: 0.4083 - val_acc: 0.9513\n",
      "Epoch 9/10\n",
      "209/209 [==============================] - 33s 156ms/step - loss: 0.0699 - acc: 0.9897 - val_loss: 0.4153 - val_acc: 0.9503\n",
      "Epoch 10/10\n",
      "209/209 [==============================] - 33s 156ms/step - loss: 0.0604 - acc: 0.9912 - val_loss: 0.4299 - val_acc: 0.9507\n"
     ]
    }
   ],
   "source": [
    "#Adding Dropout and l2 and l1 regularization\n",
    "tuned_model = Sequential()\n",
    "tuned_model.add(layers.Conv2D(64, (3,3), activation=\"tanh\",\n",
    "                              kernel_regularizer = regularizers.l2(0.005),\n",
    "                              input_shape=(28,28,1)))\n",
    "tuned_model.add(layers.MaxPool2D((2,2)))\n",
    "tuned_model.add(layers.Dropout(0.3))\n",
    "tuned_model.add(layers.Conv2D(32, (3,3), activation=\"tanh\"))\n",
    "tuned_model.add(layers.MaxPooling2D((2,2)))\n",
    "tuned_model.add(layers.Dropout(0.3))\n",
    "tuned_model.add(layers.Flatten())\n",
    "tuned_model.add(layers.Dense(64, activation=\"tanh\"))\n",
    "tuned_model.add(layers.Dropout(0.25))\n",
    "tuned_model.add(layers.Dense(24, activation=\"softmax\"))\n",
    "\n",
    "#Compiling the model\n",
    "tuned_model.compile(loss=\"categorical_crossentropy\",\n",
    "                  optimizer=\"rmsprop\",\n",
    "                  metrics=[\"acc\"])\n",
    "\n",
    "#Fitting the model\n",
    "tuned_model_results = tuned_model.fit(train_X_reshaped, train_y,\n",
    "                                  epochs=10, batch_size=100,\n",
    "                                  validation_split=0.25)"
   ]
  },
  {
   "cell_type": "code",
   "execution_count": 39,
   "metadata": {},
   "outputs": [
    {
     "name": "stdout",
     "output_type": "stream",
     "text": [
      "tuned model train data accuracy: \n",
      "870/870 [==============================] - 11s 13ms/step - loss: 0.1232 - acc: 0.9877\n",
      "[0.123176209628582, 0.9876756072044373]\n",
      "\n",
      "tuned model test data accuracy: \n",
      "225/225 [==============================] - 3s 12ms/step - loss: 0.2383 - acc: 0.9308\n",
      "[0.23825703561306, 0.9308421611785889]\n"
     ]
    }
   ],
   "source": [
    "print(\"tuned model train data accuracy: \")\n",
    "print(tuned_model.evaluate(train_X_reshaped, train_y))\n",
    "print()\n",
    "print(\"tuned model test data accuracy: \")\n",
    "print(tuned_model.evaluate(test_X_reshaped, test_y))"
   ]
  },
  {
   "attachments": {},
   "cell_type": "markdown",
   "metadata": {},
   "source": [
    "* After reguralization the model improved to 93% accuracy with the test data"
   ]
  },
  {
   "cell_type": "code",
   "execution_count": 41,
   "metadata": {},
   "outputs": [],
   "source": [
    "#Saving the tuned model\n",
    "# with open(\"CNN.pkl\", \"wb\") as f:\n",
    "#     joblib.dump(tuned_model, f)"
   ]
  },
  {
   "cell_type": "code",
   "execution_count": 42,
   "metadata": {},
   "outputs": [],
   "source": [
    "# Reloading the model\n",
    "with open(\"CNN.pkl\", \"rb\") as f:\n",
    "    model = joblib.load(f)"
   ]
  },
  {
   "cell_type": "code",
   "execution_count": 53,
   "metadata": {},
   "outputs": [
    {
     "name": "stdout",
     "output_type": "stream",
     "text": [
      "225/225 [==============================] - 2s 9ms/step\n"
     ]
    }
   ],
   "source": [
    "#Making Predictions\n",
    "predictions = model.predict(test_X_reshaped)\n",
    "pred_labels = pd.Series([np.argmax(x) for x in predictions])"
   ]
  },
  {
   "cell_type": "code",
   "execution_count": 54,
   "metadata": {},
   "outputs": [
    {
     "data": {
      "image/png": "[encoded data removed]",
      "text/plain": [
       "<Figure size 800x1000 with 10 Axes>"
      ]
     },
     "metadata": {},
     "output_type": "display_data"
    }
   ],
   "source": [
    "#displaying images\n",
    "# Extract pixel values and labels\n",
    "pixel_columns = test.columns[1:]  # Exclude the label column\n",
    "pixel_values = test[pixel_columns].values\n",
    "labels = test['label'].values\n",
    "pred_labels = pred_labels.values\n",
    "\n",
    "# Display images\n",
    "fig, axes = plt.subplots(5, 2, figsize=(8, 10))\n",
    "fig.tight_layout()\n",
    "\n",
    "# Display images\n",
    "for i in range(10):\n",
    "    row = i // 2  # Calculate the row index\n",
    "    col = i % 2   # Calculate the column index\n",
    "    pixel_array = pixel_values[i].reshape(28, 28)  # Assuming the original image size is 28x28\n",
    "    # Display image on the corresponding subplot\n",
    "    axes[row, col].imshow(pixel_array, cmap='gray')\n",
    "    axes[row, col].set_title(f\"Label: {labels[i]} pred: {pred_labels[i]}\")\n",
    "    axes[row, col].axis('off')\n",
    "    \n",
    "# Show the plot\n",
    "plt.show()"
   ]
  },
  {
   "cell_type": "code",
   "execution_count": null,
   "metadata": {},
   "outputs": [],
   "source": []
  },
  {
   "cell_type": "code",
   "execution_count": null,
   "metadata": {},
   "outputs": [],
   "source": []
  },
  {
   "cell_type": "code",
   "execution_count": null,
   "metadata": {},
   "outputs": [],
   "source": []
  },
  {
   "cell_type": "code",
   "execution_count": null,
   "metadata": {},
   "outputs": [],
   "source": [
    "# # Fitting a CNN model\n",
    "# cnn_model3 = Sequential()\n",
    "# cnn_model3.add(layers.Conv2D(64, (3,3), activation=\"relu\", input_shape=(28,28,1)))\n",
    "# cnn_model3.add(layers.MaxPool2D((2,2)))\n",
    "# cnn_model.add(layers.Conv2D(32, (3,3), activation=\"relu\"))\n",
    "# cnn_model.add(layers.MaxPooling2D((2,2)))\n",
    "# cnn_model.add(layers.Flatten())\n",
    "# cnn_model.add(layers.Dense(64, activation=\"relu\"))\n",
    "# cnn_model.add(layers.Dense(24, activation=\"softmax\"))\n",
    "\n",
    "# #Compiling the model\n",
    "# cnn_model.compile(loss=\"categorical_crossentropy\",\n",
    "#                   optimizer=\"rmsprop\",\n",
    "#                   metrics=[\"acc\"])\n",
    "\n",
    "# #Fitting the model\n",
    "# cnn_model_results = cnn_model.fit(train_X_reshaped, train_y,\n",
    "#                                   epochs=10, batch_size=100,\n",
    "#                                   validation_split=0.25)"
   ]
  },
  {
   "cell_type": "code",
   "execution_count": null,
   "metadata": {},
   "outputs": [],
   "source": [
    "# plt.figure(figsize=(10, 10))\n",
    "# for images, labels in test.take(1):\n",
    "#   classification = model(images)\n",
    "#   print(classification)\n",
    "#   for i in range(9):\n",
    "#     ax = plt.subplot(3, 3, i + 1)\n",
    "#     plt.imshow(images[i].numpy().astype(\"uint8\"))\n",
    "#     index = np.argmax(classification[i])\n",
    "#     plt.title(\"Pred: \" + class_names[index] + \" | Real: \" + class_names[labels[i]])"
   ]
  },
  {
   "cell_type": "code",
   "execution_count": null,
   "metadata": {},
   "outputs": [],
   "source": [
    "# fig, axs = plt.subplots(nrows=5, ncols=5, figsize=(8,8))\n",
    "# train_len = X_train.shape[0]\n",
    "\n",
    "# for ax in axs.reshape(-1):\n",
    "#     idx = np.random.randint(train_len)\n",
    "#     ax.set_title(label_map[y_train[idx]], size=10)\n",
    "#     ax.axis('off')\n",
    "#     ax.imshow(X_train[idx].reshape((28,28)), cmap='gray')"
   ]
  },
  {
   "cell_type": "code",
   "execution_count": null,
   "metadata": {},
   "outputs": [],
   "source": [
    "# Viewing 10 images from the dataset\n",
    "# fig, axes = plt.subplots(nrows=2, ncols=5, figsize=(12, 6))\n",
    "# axes = axes.flatten()\n",
    "\n",
    "# for i in range(10):\n",
    "#     img = train_images[i]\n",
    "#     label = train_labels[i]\n",
    "    \n",
    "#     axes[i].imshow(img)\n",
    "#     axes[i].set_title(f\"Label: {label}\")\n",
    "#     axes[i].axis('off')\n",
    "\n",
    "# plt.tight_layout()\n",
    "# plt.show()"
   ]
  }
 ],
 "metadata": {
  "kernelspec": {
   "display_name": "Python 3 (ipykernel)",
   "language": "python",
   "name": "python3"
  },
  "language_info": {
   "codemirror_mode": {
    "name": "ipython",
    "version": 3
   },
   "file_extension": ".py",
   "mimetype": "text/x-python",
   "name": "python",
   "nbconvert_exporter": "python",
   "pygments_lexer": "ipython3",
   "version": "3.11.3"
  }
 },
 "nbformat": 4,
 "nbformat_minor": 2
}
